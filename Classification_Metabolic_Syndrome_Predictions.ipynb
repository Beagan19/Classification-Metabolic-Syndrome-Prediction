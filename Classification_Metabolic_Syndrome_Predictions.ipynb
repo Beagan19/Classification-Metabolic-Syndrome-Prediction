{
  "cells": [
    {
      "cell_type": "markdown",
      "metadata": {
        "id": "view-in-github",
        "colab_type": "text"
      },
      "source": [
        "<a href=\"https://colab.research.google.com/github/Beagan19/Classification-Metabolic-Syndrome-Prediction/blob/main/Classification_Metabolic_Syndrome_Predictions.ipynb\" target=\"_parent\"><img src=\"https://colab.research.google.com/assets/colab-badge.svg\" alt=\"Open In Colab\"/></a>"
      ]
    },
    {
      "cell_type": "markdown",
      "metadata": {
        "id": "8kX2FVmlAvG7"
      },
      "source": [
        "# Classification Metabolic Syndrome Predictions\n",
        "Brooke Eagan"
      ]
    },
    {
      "cell_type": "markdown",
      "metadata": {
        "id": "K9T1DiU7Ai5r"
      },
      "source": [
        "## Load Data"
      ]
    },
    {
      "cell_type": "code",
      "execution_count": 1,
      "metadata": {
        "colab": {
          "base_uri": "https://localhost:8080/"
        },
        "id": "8TOx1RW4DdY7",
        "outputId": "2c11eefd-cad2-4fcb-bb1e-41c4806caa1f"
      },
      "outputs": [
        {
          "output_type": "stream",
          "name": "stdout",
          "text": [
            "Drive already mounted at /content/drive; to attempt to forcibly remount, call drive.mount(\"/content/drive\", force_remount=True).\n"
          ]
        }
      ],
      "source": [
        "from google.colab import drive\n",
        "drive.mount('/content/drive')"
      ]
    },
    {
      "cell_type": "code",
      "execution_count": 2,
      "metadata": {
        "id": "y3v0ba3tDksA"
      },
      "outputs": [],
      "source": [
        "## Pandas\n",
        "import pandas as pd\n",
        "## Numpy\n",
        "import numpy as np\n",
        "## MatplotLib\n",
        "import matplotlib.pyplot as plt\n",
        "## Seaborn\n",
        "import seaborn as sns\n",
        "\n",
        "from scipy import stats\n",
        "\n",
        "## Preprocessing\n",
        "from sklearn.model_selection import train_test_split\n",
        "from sklearn.compose import make_column_selector \n",
        "from sklearn.impute import SimpleImputer\n",
        "from sklearn.preprocessing import StandardScaler, OneHotEncoder\n",
        "from sklearn.pipeline import make_pipeline\n",
        "from sklearn.compose import ColumnTransformer, make_column_transformer\n",
        "from sklearn.decomposition import PCA\n",
        "from sklearn.pipeline import Pipeline\n",
        "## Models\n",
        "from sklearn.dummy import DummyClassifier\n",
        "from sklearn.linear_model import LogisticRegression\n",
        "from sklearn.ensemble import RandomForestClassifier\n",
        "from sklearn.model_selection import GridSearchCV\n",
        "\n",
        "## Classification Metrics\n",
        "from sklearn.metrics import (roc_auc_score, ConfusionMatrixDisplay, \n",
        "                             PrecisionRecallDisplay, RocCurveDisplay, \n",
        "                             f1_score, accuracy_score, classification_report)\n",
        "\n",
        "\n",
        "## Set global scikit-learn configuration \n",
        "from sklearn import set_config\n",
        "## Display estimators as a diagram\n",
        "set_config(display='diagram') # 'text' or 'diagram'}"
      ]
    },
    {
      "cell_type": "code",
      "execution_count": 3,
      "metadata": {
        "id": "IZWUXpmnFa77"
      },
      "outputs": [],
      "source": [
        "## Create a function to display the classification metrics of a model\n",
        "def classification_metrics(model, X_test, y_test, label='Test Data', \n",
        "                             figsize=(15,5), normalize='true',\n",
        "                             cmap='Greens'): \n",
        "                             \n",
        "    fig, axes = plt.subplots(1,2, figsize=figsize)\n",
        "\n",
        "    ## Get the predictions\n",
        "    y_pred = model.predict(X_test)\n",
        "     \n",
        "   ## Print classification report for the test data (and make it pretty!)\n",
        "    print('---'*20)\n",
        "    print(f\"[i] CLASSIFICATION REPORT FOR: {label}\")\n",
        "    print('---'*20)\n",
        "\n",
        "    print(classification_report(y_test, y_pred))\n",
        "\n",
        "    ConfusionMatrixDisplay.from_predictions(y_test,y_pred, \n",
        "                normalize=normalize, cmap=cmap,              \n",
        "                ax=axes[0])    \n",
        "    \n",
        "    RocCurveDisplay.from_estimator(model, X_test, y_test,\n",
        "                                   ax=axes[1])\n",
        "    plt.show()"
      ]
    },
    {
      "cell_type": "code",
      "execution_count": 4,
      "metadata": {
        "id": "bwnLFqBkXCvo"
      },
      "outputs": [],
      "source": [
        "# Create a function to display supplemental statistics \n",
        "def outlier_statistics(df, column_name):\n",
        "    \n",
        "    # Determine Outliers - Only if this is a numeric column\n",
        "    if (df[column_name].dtype == 'int64') | (df[column_name].dtype == 'float64'):\n",
        "        # Create outlier filters\n",
        "        q1 = df[column_name].quantile(0.25) # 25th percentile\n",
        "        q3 = df[column_name].quantile(0.75) # 75th percentile\n",
        "        iqr = q3 - q1 # Interquartile range\n",
        "        low_limit = q1 - (1.5 * iqr) # low limit\n",
        "        high_limit = q3 + (1.5 * iqr) # high limit\n",
        "        # Create outlier dataframes\n",
        "        low_df = df[(df[column_name] < low_limit)]\n",
        "        high_df = df[(df[column_name] > high_limit)]\n",
        "        # Calculate the outlier counts and percentages\n",
        "        low_oulier_count = low_df.shape[0]\n",
        "        low_outlier_percentge = round(((low_oulier_count)/(df.shape[0])*100),1)\n",
        "        high_oulier_count = high_df.shape[0]\n",
        "        high_outlier_percentge = round(((high_oulier_count)/(df.shape[0])*100),1)\n",
        "        # Display the outlier counts.\n",
        "        print(f'Outliers: {low_oulier_count} ({low_outlier_percentge})% low, {high_oulier_count} ({high_outlier_percentge})% high')"
      ]
    },
    {
      "cell_type": "code",
      "execution_count": 5,
      "metadata": {
        "id": "EaLvjfPtDo5h"
      },
      "outputs": [],
      "source": [
        "metabolic_df = pd.read_csv('/content/drive/MyDrive/Project 2- ML/Metabolic Syndrome.csv')"
      ]
    },
    {
      "cell_type": "code",
      "execution_count": 6,
      "metadata": {
        "colab": {
          "base_uri": "https://localhost:8080/",
          "height": 206
        },
        "id": "jVMn402EDscn",
        "outputId": "c4918567-ccdd-4fcf-8370-974248f51463"
      },
      "outputs": [
        {
          "output_type": "execute_result",
          "data": {
            "text/plain": [
              "    seqn  Age     Sex  Marital  Income   Race  WaistCirc   BMI  Albuminuria  \\\n",
              "0  62161   22    Male   Single  8200.0  White       81.0  23.3            0   \n",
              "1  62164   44  Female  Married  4500.0  White       80.1  23.2            0   \n",
              "2  62169   21    Male   Single   800.0  Asian       69.6  20.1            0   \n",
              "3  62172   43  Female   Single  2000.0  Black      120.4  33.3            0   \n",
              "4  62177   51    Male  Married     NaN  Asian       81.1  20.1            0   \n",
              "\n",
              "   UrAlbCr  UricAcid  BloodGlucose  HDL  Triglycerides MetabolicSyndrome  \n",
              "0     3.88       4.9            92   41             84         No MetSyn  \n",
              "1     8.55       4.5            82   28             56         No MetSyn  \n",
              "2     5.07       5.4           107   43             78         No MetSyn  \n",
              "3     5.22       5.0           104   73            141         No MetSyn  \n",
              "4     8.13       5.0            95   43            126         No MetSyn  "
            ],
            "text/html": [
              "\n",
              "  <div id=\"df-ec89aece-c223-470e-810a-d9ca846ca075\">\n",
              "    <div class=\"colab-df-container\">\n",
              "      <div>\n",
              "<style scoped>\n",
              "    .dataframe tbody tr th:only-of-type {\n",
              "        vertical-align: middle;\n",
              "    }\n",
              "\n",
              "    .dataframe tbody tr th {\n",
              "        vertical-align: top;\n",
              "    }\n",
              "\n",
              "    .dataframe thead th {\n",
              "        text-align: right;\n",
              "    }\n",
              "</style>\n",
              "<table border=\"1\" class=\"dataframe\">\n",
              "  <thead>\n",
              "    <tr style=\"text-align: right;\">\n",
              "      <th></th>\n",
              "      <th>seqn</th>\n",
              "      <th>Age</th>\n",
              "      <th>Sex</th>\n",
              "      <th>Marital</th>\n",
              "      <th>Income</th>\n",
              "      <th>Race</th>\n",
              "      <th>WaistCirc</th>\n",
              "      <th>BMI</th>\n",
              "      <th>Albuminuria</th>\n",
              "      <th>UrAlbCr</th>\n",
              "      <th>UricAcid</th>\n",
              "      <th>BloodGlucose</th>\n",
              "      <th>HDL</th>\n",
              "      <th>Triglycerides</th>\n",
              "      <th>MetabolicSyndrome</th>\n",
              "    </tr>\n",
              "  </thead>\n",
              "  <tbody>\n",
              "    <tr>\n",
              "      <th>0</th>\n",
              "      <td>62161</td>\n",
              "      <td>22</td>\n",
              "      <td>Male</td>\n",
              "      <td>Single</td>\n",
              "      <td>8200.0</td>\n",
              "      <td>White</td>\n",
              "      <td>81.0</td>\n",
              "      <td>23.3</td>\n",
              "      <td>0</td>\n",
              "      <td>3.88</td>\n",
              "      <td>4.9</td>\n",
              "      <td>92</td>\n",
              "      <td>41</td>\n",
              "      <td>84</td>\n",
              "      <td>No MetSyn</td>\n",
              "    </tr>\n",
              "    <tr>\n",
              "      <th>1</th>\n",
              "      <td>62164</td>\n",
              "      <td>44</td>\n",
              "      <td>Female</td>\n",
              "      <td>Married</td>\n",
              "      <td>4500.0</td>\n",
              "      <td>White</td>\n",
              "      <td>80.1</td>\n",
              "      <td>23.2</td>\n",
              "      <td>0</td>\n",
              "      <td>8.55</td>\n",
              "      <td>4.5</td>\n",
              "      <td>82</td>\n",
              "      <td>28</td>\n",
              "      <td>56</td>\n",
              "      <td>No MetSyn</td>\n",
              "    </tr>\n",
              "    <tr>\n",
              "      <th>2</th>\n",
              "      <td>62169</td>\n",
              "      <td>21</td>\n",
              "      <td>Male</td>\n",
              "      <td>Single</td>\n",
              "      <td>800.0</td>\n",
              "      <td>Asian</td>\n",
              "      <td>69.6</td>\n",
              "      <td>20.1</td>\n",
              "      <td>0</td>\n",
              "      <td>5.07</td>\n",
              "      <td>5.4</td>\n",
              "      <td>107</td>\n",
              "      <td>43</td>\n",
              "      <td>78</td>\n",
              "      <td>No MetSyn</td>\n",
              "    </tr>\n",
              "    <tr>\n",
              "      <th>3</th>\n",
              "      <td>62172</td>\n",
              "      <td>43</td>\n",
              "      <td>Female</td>\n",
              "      <td>Single</td>\n",
              "      <td>2000.0</td>\n",
              "      <td>Black</td>\n",
              "      <td>120.4</td>\n",
              "      <td>33.3</td>\n",
              "      <td>0</td>\n",
              "      <td>5.22</td>\n",
              "      <td>5.0</td>\n",
              "      <td>104</td>\n",
              "      <td>73</td>\n",
              "      <td>141</td>\n",
              "      <td>No MetSyn</td>\n",
              "    </tr>\n",
              "    <tr>\n",
              "      <th>4</th>\n",
              "      <td>62177</td>\n",
              "      <td>51</td>\n",
              "      <td>Male</td>\n",
              "      <td>Married</td>\n",
              "      <td>NaN</td>\n",
              "      <td>Asian</td>\n",
              "      <td>81.1</td>\n",
              "      <td>20.1</td>\n",
              "      <td>0</td>\n",
              "      <td>8.13</td>\n",
              "      <td>5.0</td>\n",
              "      <td>95</td>\n",
              "      <td>43</td>\n",
              "      <td>126</td>\n",
              "      <td>No MetSyn</td>\n",
              "    </tr>\n",
              "  </tbody>\n",
              "</table>\n",
              "</div>\n",
              "      <button class=\"colab-df-convert\" onclick=\"convertToInteractive('df-ec89aece-c223-470e-810a-d9ca846ca075')\"\n",
              "              title=\"Convert this dataframe to an interactive table.\"\n",
              "              style=\"display:none;\">\n",
              "        \n",
              "  <svg xmlns=\"http://www.w3.org/2000/svg\" height=\"24px\"viewBox=\"0 0 24 24\"\n",
              "       width=\"24px\">\n",
              "    <path d=\"M0 0h24v24H0V0z\" fill=\"none\"/>\n",
              "    <path d=\"M18.56 5.44l.94 2.06.94-2.06 2.06-.94-2.06-.94-.94-2.06-.94 2.06-2.06.94zm-11 1L8.5 8.5l.94-2.06 2.06-.94-2.06-.94L8.5 2.5l-.94 2.06-2.06.94zm10 10l.94 2.06.94-2.06 2.06-.94-2.06-.94-.94-2.06-.94 2.06-2.06.94z\"/><path d=\"M17.41 7.96l-1.37-1.37c-.4-.4-.92-.59-1.43-.59-.52 0-1.04.2-1.43.59L10.3 9.45l-7.72 7.72c-.78.78-.78 2.05 0 2.83L4 21.41c.39.39.9.59 1.41.59.51 0 1.02-.2 1.41-.59l7.78-7.78 2.81-2.81c.8-.78.8-2.07 0-2.86zM5.41 20L4 18.59l7.72-7.72 1.47 1.35L5.41 20z\"/>\n",
              "  </svg>\n",
              "      </button>\n",
              "      \n",
              "  <style>\n",
              "    .colab-df-container {\n",
              "      display:flex;\n",
              "      flex-wrap:wrap;\n",
              "      gap: 12px;\n",
              "    }\n",
              "\n",
              "    .colab-df-convert {\n",
              "      background-color: #E8F0FE;\n",
              "      border: none;\n",
              "      border-radius: 50%;\n",
              "      cursor: pointer;\n",
              "      display: none;\n",
              "      fill: #1967D2;\n",
              "      height: 32px;\n",
              "      padding: 0 0 0 0;\n",
              "      width: 32px;\n",
              "    }\n",
              "\n",
              "    .colab-df-convert:hover {\n",
              "      background-color: #E2EBFA;\n",
              "      box-shadow: 0px 1px 2px rgba(60, 64, 67, 0.3), 0px 1px 3px 1px rgba(60, 64, 67, 0.15);\n",
              "      fill: #174EA6;\n",
              "    }\n",
              "\n",
              "    [theme=dark] .colab-df-convert {\n",
              "      background-color: #3B4455;\n",
              "      fill: #D2E3FC;\n",
              "    }\n",
              "\n",
              "    [theme=dark] .colab-df-convert:hover {\n",
              "      background-color: #434B5C;\n",
              "      box-shadow: 0px 1px 3px 1px rgba(0, 0, 0, 0.15);\n",
              "      filter: drop-shadow(0px 1px 2px rgba(0, 0, 0, 0.3));\n",
              "      fill: #FFFFFF;\n",
              "    }\n",
              "  </style>\n",
              "\n",
              "      <script>\n",
              "        const buttonEl =\n",
              "          document.querySelector('#df-ec89aece-c223-470e-810a-d9ca846ca075 button.colab-df-convert');\n",
              "        buttonEl.style.display =\n",
              "          google.colab.kernel.accessAllowed ? 'block' : 'none';\n",
              "\n",
              "        async function convertToInteractive(key) {\n",
              "          const element = document.querySelector('#df-ec89aece-c223-470e-810a-d9ca846ca075');\n",
              "          const dataTable =\n",
              "            await google.colab.kernel.invokeFunction('convertToInteractive',\n",
              "                                                     [key], {});\n",
              "          if (!dataTable) return;\n",
              "\n",
              "          const docLinkHtml = 'Like what you see? Visit the ' +\n",
              "            '<a target=\"_blank\" href=https://colab.research.google.com/notebooks/data_table.ipynb>data table notebook</a>'\n",
              "            + ' to learn more about interactive tables.';\n",
              "          element.innerHTML = '';\n",
              "          dataTable['output_type'] = 'display_data';\n",
              "          await google.colab.output.renderOutput(dataTable, element);\n",
              "          const docLink = document.createElement('div');\n",
              "          docLink.innerHTML = docLinkHtml;\n",
              "          element.appendChild(docLink);\n",
              "        }\n",
              "      </script>\n",
              "    </div>\n",
              "  </div>\n",
              "  "
            ]
          },
          "metadata": {},
          "execution_count": 6
        }
      ],
      "source": [
        "metabolic_df.head()"
      ]
    },
    {
      "cell_type": "code",
      "execution_count": 7,
      "metadata": {
        "colab": {
          "base_uri": "https://localhost:8080/"
        },
        "id": "--VOqf8uDwWY",
        "outputId": "c65fca89-d493-4b44-c5e9-c303e64dff7b"
      },
      "outputs": [
        {
          "output_type": "stream",
          "name": "stdout",
          "text": [
            "<class 'pandas.core.frame.DataFrame'>\n",
            "RangeIndex: 2401 entries, 0 to 2400\n",
            "Data columns (total 15 columns):\n",
            " #   Column             Non-Null Count  Dtype  \n",
            "---  ------             --------------  -----  \n",
            " 0   seqn               2401 non-null   int64  \n",
            " 1   Age                2401 non-null   int64  \n",
            " 2   Sex                2401 non-null   object \n",
            " 3   Marital            2193 non-null   object \n",
            " 4   Income             2284 non-null   float64\n",
            " 5   Race               2401 non-null   object \n",
            " 6   WaistCirc          2316 non-null   float64\n",
            " 7   BMI                2375 non-null   float64\n",
            " 8   Albuminuria        2401 non-null   int64  \n",
            " 9   UrAlbCr            2401 non-null   float64\n",
            " 10  UricAcid           2401 non-null   float64\n",
            " 11  BloodGlucose       2401 non-null   int64  \n",
            " 12  HDL                2401 non-null   int64  \n",
            " 13  Triglycerides      2401 non-null   int64  \n",
            " 14  MetabolicSyndrome  2401 non-null   object \n",
            "dtypes: float64(5), int64(6), object(4)\n",
            "memory usage: 281.5+ KB\n"
          ]
        }
      ],
      "source": [
        "metabolic_df.info()"
      ]
    },
    {
      "cell_type": "code",
      "execution_count": 8,
      "metadata": {
        "colab": {
          "base_uri": "https://localhost:8080/"
        },
        "id": "Od2FObRkEF_x",
        "outputId": "5914a2c5-a3fd-4fd5-e08b-524750139a69"
      },
      "outputs": [
        {
          "output_type": "stream",
          "name": "stdout",
          "text": [
            "There are 2401 rows, and 15 columns.\n",
            "The rows represent 2401 observations, and the columns represent 14 features and 1 target variable.\n"
          ]
        }
      ],
      "source": [
        "# Display the number of rows and columns for the dataframe\n",
        "metabolic_df.shape\n",
        "print(f'There are {metabolic_df.shape[0]} rows, and {metabolic_df.shape[1]} columns.')\n",
        "print(f'The rows represent {metabolic_df.shape[0]} observations, and the columns represent {metabolic_df.shape[1]-1} features and 1 target variable.')"
      ]
    },
    {
      "cell_type": "code",
      "execution_count": 9,
      "metadata": {
        "colab": {
          "base_uri": "https://localhost:8080/",
          "height": 300
        },
        "id": "fbi1f1LnEg-Y",
        "outputId": "eadd009c-83e8-4760-f1ca-bb02d3e71c4f"
      },
      "outputs": [
        {
          "output_type": "execute_result",
          "data": {
            "text/plain": [
              "               seqn          Age       Income    WaistCirc          BMI  \\\n",
              "count   2401.000000  2401.000000  2284.000000  2316.000000  2375.000000   \n",
              "mean   67030.674302    48.691795  4005.253940    98.307254    28.702189   \n",
              "std     2823.565114    17.632852  2954.032186    16.252634     6.662242   \n",
              "min    62161.000000    20.000000   300.000000    56.200000    13.400000   \n",
              "25%    64591.000000    34.000000  1600.000000    86.675000    24.000000   \n",
              "50%    67059.000000    48.000000  2500.000000    97.000000    27.700000   \n",
              "75%    69495.000000    63.000000  6200.000000   107.625000    32.100000   \n",
              "max    71915.000000    80.000000  9000.000000   176.000000    68.700000   \n",
              "\n",
              "       Albuminuria      UrAlbCr     UricAcid  BloodGlucose          HDL  \\\n",
              "count  2401.000000  2401.000000  2401.000000   2401.000000  2401.000000   \n",
              "mean      0.154102    43.626131     5.489046    108.247813    53.369429   \n",
              "std       0.422780   258.272829     1.439358     34.820657    15.185537   \n",
              "min       0.000000     1.400000     1.800000     39.000000    14.000000   \n",
              "25%       0.000000     4.450000     4.500000     92.000000    43.000000   \n",
              "50%       0.000000     7.070000     5.400000     99.000000    51.000000   \n",
              "75%       0.000000    13.690000     6.400000    110.000000    62.000000   \n",
              "max       2.000000  5928.000000    11.300000    382.000000   156.000000   \n",
              "\n",
              "       Triglycerides  \n",
              "count    2401.000000  \n",
              "mean      128.125364  \n",
              "std        95.322477  \n",
              "min        26.000000  \n",
              "25%        75.000000  \n",
              "50%       103.000000  \n",
              "75%       150.000000  \n",
              "max      1562.000000  "
            ],
            "text/html": [
              "\n",
              "  <div id=\"df-cf6569fa-610e-4825-acd8-450acdf7b7d8\">\n",
              "    <div class=\"colab-df-container\">\n",
              "      <div>\n",
              "<style scoped>\n",
              "    .dataframe tbody tr th:only-of-type {\n",
              "        vertical-align: middle;\n",
              "    }\n",
              "\n",
              "    .dataframe tbody tr th {\n",
              "        vertical-align: top;\n",
              "    }\n",
              "\n",
              "    .dataframe thead th {\n",
              "        text-align: right;\n",
              "    }\n",
              "</style>\n",
              "<table border=\"1\" class=\"dataframe\">\n",
              "  <thead>\n",
              "    <tr style=\"text-align: right;\">\n",
              "      <th></th>\n",
              "      <th>seqn</th>\n",
              "      <th>Age</th>\n",
              "      <th>Income</th>\n",
              "      <th>WaistCirc</th>\n",
              "      <th>BMI</th>\n",
              "      <th>Albuminuria</th>\n",
              "      <th>UrAlbCr</th>\n",
              "      <th>UricAcid</th>\n",
              "      <th>BloodGlucose</th>\n",
              "      <th>HDL</th>\n",
              "      <th>Triglycerides</th>\n",
              "    </tr>\n",
              "  </thead>\n",
              "  <tbody>\n",
              "    <tr>\n",
              "      <th>count</th>\n",
              "      <td>2401.000000</td>\n",
              "      <td>2401.000000</td>\n",
              "      <td>2284.000000</td>\n",
              "      <td>2316.000000</td>\n",
              "      <td>2375.000000</td>\n",
              "      <td>2401.000000</td>\n",
              "      <td>2401.000000</td>\n",
              "      <td>2401.000000</td>\n",
              "      <td>2401.000000</td>\n",
              "      <td>2401.000000</td>\n",
              "      <td>2401.000000</td>\n",
              "    </tr>\n",
              "    <tr>\n",
              "      <th>mean</th>\n",
              "      <td>67030.674302</td>\n",
              "      <td>48.691795</td>\n",
              "      <td>4005.253940</td>\n",
              "      <td>98.307254</td>\n",
              "      <td>28.702189</td>\n",
              "      <td>0.154102</td>\n",
              "      <td>43.626131</td>\n",
              "      <td>5.489046</td>\n",
              "      <td>108.247813</td>\n",
              "      <td>53.369429</td>\n",
              "      <td>128.125364</td>\n",
              "    </tr>\n",
              "    <tr>\n",
              "      <th>std</th>\n",
              "      <td>2823.565114</td>\n",
              "      <td>17.632852</td>\n",
              "      <td>2954.032186</td>\n",
              "      <td>16.252634</td>\n",
              "      <td>6.662242</td>\n",
              "      <td>0.422780</td>\n",
              "      <td>258.272829</td>\n",
              "      <td>1.439358</td>\n",
              "      <td>34.820657</td>\n",
              "      <td>15.185537</td>\n",
              "      <td>95.322477</td>\n",
              "    </tr>\n",
              "    <tr>\n",
              "      <th>min</th>\n",
              "      <td>62161.000000</td>\n",
              "      <td>20.000000</td>\n",
              "      <td>300.000000</td>\n",
              "      <td>56.200000</td>\n",
              "      <td>13.400000</td>\n",
              "      <td>0.000000</td>\n",
              "      <td>1.400000</td>\n",
              "      <td>1.800000</td>\n",
              "      <td>39.000000</td>\n",
              "      <td>14.000000</td>\n",
              "      <td>26.000000</td>\n",
              "    </tr>\n",
              "    <tr>\n",
              "      <th>25%</th>\n",
              "      <td>64591.000000</td>\n",
              "      <td>34.000000</td>\n",
              "      <td>1600.000000</td>\n",
              "      <td>86.675000</td>\n",
              "      <td>24.000000</td>\n",
              "      <td>0.000000</td>\n",
              "      <td>4.450000</td>\n",
              "      <td>4.500000</td>\n",
              "      <td>92.000000</td>\n",
              "      <td>43.000000</td>\n",
              "      <td>75.000000</td>\n",
              "    </tr>\n",
              "    <tr>\n",
              "      <th>50%</th>\n",
              "      <td>67059.000000</td>\n",
              "      <td>48.000000</td>\n",
              "      <td>2500.000000</td>\n",
              "      <td>97.000000</td>\n",
              "      <td>27.700000</td>\n",
              "      <td>0.000000</td>\n",
              "      <td>7.070000</td>\n",
              "      <td>5.400000</td>\n",
              "      <td>99.000000</td>\n",
              "      <td>51.000000</td>\n",
              "      <td>103.000000</td>\n",
              "    </tr>\n",
              "    <tr>\n",
              "      <th>75%</th>\n",
              "      <td>69495.000000</td>\n",
              "      <td>63.000000</td>\n",
              "      <td>6200.000000</td>\n",
              "      <td>107.625000</td>\n",
              "      <td>32.100000</td>\n",
              "      <td>0.000000</td>\n",
              "      <td>13.690000</td>\n",
              "      <td>6.400000</td>\n",
              "      <td>110.000000</td>\n",
              "      <td>62.000000</td>\n",
              "      <td>150.000000</td>\n",
              "    </tr>\n",
              "    <tr>\n",
              "      <th>max</th>\n",
              "      <td>71915.000000</td>\n",
              "      <td>80.000000</td>\n",
              "      <td>9000.000000</td>\n",
              "      <td>176.000000</td>\n",
              "      <td>68.700000</td>\n",
              "      <td>2.000000</td>\n",
              "      <td>5928.000000</td>\n",
              "      <td>11.300000</td>\n",
              "      <td>382.000000</td>\n",
              "      <td>156.000000</td>\n",
              "      <td>1562.000000</td>\n",
              "    </tr>\n",
              "  </tbody>\n",
              "</table>\n",
              "</div>\n",
              "      <button class=\"colab-df-convert\" onclick=\"convertToInteractive('df-cf6569fa-610e-4825-acd8-450acdf7b7d8')\"\n",
              "              title=\"Convert this dataframe to an interactive table.\"\n",
              "              style=\"display:none;\">\n",
              "        \n",
              "  <svg xmlns=\"http://www.w3.org/2000/svg\" height=\"24px\"viewBox=\"0 0 24 24\"\n",
              "       width=\"24px\">\n",
              "    <path d=\"M0 0h24v24H0V0z\" fill=\"none\"/>\n",
              "    <path d=\"M18.56 5.44l.94 2.06.94-2.06 2.06-.94-2.06-.94-.94-2.06-.94 2.06-2.06.94zm-11 1L8.5 8.5l.94-2.06 2.06-.94-2.06-.94L8.5 2.5l-.94 2.06-2.06.94zm10 10l.94 2.06.94-2.06 2.06-.94-2.06-.94-.94-2.06-.94 2.06-2.06.94z\"/><path d=\"M17.41 7.96l-1.37-1.37c-.4-.4-.92-.59-1.43-.59-.52 0-1.04.2-1.43.59L10.3 9.45l-7.72 7.72c-.78.78-.78 2.05 0 2.83L4 21.41c.39.39.9.59 1.41.59.51 0 1.02-.2 1.41-.59l7.78-7.78 2.81-2.81c.8-.78.8-2.07 0-2.86zM5.41 20L4 18.59l7.72-7.72 1.47 1.35L5.41 20z\"/>\n",
              "  </svg>\n",
              "      </button>\n",
              "      \n",
              "  <style>\n",
              "    .colab-df-container {\n",
              "      display:flex;\n",
              "      flex-wrap:wrap;\n",
              "      gap: 12px;\n",
              "    }\n",
              "\n",
              "    .colab-df-convert {\n",
              "      background-color: #E8F0FE;\n",
              "      border: none;\n",
              "      border-radius: 50%;\n",
              "      cursor: pointer;\n",
              "      display: none;\n",
              "      fill: #1967D2;\n",
              "      height: 32px;\n",
              "      padding: 0 0 0 0;\n",
              "      width: 32px;\n",
              "    }\n",
              "\n",
              "    .colab-df-convert:hover {\n",
              "      background-color: #E2EBFA;\n",
              "      box-shadow: 0px 1px 2px rgba(60, 64, 67, 0.3), 0px 1px 3px 1px rgba(60, 64, 67, 0.15);\n",
              "      fill: #174EA6;\n",
              "    }\n",
              "\n",
              "    [theme=dark] .colab-df-convert {\n",
              "      background-color: #3B4455;\n",
              "      fill: #D2E3FC;\n",
              "    }\n",
              "\n",
              "    [theme=dark] .colab-df-convert:hover {\n",
              "      background-color: #434B5C;\n",
              "      box-shadow: 0px 1px 3px 1px rgba(0, 0, 0, 0.15);\n",
              "      filter: drop-shadow(0px 1px 2px rgba(0, 0, 0, 0.3));\n",
              "      fill: #FFFFFF;\n",
              "    }\n",
              "  </style>\n",
              "\n",
              "      <script>\n",
              "        const buttonEl =\n",
              "          document.querySelector('#df-cf6569fa-610e-4825-acd8-450acdf7b7d8 button.colab-df-convert');\n",
              "        buttonEl.style.display =\n",
              "          google.colab.kernel.accessAllowed ? 'block' : 'none';\n",
              "\n",
              "        async function convertToInteractive(key) {\n",
              "          const element = document.querySelector('#df-cf6569fa-610e-4825-acd8-450acdf7b7d8');\n",
              "          const dataTable =\n",
              "            await google.colab.kernel.invokeFunction('convertToInteractive',\n",
              "                                                     [key], {});\n",
              "          if (!dataTable) return;\n",
              "\n",
              "          const docLinkHtml = 'Like what you see? Visit the ' +\n",
              "            '<a target=\"_blank\" href=https://colab.research.google.com/notebooks/data_table.ipynb>data table notebook</a>'\n",
              "            + ' to learn more about interactive tables.';\n",
              "          element.innerHTML = '';\n",
              "          dataTable['output_type'] = 'display_data';\n",
              "          await google.colab.output.renderOutput(dataTable, element);\n",
              "          const docLink = document.createElement('div');\n",
              "          docLink.innerHTML = docLinkHtml;\n",
              "          element.appendChild(docLink);\n",
              "        }\n",
              "      </script>\n",
              "    </div>\n",
              "  </div>\n",
              "  "
            ]
          },
          "metadata": {},
          "execution_count": 9
        }
      ],
      "source": [
        "# Display the descriptive statistics for the numeric columns\n",
        "metabolic_df.describe(include=\"number\")"
      ]
    },
    {
      "cell_type": "code",
      "execution_count": 10,
      "metadata": {
        "colab": {
          "base_uri": "https://localhost:8080/",
          "height": 174
        },
        "id": "TvzYsX_HKPQc",
        "outputId": "dd61d246-1958-474f-dd8d-8438593995d3"
      },
      "outputs": [
        {
          "output_type": "execute_result",
          "data": {
            "text/plain": [
              "           Sex  Marital   Race MetabolicSyndrome\n",
              "count     2401     2193   2401              2401\n",
              "unique       2        5      6                 2\n",
              "top     Female  Married  White         No MetSyn\n",
              "freq      1211     1192    933              1579"
            ],
            "text/html": [
              "\n",
              "  <div id=\"df-92c1622d-7333-47b3-b0fb-d0d11351b802\">\n",
              "    <div class=\"colab-df-container\">\n",
              "      <div>\n",
              "<style scoped>\n",
              "    .dataframe tbody tr th:only-of-type {\n",
              "        vertical-align: middle;\n",
              "    }\n",
              "\n",
              "    .dataframe tbody tr th {\n",
              "        vertical-align: top;\n",
              "    }\n",
              "\n",
              "    .dataframe thead th {\n",
              "        text-align: right;\n",
              "    }\n",
              "</style>\n",
              "<table border=\"1\" class=\"dataframe\">\n",
              "  <thead>\n",
              "    <tr style=\"text-align: right;\">\n",
              "      <th></th>\n",
              "      <th>Sex</th>\n",
              "      <th>Marital</th>\n",
              "      <th>Race</th>\n",
              "      <th>MetabolicSyndrome</th>\n",
              "    </tr>\n",
              "  </thead>\n",
              "  <tbody>\n",
              "    <tr>\n",
              "      <th>count</th>\n",
              "      <td>2401</td>\n",
              "      <td>2193</td>\n",
              "      <td>2401</td>\n",
              "      <td>2401</td>\n",
              "    </tr>\n",
              "    <tr>\n",
              "      <th>unique</th>\n",
              "      <td>2</td>\n",
              "      <td>5</td>\n",
              "      <td>6</td>\n",
              "      <td>2</td>\n",
              "    </tr>\n",
              "    <tr>\n",
              "      <th>top</th>\n",
              "      <td>Female</td>\n",
              "      <td>Married</td>\n",
              "      <td>White</td>\n",
              "      <td>No MetSyn</td>\n",
              "    </tr>\n",
              "    <tr>\n",
              "      <th>freq</th>\n",
              "      <td>1211</td>\n",
              "      <td>1192</td>\n",
              "      <td>933</td>\n",
              "      <td>1579</td>\n",
              "    </tr>\n",
              "  </tbody>\n",
              "</table>\n",
              "</div>\n",
              "      <button class=\"colab-df-convert\" onclick=\"convertToInteractive('df-92c1622d-7333-47b3-b0fb-d0d11351b802')\"\n",
              "              title=\"Convert this dataframe to an interactive table.\"\n",
              "              style=\"display:none;\">\n",
              "        \n",
              "  <svg xmlns=\"http://www.w3.org/2000/svg\" height=\"24px\"viewBox=\"0 0 24 24\"\n",
              "       width=\"24px\">\n",
              "    <path d=\"M0 0h24v24H0V0z\" fill=\"none\"/>\n",
              "    <path d=\"M18.56 5.44l.94 2.06.94-2.06 2.06-.94-2.06-.94-.94-2.06-.94 2.06-2.06.94zm-11 1L8.5 8.5l.94-2.06 2.06-.94-2.06-.94L8.5 2.5l-.94 2.06-2.06.94zm10 10l.94 2.06.94-2.06 2.06-.94-2.06-.94-.94-2.06-.94 2.06-2.06.94z\"/><path d=\"M17.41 7.96l-1.37-1.37c-.4-.4-.92-.59-1.43-.59-.52 0-1.04.2-1.43.59L10.3 9.45l-7.72 7.72c-.78.78-.78 2.05 0 2.83L4 21.41c.39.39.9.59 1.41.59.51 0 1.02-.2 1.41-.59l7.78-7.78 2.81-2.81c.8-.78.8-2.07 0-2.86zM5.41 20L4 18.59l7.72-7.72 1.47 1.35L5.41 20z\"/>\n",
              "  </svg>\n",
              "      </button>\n",
              "      \n",
              "  <style>\n",
              "    .colab-df-container {\n",
              "      display:flex;\n",
              "      flex-wrap:wrap;\n",
              "      gap: 12px;\n",
              "    }\n",
              "\n",
              "    .colab-df-convert {\n",
              "      background-color: #E8F0FE;\n",
              "      border: none;\n",
              "      border-radius: 50%;\n",
              "      cursor: pointer;\n",
              "      display: none;\n",
              "      fill: #1967D2;\n",
              "      height: 32px;\n",
              "      padding: 0 0 0 0;\n",
              "      width: 32px;\n",
              "    }\n",
              "\n",
              "    .colab-df-convert:hover {\n",
              "      background-color: #E2EBFA;\n",
              "      box-shadow: 0px 1px 2px rgba(60, 64, 67, 0.3), 0px 1px 3px 1px rgba(60, 64, 67, 0.15);\n",
              "      fill: #174EA6;\n",
              "    }\n",
              "\n",
              "    [theme=dark] .colab-df-convert {\n",
              "      background-color: #3B4455;\n",
              "      fill: #D2E3FC;\n",
              "    }\n",
              "\n",
              "    [theme=dark] .colab-df-convert:hover {\n",
              "      background-color: #434B5C;\n",
              "      box-shadow: 0px 1px 3px 1px rgba(0, 0, 0, 0.15);\n",
              "      filter: drop-shadow(0px 1px 2px rgba(0, 0, 0, 0.3));\n",
              "      fill: #FFFFFF;\n",
              "    }\n",
              "  </style>\n",
              "\n",
              "      <script>\n",
              "        const buttonEl =\n",
              "          document.querySelector('#df-92c1622d-7333-47b3-b0fb-d0d11351b802 button.colab-df-convert');\n",
              "        buttonEl.style.display =\n",
              "          google.colab.kernel.accessAllowed ? 'block' : 'none';\n",
              "\n",
              "        async function convertToInteractive(key) {\n",
              "          const element = document.querySelector('#df-92c1622d-7333-47b3-b0fb-d0d11351b802');\n",
              "          const dataTable =\n",
              "            await google.colab.kernel.invokeFunction('convertToInteractive',\n",
              "                                                     [key], {});\n",
              "          if (!dataTable) return;\n",
              "\n",
              "          const docLinkHtml = 'Like what you see? Visit the ' +\n",
              "            '<a target=\"_blank\" href=https://colab.research.google.com/notebooks/data_table.ipynb>data table notebook</a>'\n",
              "            + ' to learn more about interactive tables.';\n",
              "          element.innerHTML = '';\n",
              "          dataTable['output_type'] = 'display_data';\n",
              "          await google.colab.output.renderOutput(dataTable, element);\n",
              "          const docLink = document.createElement('div');\n",
              "          docLink.innerHTML = docLinkHtml;\n",
              "          element.appendChild(docLink);\n",
              "        }\n",
              "      </script>\n",
              "    </div>\n",
              "  </div>\n",
              "  "
            ]
          },
          "metadata": {},
          "execution_count": 10
        }
      ],
      "source": [
        "# Display the descriptive statistics for the numeric columns\n",
        "metabolic_df.describe(include=\"object\")"
      ]
    },
    {
      "cell_type": "markdown",
      "metadata": {
        "id": "kj1flWM4A8TL"
      },
      "source": [
        "## Data Cleaning"
      ]
    },
    {
      "cell_type": "markdown",
      "metadata": {
        "id": "X_MnaEHBZ5zE"
      },
      "source": [
        "### Drop Unneccessay Columns"
      ]
    },
    {
      "cell_type": "code",
      "execution_count": 11,
      "metadata": {
        "id": "3BWMSaPMZ-o9"
      },
      "outputs": [],
      "source": [
        "# Drop\n",
        "metabolic_df = metabolic_df.drop(columns=['seqn'])"
      ]
    },
    {
      "cell_type": "markdown",
      "metadata": {
        "id": "4qhpPbN9bcCZ"
      },
      "source": [
        "- This column will not help with predicting values."
      ]
    },
    {
      "cell_type": "markdown",
      "metadata": {
        "id": "p7eD7VZrBvSu"
      },
      "source": [
        "### Duplicate rows"
      ]
    },
    {
      "cell_type": "code",
      "execution_count": 12,
      "metadata": {
        "colab": {
          "base_uri": "https://localhost:8080/"
        },
        "id": "cFBeAQfUEHFk",
        "outputId": "9f10adff-8c5d-4582-c8de-effbefb4a507"
      },
      "outputs": [
        {
          "output_type": "execute_result",
          "data": {
            "text/plain": [
              "0"
            ]
          },
          "metadata": {},
          "execution_count": 12
        }
      ],
      "source": [
        "# Check duplicate rows\n",
        "metabolic_df.duplicated().sum()"
      ]
    },
    {
      "cell_type": "markdown",
      "metadata": {
        "id": "SiPADcBMEKwc"
      },
      "source": [
        "- There are no duplicate rows."
      ]
    },
    {
      "cell_type": "code",
      "execution_count": 13,
      "metadata": {
        "colab": {
          "base_uri": "https://localhost:8080/"
        },
        "id": "q6xiA1ULFsJv",
        "outputId": "81aac347-2887-4d4c-d3de-a28496711603"
      },
      "outputs": [
        {
          "output_type": "execute_result",
          "data": {
            "text/plain": [
              "Age                    61\n",
              "Sex                     2\n",
              "Marital                 5\n",
              "Income                 14\n",
              "Race                    6\n",
              "WaistCirc             635\n",
              "BMI                   322\n",
              "Albuminuria             3\n",
              "UrAlbCr              1383\n",
              "UricAcid               88\n",
              "BloodGlucose          187\n",
              "HDL                    93\n",
              "Triglycerides         345\n",
              "MetabolicSyndrome       2\n",
              "dtype: int64"
            ]
          },
          "metadata": {},
          "execution_count": 13
        }
      ],
      "source": [
        "# check for number of unique values in each column\n",
        "metabolic_df.nunique()"
      ]
    },
    {
      "cell_type": "code",
      "execution_count": 14,
      "metadata": {
        "colab": {
          "base_uri": "https://localhost:8080/"
        },
        "id": "JqCSf4rIJ4Z-",
        "outputId": "ebf00e18-e105-4f5c-b250-a4e2ad15d34a"
      },
      "outputs": [
        {
          "output_type": "execute_result",
          "data": {
            "text/plain": [
              "Index(['Age', 'Sex', 'Marital', 'Income', 'Race', 'WaistCirc', 'BMI',\n",
              "       'Albuminuria', 'UrAlbCr', 'UricAcid', 'BloodGlucose', 'HDL',\n",
              "       'Triglycerides', 'MetabolicSyndrome'],\n",
              "      dtype='object')"
            ]
          },
          "metadata": {},
          "execution_count": 14
        }
      ],
      "source": [
        "# Display column names\n",
        "metabolic_df.columns"
      ]
    },
    {
      "cell_type": "markdown",
      "metadata": {
        "id": "SnJwPvFtK1vM"
      },
      "source": [
        "- No errors noted."
      ]
    },
    {
      "cell_type": "markdown",
      "metadata": {
        "id": "WEEOcZaWK70h"
      },
      "source": [
        "### Inspect Values for Errors"
      ]
    },
    {
      "cell_type": "code",
      "execution_count": 15,
      "metadata": {
        "id": "24oGSkKtK82q"
      },
      "outputs": [],
      "source": [
        "# Display all values in column\n",
        "pd.set_option('display.max_rows', None)"
      ]
    },
    {
      "cell_type": "code",
      "execution_count": 16,
      "metadata": {
        "colab": {
          "base_uri": "https://localhost:8080/"
        },
        "id": "Hssjk0HrLLkU",
        "outputId": "e16277bc-d55d-419a-8923-8185cd3843c0"
      },
      "outputs": [
        {
          "output_type": "execute_result",
          "data": {
            "text/plain": [
              "80    124\n",
              "60     54\n",
              "22     53\n",
              "63     53\n",
              "31     52\n",
              "39     49\n",
              "70     49\n",
              "21     48\n",
              "30     48\n",
              "29     47\n",
              "42     47\n",
              "50     46\n",
              "36     46\n",
              "20     46\n",
              "43     46\n",
              "24     45\n",
              "54     45\n",
              "56     44\n",
              "34     44\n",
              "40     44\n",
              "62     44\n",
              "51     43\n",
              "65     43\n",
              "37     42\n",
              "52     42\n",
              "45     42\n",
              "23     41\n",
              "38     41\n",
              "41     41\n",
              "58     40\n",
              "27     40\n",
              "46     40\n",
              "64     40\n",
              "33     39\n",
              "47     38\n",
              "35     37\n",
              "44     37\n",
              "48     36\n",
              "32     36\n",
              "55     36\n",
              "25     35\n",
              "69     35\n",
              "49     35\n",
              "59     33\n",
              "68     32\n",
              "28     32\n",
              "26     31\n",
              "61     31\n",
              "53     31\n",
              "57     29\n",
              "78     26\n",
              "66     26\n",
              "67     26\n",
              "71     25\n",
              "74     25\n",
              "75     23\n",
              "77     21\n",
              "73     20\n",
              "76     20\n",
              "72     19\n",
              "79     18\n",
              "Name: Age, dtype: int64"
            ]
          },
          "metadata": {},
          "execution_count": 16
        }
      ],
      "source": [
        "# check inappropriate Na_to_K data points\n",
        "metabolic_df['Age'].value_counts()"
      ]
    },
    {
      "cell_type": "code",
      "execution_count": 17,
      "metadata": {
        "colab": {
          "base_uri": "https://localhost:8080/"
        },
        "id": "l27XYfKHLML5",
        "outputId": "8c0d5f27-f120-47c7-bcbc-57367906ccc4"
      },
      "outputs": [
        {
          "output_type": "execute_result",
          "data": {
            "text/plain": [
              "Female    1211\n",
              "Male      1190\n",
              "Name: Sex, dtype: int64"
            ]
          },
          "metadata": {},
          "execution_count": 17
        }
      ],
      "source": [
        "# check inappropriate Na_to_K data points\n",
        "metabolic_df['Sex'].value_counts()"
      ]
    },
    {
      "cell_type": "code",
      "execution_count": 18,
      "metadata": {
        "colab": {
          "base_uri": "https://localhost:8080/"
        },
        "id": "7PNAAMrtLMui",
        "outputId": "97ca47d4-3b4a-421e-b8b0-b85ae3be8e98"
      },
      "outputs": [
        {
          "output_type": "execute_result",
          "data": {
            "text/plain": [
              "Married      1192\n",
              "Single        498\n",
              "Divorced      242\n",
              "Widowed       166\n",
              "Separated      95\n",
              "Name: Marital, dtype: int64"
            ]
          },
          "metadata": {},
          "execution_count": 18
        }
      ],
      "source": [
        "# check inappropriate Na_to_K data points\n",
        "metabolic_df['Marital'].value_counts()"
      ]
    },
    {
      "cell_type": "code",
      "execution_count": 19,
      "metadata": {
        "colab": {
          "base_uri": "https://localhost:8080/"
        },
        "id": "0HhD2fblLNXb",
        "outputId": "02c32553-46f7-4b4b-a1f7-510e1381cb6e"
      },
      "outputs": [
        {
          "output_type": "execute_result",
          "data": {
            "text/plain": [
              "9000.0    337\n",
              "2500.0    257\n",
              "3500.0    228\n",
              "1000.0    210\n",
              "2000.0    207\n",
              "1600.0    190\n",
              "8200.0    178\n",
              "6200.0    138\n",
              "4500.0    136\n",
              "800.0     123\n",
              "5400.0    103\n",
              "300.0      93\n",
              "1700.0     54\n",
              "1500.0     30\n",
              "Name: Income, dtype: int64"
            ]
          },
          "metadata": {},
          "execution_count": 19
        }
      ],
      "source": [
        "# check inappropriate Na_to_K data points\n",
        "metabolic_df['Income'].value_counts()"
      ]
    },
    {
      "cell_type": "code",
      "execution_count": 20,
      "metadata": {
        "colab": {
          "base_uri": "https://localhost:8080/"
        },
        "id": "E_1vk0rdLN0E",
        "outputId": "f5b68f25-d8b6-4097-a536-b8e87c5a6efb"
      },
      "outputs": [
        {
          "output_type": "execute_result",
          "data": {
            "text/plain": [
              "White          933\n",
              "Black          548\n",
              "Asian          349\n",
              "Hispanic       257\n",
              "MexAmerican    253\n",
              "Other           61\n",
              "Name: Race, dtype: int64"
            ]
          },
          "metadata": {},
          "execution_count": 20
        }
      ],
      "source": [
        "# check inappropriate Na_to_K data points\n",
        "metabolic_df['Race'].value_counts()"
      ]
    },
    {
      "cell_type": "code",
      "execution_count": 21,
      "metadata": {
        "colab": {
          "base_uri": "https://localhost:8080/"
        },
        "id": "a26MkFAVLOSz",
        "outputId": "86e4400d-5d0a-4aad-c20e-0a59ddfa1c18"
      },
      "outputs": [
        {
          "output_type": "execute_result",
          "data": {
            "text/plain": [
              "97.0     23\n",
              "100.0    17\n",
              "103.0    14\n",
              "99.0     13\n",
              "89.0     12\n",
              "90.0     12\n",
              "95.0     12\n",
              "83.0     12\n",
              "101.2    11\n",
              "91.6     11\n",
              "104.0    11\n",
              "80.5     10\n",
              "97.1     10\n",
              "93.3     10\n",
              "96.5     10\n",
              "87.2     10\n",
              "91.0     10\n",
              "78.0     10\n",
              "81.0     10\n",
              "85.0      9\n",
              "100.8     9\n",
              "109.0     9\n",
              "106.6     9\n",
              "94.2      9\n",
              "74.0      9\n",
              "95.4      9\n",
              "96.2      9\n",
              "87.0      9\n",
              "100.5     9\n",
              "77.0      9\n",
              "80.0      9\n",
              "102.4     9\n",
              "75.5      8\n",
              "98.5      8\n",
              "98.6      8\n",
              "91.2      8\n",
              "82.8      8\n",
              "116.0     8\n",
              "102.5     8\n",
              "93.5      8\n",
              "99.9      8\n",
              "82.0      8\n",
              "101.0     8\n",
              "106.0     8\n",
              "94.3      8\n",
              "96.0      8\n",
              "110.0     8\n",
              "102.3     8\n",
              "87.3      8\n",
              "80.3      8\n",
              "111.5     8\n",
              "95.8      7\n",
              "92.6      7\n",
              "90.2      7\n",
              "108.0     7\n",
              "95.5      7\n",
              "86.2      7\n",
              "90.5      7\n",
              "106.2     7\n",
              "103.2     7\n",
              "110.8     7\n",
              "92.1      7\n",
              "101.8     7\n",
              "101.4     7\n",
              "102.1     7\n",
              "92.0      7\n",
              "93.0      7\n",
              "88.2      7\n",
              "99.8      7\n",
              "105.0     7\n",
              "115.5     7\n",
              "86.4      7\n",
              "107.2     7\n",
              "100.4     7\n",
              "105.1     7\n",
              "80.1      7\n",
              "112.0     7\n",
              "107.8     7\n",
              "98.2      7\n",
              "105.4     7\n",
              "85.2      7\n",
              "97.2      7\n",
              "90.1      7\n",
              "115.0     7\n",
              "107.0     7\n",
              "95.6      6\n",
              "93.6      6\n",
              "97.5      6\n",
              "95.3      6\n",
              "84.5      6\n",
              "84.2      6\n",
              "79.5      6\n",
              "85.7      6\n",
              "122.5     6\n",
              "83.4      6\n",
              "94.6      6\n",
              "88.5      6\n",
              "76.0      6\n",
              "95.9      6\n",
              "102.6     6\n",
              "90.8      6\n",
              "102.2     6\n",
              "104.2     6\n",
              "95.1      6\n",
              "112.1     6\n",
              "97.3      6\n",
              "88.3      6\n",
              "101.5     6\n",
              "97.6      6\n",
              "86.0      6\n",
              "98.4      6\n",
              "103.5     6\n",
              "114.5     6\n",
              "78.7      6\n",
              "94.9      6\n",
              "97.4      6\n",
              "96.4      6\n",
              "101.6     6\n",
              "92.4      6\n",
              "80.7      6\n",
              "86.7      6\n",
              "112.5     6\n",
              "90.3      6\n",
              "92.7      6\n",
              "79.8      6\n",
              "93.8      6\n",
              "98.0      6\n",
              "91.3      6\n",
              "96.6      6\n",
              "80.2      6\n",
              "97.7      6\n",
              "92.8      6\n",
              "104.7     6\n",
              "93.1      6\n",
              "99.1      5\n",
              "99.6      5\n",
              "95.7      5\n",
              "101.3     5\n",
              "105.2     5\n",
              "93.2      5\n",
              "84.8      5\n",
              "93.4      5\n",
              "74.6      5\n",
              "91.5      5\n",
              "89.9      5\n",
              "72.0      5\n",
              "107.4     5\n",
              "86.5      5\n",
              "94.0      5\n",
              "109.6     5\n",
              "111.0     5\n",
              "114.6     5\n",
              "79.6      5\n",
              "82.7      5\n",
              "94.5      5\n",
              "97.8      5\n",
              "95.2      5\n",
              "123.5     5\n",
              "116.8     5\n",
              "85.4      5\n",
              "105.8     5\n",
              "98.7      5\n",
              "83.2      5\n",
              "114.0     5\n",
              "80.4      5\n",
              "109.5     5\n",
              "99.5      5\n",
              "113.3     5\n",
              "78.8      5\n",
              "86.8      5\n",
              "85.6      5\n",
              "94.7      5\n",
              "102.0     5\n",
              "110.5     5\n",
              "106.1     5\n",
              "98.8      5\n",
              "91.7      5\n",
              "87.5      5\n",
              "76.8      5\n",
              "93.7      5\n",
              "82.6      5\n",
              "99.4      5\n",
              "90.7      5\n",
              "88.6      5\n",
              "127.7     5\n",
              "112.2     5\n",
              "115.3     5\n",
              "92.2      5\n",
              "107.5     5\n",
              "87.8      5\n",
              "82.4      5\n",
              "106.9     5\n",
              "100.6     5\n",
              "103.7     5\n",
              "94.4      5\n",
              "83.3      5\n",
              "92.5      5\n",
              "100.9     5\n",
              "91.8      5\n",
              "84.6      4\n",
              "117.7     4\n",
              "89.4      4\n",
              "102.9     4\n",
              "78.1      4\n",
              "105.5     4\n",
              "111.2     4\n",
              "74.2      4\n",
              "120.5     4\n",
              "84.0      4\n",
              "92.9      4\n",
              "112.8     4\n",
              "104.4     4\n",
              "101.9     4\n",
              "72.3      4\n",
              "127.5     4\n",
              "89.8      4\n",
              "89.5      4\n",
              "85.5      4\n",
              "77.8      4\n",
              "113.6     4\n",
              "105.6     4\n",
              "105.3     4\n",
              "74.8      4\n",
              "104.8     4\n",
              "101.1     4\n",
              "96.7      4\n",
              "96.3      4\n",
              "82.3      4\n",
              "127.0     4\n",
              "124.5     4\n",
              "86.3      4\n",
              "85.1      4\n",
              "111.3     4\n",
              "81.1      4\n",
              "77.7      4\n",
              "74.5      4\n",
              "87.4      4\n",
              "109.8     4\n",
              "78.2      4\n",
              "96.8      4\n",
              "108.4     4\n",
              "114.2     4\n",
              "82.5      4\n",
              "98.3      4\n",
              "126.0     4\n",
              "81.8      4\n",
              "106.4     4\n",
              "110.1     4\n",
              "83.1      4\n",
              "88.8      4\n",
              "80.6      4\n",
              "111.7     4\n",
              "120.1     4\n",
              "84.1      4\n",
              "108.5     4\n",
              "114.9     4\n",
              "103.8     4\n",
              "102.7     4\n",
              "105.7     4\n",
              "104.6     4\n",
              "93.9      4\n",
              "103.1     4\n",
              "91.9      4\n",
              "109.4     4\n",
              "89.6      4\n",
              "77.5      4\n",
              "116.9     4\n",
              "107.7     4\n",
              "112.4     4\n",
              "92.3      4\n",
              "90.4      4\n",
              "73.0      4\n",
              "94.8      4\n",
              "81.3      4\n",
              "122.0     4\n",
              "81.2      4\n",
              "113.8     4\n",
              "80.8      4\n",
              "106.7     4\n",
              "103.6     4\n",
              "111.6     4\n",
              "109.2     4\n",
              "106.8     4\n",
              "75.0      4\n",
              "118.0     4\n",
              "106.5     3\n",
              "118.4     3\n",
              "115.9     3\n",
              "127.4     3\n",
              "70.2      3\n",
              "78.3      3\n",
              "71.4      3\n",
              "122.2     3\n",
              "120.6     3\n",
              "88.4      3\n",
              "114.1     3\n",
              "88.9      3\n",
              "72.2      3\n",
              "72.7      3\n",
              "81.9      3\n",
              "84.7      3\n",
              "84.3      3\n",
              "132.2     3\n",
              "116.5     3\n",
              "82.2      3\n",
              "121.0     3\n",
              "79.7      3\n",
              "79.2      3\n",
              "83.7      3\n",
              "87.9      3\n",
              "124.2     3\n",
              "106.3     3\n",
              "85.9      3\n",
              "128.3     3\n",
              "99.2      3\n",
              "107.6     3\n",
              "75.7      3\n",
              "90.9      3\n",
              "112.3     3\n",
              "113.7     3\n",
              "117.8     3\n",
              "140.6     3\n",
              "86.9      3\n",
              "88.1      3\n",
              "110.2     3\n",
              "82.1      3\n",
              "99.3      3\n",
              "81.4      3\n",
              "87.7      3\n",
              "103.3     3\n",
              "98.9      3\n",
              "99.7      3\n",
              "100.2     3\n",
              "81.6      3\n",
              "123.3     3\n",
              "96.1      3\n",
              "114.8     3\n",
              "97.9      3\n",
              "109.1     3\n",
              "74.4      3\n",
              "96.9      3\n",
              "138.5     3\n",
              "121.3     3\n",
              "79.9      3\n",
              "76.1      3\n",
              "119.8     3\n",
              "76.9      3\n",
              "88.7      3\n",
              "120.3     3\n",
              "81.5      3\n",
              "88.0      3\n",
              "119.7     3\n",
              "108.3     3\n",
              "89.7      3\n",
              "110.7     3\n",
              "100.3     3\n",
              "100.1     3\n",
              "109.7     3\n",
              "68.5      3\n",
              "122.1     3\n",
              "137.5     3\n",
              "108.2     3\n",
              "133.5     3\n",
              "78.9      3\n",
              "126.5     2\n",
              "103.4     2\n",
              "77.2      2\n",
              "66.3      2\n",
              "82.9      2\n",
              "104.9     2\n",
              "123.2     2\n",
              "89.3      2\n",
              "79.3      2\n",
              "133.6     2\n",
              "67.5      2\n",
              "68.8      2\n",
              "76.6      2\n",
              "140.1     2\n",
              "130.2     2\n",
              "125.5     2\n",
              "104.5     2\n",
              "119.0     2\n",
              "103.9     2\n",
              "126.1     2\n",
              "124.0     2\n",
              "69.9      2\n",
              "66.2      2\n",
              "145.8     2\n",
              "77.3      2\n",
              "76.7      2\n",
              "112.7     2\n",
              "77.9      2\n",
              "101.7     2\n",
              "132.3     2\n",
              "117.6     2\n",
              "126.2     2\n",
              "126.7     2\n",
              "71.0      2\n",
              "78.6      2\n",
              "89.1      2\n",
              "137.8     2\n",
              "73.7      2\n",
              "113.5     2\n",
              "110.3     2\n",
              "71.8      2\n",
              "119.5     2\n",
              "86.1      2\n",
              "83.6      2\n",
              "111.4     2\n",
              "89.2      2\n",
              "73.2      2\n",
              "91.4      2\n",
              "108.1     2\n",
              "105.9     2\n",
              "115.8     2\n",
              "125.4     2\n",
              "123.1     2\n",
              "118.6     2\n",
              "129.9     2\n",
              "69.6      2\n",
              "118.5     2\n",
              "110.9     2\n",
              "115.7     2\n",
              "114.3     2\n",
              "110.6     2\n",
              "129.8     2\n",
              "127.2     2\n",
              "104.1     2\n",
              "75.9      2\n",
              "113.1     2\n",
              "128.1     2\n",
              "117.0     2\n",
              "122.7     2\n",
              "74.7      2\n",
              "121.2     2\n",
              "74.1      2\n",
              "84.4      2\n",
              "116.2     2\n",
              "115.4     2\n",
              "98.1      2\n",
              "108.9     2\n",
              "76.3      2\n",
              "116.1     2\n",
              "78.4      2\n",
              "72.9      2\n",
              "108.6     2\n",
              "125.0     2\n",
              "75.2      2\n",
              "107.3     2\n",
              "110.4     2\n",
              "73.8      2\n",
              "94.1      2\n",
              "109.3     2\n",
              "85.3      2\n",
              "73.1      2\n",
              "107.1     2\n",
              "137.0     2\n",
              "130.0     2\n",
              "73.6      2\n",
              "124.6     2\n",
              "125.1     2\n",
              "73.9      2\n",
              "83.5      2\n",
              "70.5      2\n",
              "91.1      2\n",
              "65.8      2\n",
              "76.2      2\n",
              "85.8      2\n",
              "108.8     2\n",
              "114.4     2\n",
              "131.4     2\n",
              "129.5     2\n",
              "72.6      2\n",
              "129.0     2\n",
              "143.3     1\n",
              "108.7     1\n",
              "66.4      1\n",
              "104.3     1\n",
              "138.2     1\n",
              "80.9      1\n",
              "142.7     1\n",
              "122.8     1\n",
              "79.0      1\n",
              "116.3     1\n",
              "56.2      1\n",
              "142.6     1\n",
              "87.1      1\n",
              "147.2     1\n",
              "77.4      1\n",
              "114.7     1\n",
              "77.6      1\n",
              "75.1      1\n",
              "77.1      1\n",
              "115.2     1\n",
              "73.5      1\n",
              "170.5     1\n",
              "176.0     1\n",
              "117.9     1\n",
              "147.6     1\n",
              "115.6     1\n",
              "119.9     1\n",
              "151.0     1\n",
              "144.2     1\n",
              "130.4     1\n",
              "75.8      1\n",
              "75.4      1\n",
              "64.2      1\n",
              "147.0     1\n",
              "131.0     1\n",
              "129.7     1\n",
              "72.1      1\n",
              "111.9     1\n",
              "138.0     1\n",
              "116.4     1\n",
              "151.8     1\n",
              "119.3     1\n",
              "130.8     1\n",
              "109.9     1\n",
              "66.1      1\n",
              "116.7     1\n",
              "144.0     1\n",
              "134.9     1\n",
              "129.4     1\n",
              "130.5     1\n",
              "120.4     1\n",
              "68.1      1\n",
              "141.2     1\n",
              "117.1     1\n",
              "120.8     1\n",
              "84.9      1\n",
              "71.2      1\n",
              "66.0      1\n",
              "155.0     1\n",
              "128.9     1\n",
              "70.1      1\n",
              "148.1     1\n",
              "69.7      1\n",
              "86.6      1\n",
              "127.9     1\n",
              "71.9      1\n",
              "147.8     1\n",
              "69.0      1\n",
              "154.7     1\n",
              "136.1     1\n",
              "69.1      1\n",
              "142.0     1\n",
              "123.0     1\n",
              "71.3      1\n",
              "139.5     1\n",
              "146.7     1\n",
              "155.9     1\n",
              "145.3     1\n",
              "70.7      1\n",
              "147.5     1\n",
              "64.5      1\n",
              "122.9     1\n",
              "72.8      1\n",
              "136.2     1\n",
              "100.7     1\n",
              "127.1     1\n",
              "113.2     1\n",
              "121.8     1\n",
              "64.8      1\n",
              "67.8      1\n",
              "140.8     1\n",
              "129.2     1\n",
              "125.2     1\n",
              "112.9     1\n",
              "90.6      1\n",
              "144.4     1\n",
              "65.6      1\n",
              "121.7     1\n",
              "78.5      1\n",
              "138.1     1\n",
              "128.5     1\n",
              "64.7      1\n",
              "68.2      1\n",
              "121.6     1\n",
              "125.9     1\n",
              "70.0      1\n",
              "125.7     1\n",
              "112.6     1\n",
              "125.3     1\n",
              "129.3     1\n",
              "71.5      1\n",
              "102.8     1\n",
              "118.2     1\n",
              "140.7     1\n",
              "135.5     1\n",
              "124.9     1\n",
              "65.5      1\n",
              "119.6     1\n",
              "120.9     1\n",
              "125.6     1\n",
              "136.8     1\n",
              "75.6      1\n",
              "123.7     1\n",
              "139.2     1\n",
              "71.7      1\n",
              "142.8     1\n",
              "152.4     1\n",
              "143.7     1\n",
              "113.0     1\n",
              "133.3     1\n",
              "132.6     1\n",
              "76.5      1\n",
              "146.4     1\n",
              "148.0     1\n",
              "150.7     1\n",
              "130.3     1\n",
              "139.1     1\n",
              "147.3     1\n",
              "115.1     1\n",
              "145.6     1\n",
              "134.5     1\n",
              "135.4     1\n",
              "119.4     1\n",
              "118.3     1\n",
              "79.1      1\n",
              "111.1     1\n",
              "125.8     1\n",
              "66.9      1\n",
              "87.6      1\n",
              "163.5     1\n",
              "133.0     1\n",
              "119.1     1\n",
              "116.6     1\n",
              "117.5     1\n",
              "75.3      1\n",
              "126.9     1\n",
              "81.7      1\n",
              "135.8     1\n",
              "124.7     1\n",
              "63.1      1\n",
              "69.5      1\n",
              "Name: WaistCirc, dtype: int64"
            ]
          },
          "metadata": {},
          "execution_count": 21
        }
      ],
      "source": [
        "# check inappropriate Na_to_K data points\n",
        "metabolic_df['WaistCirc'].value_counts()"
      ]
    },
    {
      "cell_type": "code",
      "execution_count": 22,
      "metadata": {
        "colab": {
          "base_uri": "https://localhost:8080/"
        },
        "id": "bBGik1qzLO_E",
        "outputId": "89c0b768-4f1d-46e3-ed1b-b24b7fff6ced"
      },
      "outputs": [
        {
          "output_type": "execute_result",
          "data": {
            "text/plain": [
              "23.3    24\n",
              "25.8    24\n",
              "24.7    23\n",
              "24.9    21\n",
              "27.7    21\n",
              "22.0    20\n",
              "30.5    20\n",
              "26.4    19\n",
              "27.3    19\n",
              "31.9    19\n",
              "28.4    19\n",
              "27.4    19\n",
              "27.6    19\n",
              "23.2    19\n",
              "28.9    19\n",
              "26.7    18\n",
              "28.1    18\n",
              "29.3    18\n",
              "23.5    18\n",
              "22.3    18\n",
              "24.5    18\n",
              "24.3    18\n",
              "24.0    17\n",
              "23.4    17\n",
              "26.3    17\n",
              "31.8    17\n",
              "28.2    17\n",
              "25.3    17\n",
              "28.0    17\n",
              "25.2    17\n",
              "26.2    17\n",
              "28.3    16\n",
              "27.8    16\n",
              "28.6    16\n",
              "26.5    16\n",
              "29.7    16\n",
              "27.1    16\n",
              "24.8    16\n",
              "22.9    16\n",
              "29.4    16\n",
              "32.5    16\n",
              "30.1    16\n",
              "20.6    16\n",
              "22.8    16\n",
              "26.6    16\n",
              "25.9    16\n",
              "24.6    16\n",
              "25.5    16\n",
              "25.6    15\n",
              "30.2    15\n",
              "22.5    15\n",
              "29.8    15\n",
              "27.0    15\n",
              "28.7    15\n",
              "31.1    15\n",
              "23.6    15\n",
              "27.5    15\n",
              "26.9    14\n",
              "29.6    14\n",
              "30.9    14\n",
              "26.8    14\n",
              "25.0    14\n",
              "23.7    14\n",
              "23.8    14\n",
              "33.3    14\n",
              "27.2    14\n",
              "31.2    13\n",
              "26.1    13\n",
              "24.4    13\n",
              "31.3    13\n",
              "28.8    13\n",
              "30.6    13\n",
              "20.8    13\n",
              "27.9    13\n",
              "23.0    13\n",
              "22.6    13\n",
              "21.9    13\n",
              "22.4    12\n",
              "29.2    12\n",
              "22.7    12\n",
              "26.0    12\n",
              "24.1    12\n",
              "25.1    12\n",
              "33.1    12\n",
              "32.0    12\n",
              "23.9    12\n",
              "21.5    12\n",
              "30.3    12\n",
              "25.4    11\n",
              "30.8    11\n",
              "35.0    11\n",
              "29.1    11\n",
              "29.5    11\n",
              "32.3    11\n",
              "22.1    11\n",
              "21.6    11\n",
              "34.1    11\n",
              "25.7    11\n",
              "30.4    11\n",
              "24.2    11\n",
              "33.5    10\n",
              "34.3    10\n",
              "34.9    10\n",
              "31.7    10\n",
              "29.9    10\n",
              "29.0     9\n",
              "20.5     9\n",
              "32.1     9\n",
              "30.0     9\n",
              "33.8     9\n",
              "33.6     9\n",
              "20.2     9\n",
              "31.4     9\n",
              "20.1     9\n",
              "21.2     9\n",
              "33.7     9\n",
              "33.9     9\n",
              "20.7     9\n",
              "21.0     9\n",
              "32.4     9\n",
              "32.8     9\n",
              "18.9     8\n",
              "32.9     8\n",
              "34.6     8\n",
              "33.2     8\n",
              "28.5     8\n",
              "21.1     8\n",
              "21.8     8\n",
              "30.7     8\n",
              "37.8     8\n",
              "21.7     8\n",
              "32.7     8\n",
              "18.7     8\n",
              "31.0     7\n",
              "34.5     7\n",
              "31.5     7\n",
              "32.6     7\n",
              "36.5     7\n",
              "38.0     7\n",
              "35.2     7\n",
              "23.1     7\n",
              "19.4     7\n",
              "19.1     7\n",
              "37.6     7\n",
              "36.4     7\n",
              "31.6     7\n",
              "20.9     7\n",
              "22.2     6\n",
              "21.4     6\n",
              "38.5     6\n",
              "35.5     6\n",
              "34.2     6\n",
              "18.8     6\n",
              "17.9     6\n",
              "32.2     6\n",
              "38.4     6\n",
              "38.8     6\n",
              "20.3     6\n",
              "34.8     6\n",
              "34.0     5\n",
              "20.4     5\n",
              "35.8     5\n",
              "33.4     5\n",
              "39.7     5\n",
              "38.7     5\n",
              "41.2     5\n",
              "40.5     5\n",
              "37.1     5\n",
              "40.0     5\n",
              "34.4     5\n",
              "37.7     5\n",
              "36.0     5\n",
              "18.2     5\n",
              "35.4     5\n",
              "40.2     5\n",
              "19.3     5\n",
              "36.1     5\n",
              "21.3     5\n",
              "36.7     5\n",
              "37.5     5\n",
              "41.0     5\n",
              "20.0     5\n",
              "35.3     5\n",
              "34.7     4\n",
              "19.8     4\n",
              "19.6     4\n",
              "36.3     4\n",
              "35.1     4\n",
              "39.3     4\n",
              "36.9     4\n",
              "39.4     4\n",
              "19.2     4\n",
              "43.6     4\n",
              "40.1     4\n",
              "18.3     4\n",
              "39.2     4\n",
              "18.1     4\n",
              "19.0     4\n",
              "37.3     4\n",
              "37.0     4\n",
              "33.0     3\n",
              "39.0     3\n",
              "41.8     3\n",
              "35.7     3\n",
              "37.2     3\n",
              "40.8     3\n",
              "35.9     3\n",
              "18.6     3\n",
              "19.9     3\n",
              "38.9     3\n",
              "37.9     3\n",
              "36.6     3\n",
              "36.2     3\n",
              "17.8     3\n",
              "35.6     3\n",
              "18.4     3\n",
              "18.5     3\n",
              "39.1     3\n",
              "39.8     3\n",
              "36.8     3\n",
              "42.3     3\n",
              "38.2     3\n",
              "16.2     2\n",
              "41.1     2\n",
              "45.5     2\n",
              "17.0     2\n",
              "42.6     2\n",
              "47.8     2\n",
              "17.6     2\n",
              "16.9     2\n",
              "45.9     2\n",
              "42.2     2\n",
              "44.0     2\n",
              "43.7     2\n",
              "18.0     2\n",
              "17.4     2\n",
              "40.9     2\n",
              "47.0     2\n",
              "42.4     2\n",
              "43.0     2\n",
              "50.8     2\n",
              "15.7     2\n",
              "42.0     2\n",
              "47.2     2\n",
              "19.7     2\n",
              "19.5     2\n",
              "49.2     2\n",
              "43.2     2\n",
              "38.6     2\n",
              "45.0     2\n",
              "17.7     2\n",
              "39.5     2\n",
              "39.9     2\n",
              "48.0     2\n",
              "42.9     2\n",
              "38.3     2\n",
              "45.8     2\n",
              "48.4     2\n",
              "48.6     2\n",
              "37.4     1\n",
              "13.4     1\n",
              "52.6     1\n",
              "62.8     1\n",
              "48.3     1\n",
              "56.3     1\n",
              "68.7     1\n",
              "48.2     1\n",
              "48.8     1\n",
              "47.5     1\n",
              "45.6     1\n",
              "56.6     1\n",
              "40.6     1\n",
              "57.1     1\n",
              "45.3     1\n",
              "40.4     1\n",
              "44.7     1\n",
              "17.5     1\n",
              "44.5     1\n",
              "38.1     1\n",
              "50.9     1\n",
              "45.4     1\n",
              "17.3     1\n",
              "42.5     1\n",
              "43.4     1\n",
              "44.9     1\n",
              "41.4     1\n",
              "16.6     1\n",
              "54.2     1\n",
              "55.7     1\n",
              "51.5     1\n",
              "54.4     1\n",
              "56.8     1\n",
              "46.0     1\n",
              "47.7     1\n",
              "45.2     1\n",
              "16.7     1\n",
              "43.1     1\n",
              "44.2     1\n",
              "53.1     1\n",
              "42.8     1\n",
              "46.7     1\n",
              "51.8     1\n",
              "44.8     1\n",
              "17.1     1\n",
              "51.1     1\n",
              "59.0     1\n",
              "46.9     1\n",
              "42.7     1\n",
              "13.6     1\n",
              "43.3     1\n",
              "41.9     1\n",
              "44.6     1\n",
              "45.1     1\n",
              "59.2     1\n",
              "54.1     1\n",
              "47.1     1\n",
              "55.8     1\n",
              "48.9     1\n",
              "49.4     1\n",
              "44.3     1\n",
              "48.7     1\n",
              "59.7     1\n",
              "Name: BMI, dtype: int64"
            ]
          },
          "metadata": {},
          "execution_count": 22
        }
      ],
      "source": [
        "# check inappropriate Na_to_K data points\n",
        "metabolic_df['BMI'].value_counts()"
      ]
    },
    {
      "cell_type": "code",
      "execution_count": 23,
      "metadata": {
        "colab": {
          "base_uri": "https://localhost:8080/"
        },
        "id": "YVxkliPGLPfH",
        "outputId": "2d4456e2-ad8c-4607-9e01-bb067c119870"
      },
      "outputs": [
        {
          "output_type": "execute_result",
          "data": {
            "text/plain": [
              "0    2089\n",
              "1     254\n",
              "2      58\n",
              "Name: Albuminuria, dtype: int64"
            ]
          },
          "metadata": {},
          "execution_count": 23
        }
      ],
      "source": [
        "# check inappropriate Na_to_K data points\n",
        "metabolic_df['Albuminuria'].value_counts()"
      ]
    },
    {
      "cell_type": "code",
      "execution_count": 24,
      "metadata": {
        "colab": {
          "base_uri": "https://localhost:8080/"
        },
        "id": "VcJN8eczLP9V",
        "outputId": "90666d49-7135-4065-caee-46d881755254"
      },
      "outputs": [
        {
          "output_type": "execute_result",
          "data": {
            "text/plain": [
              "5.00       18\n",
              "10.00      12\n",
              "6.67       10\n",
              "5.38       10\n",
              "5.56        9\n",
              "3.73        8\n",
              "3.33        8\n",
              "3.42        7\n",
              "5.95        7\n",
              "6.27        7\n",
              "4.55        7\n",
              "4.15        7\n",
              "4.29        7\n",
              "2.96        7\n",
              "4.58        7\n",
              "3.92        7\n",
              "4.44        7\n",
              "8.57        6\n",
              "3.80        6\n",
              "4.36        6\n",
              "4.05        6\n",
              "5.63        6\n",
              "5.42        6\n",
              "8.75        6\n",
              "20.00       6\n",
              "4.00        6\n",
              "3.44        6\n",
              "4.18        6\n",
              "6.40        6\n",
              "7.14        6\n",
              "2.50        6\n",
              "5.89        6\n",
              "7.50        6\n",
              "2.83        6\n",
              "5.71        6\n",
              "8.62        5\n",
              "3.67        5\n",
              "4.62        5\n",
              "5.12        5\n",
              "4.68        5\n",
              "5.26        5\n",
              "7.88        5\n",
              "4.53        5\n",
              "6.22        5\n",
              "4.40        5\n",
              "3.49        5\n",
              "3.16        5\n",
              "3.23        5\n",
              "5.81        5\n",
              "6.79        5\n",
              "5.25        5\n",
              "4.14        5\n",
              "4.31        5\n",
              "4.72        5\n",
              "3.97        5\n",
              "5.06        5\n",
              "4.81        5\n",
              "5.15        5\n",
              "5.07        5\n",
              "6.82        4\n",
              "4.88        4\n",
              "3.81        4\n",
              "5.75        4\n",
              "5.47        4\n",
              "4.02        4\n",
              "4.77        4\n",
              "8.06        4\n",
              "7.78        4\n",
              "6.17        4\n",
              "3.93        4\n",
              "3.19        4\n",
              "7.64        4\n",
              "5.41        4\n",
              "2.99        4\n",
              "5.08        4\n",
              "3.32        4\n",
              "4.84        4\n",
              "6.18        4\n",
              "8.09        4\n",
              "2.73        4\n",
              "5.22        4\n",
              "4.19        4\n",
              "3.75        4\n",
              "3.26        4\n",
              "6.96        4\n",
              "3.25        4\n",
              "8.55        4\n",
              "5.13        4\n",
              "6.52        4\n",
              "4.04        4\n",
              "5.74        4\n",
              "5.09        4\n",
              "12.08       4\n",
              "5.92        4\n",
              "4.10        4\n",
              "6.28        4\n",
              "3.47        4\n",
              "2.69        4\n",
              "4.70        4\n",
              "3.28        4\n",
              "2.63        4\n",
              "4.95        4\n",
              "3.13        4\n",
              "4.43        4\n",
              "4.17        4\n",
              "4.03        4\n",
              "6.00        4\n",
              "3.41        4\n",
              "3.70        4\n",
              "8.72        4\n",
              "5.51        4\n",
              "7.02        4\n",
              "4.69        4\n",
              "2.00        4\n",
              "8.93        4\n",
              "2.88        4\n",
              "5.57        4\n",
              "3.98        4\n",
              "2.86        4\n",
              "4.21        4\n",
              "3.63        4\n",
              "5.44        4\n",
              "3.08        4\n",
              "4.39        3\n",
              "10.97       3\n",
              "4.48        3\n",
              "6.80        3\n",
              "4.47        3\n",
              "3.37        3\n",
              "3.38        3\n",
              "3.85        3\n",
              "2.94        3\n",
              "8.40        3\n",
              "2.16        3\n",
              "2.07        3\n",
              "2.27        3\n",
              "3.82        3\n",
              "6.16        3\n",
              "4.56        3\n",
              "7.44        3\n",
              "3.53        3\n",
              "7.31        3\n",
              "3.02        3\n",
              "3.14        3\n",
              "11.09       3\n",
              "11.11       3\n",
              "7.76        3\n",
              "4.64        3\n",
              "6.36        3\n",
              "3.58        3\n",
              "3.61        3\n",
              "2.97        3\n",
              "5.68        3\n",
              "10.83       3\n",
              "6.97        3\n",
              "10.86       3\n",
              "4.41        3\n",
              "4.26        3\n",
              "6.60        3\n",
              "7.25        3\n",
              "3.10        3\n",
              "9.03        3\n",
              "5.43        3\n",
              "6.81        3\n",
              "3.06        3\n",
              "8.18        3\n",
              "9.19        3\n",
              "4.12        3\n",
              "11.54       3\n",
              "3.09        3\n",
              "7.37        3\n",
              "2.08        3\n",
              "12.73       3\n",
              "3.91        3\n",
              "3.22        3\n",
              "10.77       3\n",
              "3.03        3\n",
              "10.09       3\n",
              "3.29        3\n",
              "22.11       3\n",
              "11.06       3\n",
              "6.19        3\n",
              "5.32        3\n",
              "13.83       3\n",
              "5.93        3\n",
              "7.07        3\n",
              "2.35        3\n",
              "5.33        3\n",
              "7.56        3\n",
              "8.35        3\n",
              "7.67        3\n",
              "3.60        3\n",
              "2.75        3\n",
              "7.00        3\n",
              "7.23        3\n",
              "5.14        3\n",
              "13.49       3\n",
              "14.00       3\n",
              "3.50        3\n",
              "3.78        3\n",
              "8.83        3\n",
              "3.87        3\n",
              "3.11        3\n",
              "4.76        3\n",
              "4.83        3\n",
              "3.51        3\n",
              "6.09        3\n",
              "6.26        3\n",
              "5.29        3\n",
              "3.01        3\n",
              "2.65        3\n",
              "4.34        3\n",
              "6.94        3\n",
              "2.34        3\n",
              "2.19        3\n",
              "8.78        3\n",
              "3.43        3\n",
              "7.73        3\n",
              "12.29       3\n",
              "8.15        3\n",
              "4.20        3\n",
              "2.90        3\n",
              "5.61        3\n",
              "5.94        3\n",
              "8.29        3\n",
              "4.97        3\n",
              "8.59        3\n",
              "8.67        3\n",
              "5.19        3\n",
              "3.96        3\n",
              "5.45        3\n",
              "4.67        3\n",
              "5.91        3\n",
              "4.06        3\n",
              "4.74        3\n",
              "3.04        3\n",
              "7.65        3\n",
              "5.36        3\n",
              "2.76        3\n",
              "3.52        3\n",
              "2.05        3\n",
              "7.82        3\n",
              "4.85        3\n",
              "6.58        3\n",
              "6.02        3\n",
              "9.81        2\n",
              "3.95        2\n",
              "4.24        2\n",
              "1.70        2\n",
              "9.32        2\n",
              "62.50       2\n",
              "11.44       2\n",
              "9.63        2\n",
              "11.60       2\n",
              "4.37        2\n",
              "7.68        2\n",
              "5.64        2\n",
              "16.57       2\n",
              "12.47       2\n",
              "7.12        2\n",
              "21.78       2\n",
              "13.81       2\n",
              "32.36       2\n",
              "4.30        2\n",
              "17.14       2\n",
              "4.46        2\n",
              "10.68       2\n",
              "3.59        2\n",
              "2.60        2\n",
              "18.91       2\n",
              "4.79        2\n",
              "2.48        2\n",
              "10.91       2\n",
              "4.94        2\n",
              "8.41        2\n",
              "6.25        2\n",
              "15.38       2\n",
              "7.11        2\n",
              "5.96        2\n",
              "7.55        2\n",
              "14.38       2\n",
              "4.92        2\n",
              "16.25       2\n",
              "108.33      2\n",
              "15.18       2\n",
              "4.27        2\n",
              "15.00       2\n",
              "6.23        2\n",
              "7.43        2\n",
              "28.92       2\n",
              "10.34       2\n",
              "6.06        2\n",
              "2.91        2\n",
              "21.79       2\n",
              "9.86        2\n",
              "2.67        2\n",
              "7.38        2\n",
              "4.25        2\n",
              "10.32       2\n",
              "6.49        2\n",
              "3.07        2\n",
              "10.92       2\n",
              "4.49        2\n",
              "8.52        2\n",
              "4.28        2\n",
              "5.67        2\n",
              "7.52        2\n",
              "4.96        2\n",
              "3.31        2\n",
              "27.41       2\n",
              "7.53        2\n",
              "7.15        2\n",
              "5.90        2\n",
              "10.48       2\n",
              "5.27        2\n",
              "13.51       2\n",
              "6.11        2\n",
              "6.92        2\n",
              "12.78       2\n",
              "11.80       2\n",
              "3.39        2\n",
              "7.60        2\n",
              "13.95       2\n",
              "6.83        2\n",
              "3.72        2\n",
              "4.78        2\n",
              "4.33        2\n",
              "5.48        2\n",
              "6.34        2\n",
              "8.92        2\n",
              "7.66        2\n",
              "3.84        2\n",
              "7.70        2\n",
              "6.45        2\n",
              "8.71        2\n",
              "6.86        2\n",
              "7.93        2\n",
              "16.67       2\n",
              "9.13        2\n",
              "6.74        2\n",
              "10.14       2\n",
              "10.30       2\n",
              "8.50        2\n",
              "10.55       2\n",
              "12.97       2\n",
              "10.27       2\n",
              "6.24        2\n",
              "5.79        2\n",
              "7.20        2\n",
              "3.36        2\n",
              "6.90        2\n",
              "3.68        2\n",
              "11.85       2\n",
              "2.93        2\n",
              "3.74        2\n",
              "2.32        2\n",
              "4.09        2\n",
              "7.48        2\n",
              "10.84       2\n",
              "6.55        2\n",
              "11.94       2\n",
              "11.25       2\n",
              "12.12       2\n",
              "23.25       2\n",
              "11.05       2\n",
              "1.80        2\n",
              "3.20        2\n",
              "9.78        2\n",
              "8.31        2\n",
              "11.27       2\n",
              "5.04        2\n",
              "44.55       2\n",
              "17.78       2\n",
              "10.71       2\n",
              "8.00        2\n",
              "7.19        2\n",
              "5.40        2\n",
              "4.65        2\n",
              "8.60        2\n",
              "6.08        2\n",
              "4.22        2\n",
              "10.17       2\n",
              "12.38       2\n",
              "3.86        2\n",
              "5.69        2\n",
              "2.62        2\n",
              "7.98        2\n",
              "11.29       2\n",
              "6.77        2\n",
              "3.71        2\n",
              "26.45       2\n",
              "6.48        2\n",
              "9.75        2\n",
              "5.60        2\n",
              "4.54        2\n",
              "3.77        2\n",
              "5.28        2\n",
              "9.34        2\n",
              "6.37        2\n",
              "11.43       2\n",
              "3.17        2\n",
              "18.82       2\n",
              "3.88        2\n",
              "3.40        2\n",
              "5.39        2\n",
              "13.91       2\n",
              "195.65      2\n",
              "12.63       2\n",
              "6.14        2\n",
              "8.73        2\n",
              "6.41        2\n",
              "9.59        2\n",
              "22.86       2\n",
              "3.56        2\n",
              "2.41        2\n",
              "5.20        2\n",
              "7.89        2\n",
              "4.87        2\n",
              "2403.85     2\n",
              "2.84        2\n",
              "7.09        2\n",
              "7.92        2\n",
              "12.81       2\n",
              "2.87        2\n",
              "2.78        2\n",
              "3.66        2\n",
              "4.35        2\n",
              "4.45        2\n",
              "6.30        2\n",
              "10.63       2\n",
              "8.11        2\n",
              "9.25        2\n",
              "8.43        2\n",
              "10.53       2\n",
              "5.24        2\n",
              "5.05        2\n",
              "5.17        2\n",
              "12.92       2\n",
              "2.81        2\n",
              "11.50       2\n",
              "6.88        2\n",
              "6.89        2\n",
              "11.48       2\n",
              "2.47        2\n",
              "6.43        2\n",
              "4.13        2\n",
              "8.63        2\n",
              "3.24        2\n",
              "8.08        2\n",
              "6.33        2\n",
              "9.41        2\n",
              "4.73        2\n",
              "9.77        2\n",
              "5.50        2\n",
              "7.36        2\n",
              "6.54        2\n",
              "2.68        2\n",
              "9.50        2\n",
              "18.47       2\n",
              "1.97        2\n",
              "11.22       2\n",
              "6.29        2\n",
              "5.85        2\n",
              "4.50        2\n",
              "2.64        2\n",
              "36.46       2\n",
              "6.64        2\n",
              "4.93        2\n",
              "3.00        2\n",
              "9.30        2\n",
              "6.91        2\n",
              "10.52       2\n",
              "16.05       2\n",
              "4.71        2\n",
              "7.13        2\n",
              "6.50        2\n",
              "3.21        2\n",
              "5.84        2\n",
              "8.49        2\n",
              "7.39        2\n",
              "7.41        2\n",
              "4.16        2\n",
              "10.59       2\n",
              "3.64        2\n",
              "13.75       2\n",
              "9.21        2\n",
              "4.63        2\n",
              "5.53        2\n",
              "6.31        2\n",
              "5.11        2\n",
              "8.38        2\n",
              "2.37        2\n",
              "14.92       2\n",
              "9.29        2\n",
              "2.42        2\n",
              "10.12       2\n",
              "3.48        2\n",
              "11.38       2\n",
              "8.23        2\n",
              "4.11        2\n",
              "1.76        2\n",
              "5.87        2\n",
              "6.75        2\n",
              "31.03       2\n",
              "7.42        2\n",
              "7.27        2\n",
              "7.54        2\n",
              "9.14        2\n",
              "10.39       2\n",
              "9.79        2\n",
              "9.39        2\n",
              "6.72        2\n",
              "3.65        2\n",
              "10.58       1\n",
              "3500.00     1\n",
              "48.89       1\n",
              "9.95        1\n",
              "23.14       1\n",
              "28.74       1\n",
              "6.61        1\n",
              "7.05        1\n",
              "3.55        1\n",
              "27.50       1\n",
              "16.36       1\n",
              "5.35        1\n",
              "22.92       1\n",
              "13.28       1\n",
              "13.43       1\n",
              "12.33       1\n",
              "5.30        1\n",
              "8.05        1\n",
              "6.62        1\n",
              "4.90        1\n",
              "22.54       1\n",
              "14.19       1\n",
              "12.75       1\n",
              "52.63       1\n",
              "27.63       1\n",
              "75.85       1\n",
              "12.70       1\n",
              "33.97       1\n",
              "100.63      1\n",
              "4.91        1\n",
              "16.00       1\n",
              "22.85       1\n",
              "13.48       1\n",
              "13.64       1\n",
              "30.52       1\n",
              "14.07       1\n",
              "97.88       1\n",
              "2.18        1\n",
              "321.74      1\n",
              "112.06      1\n",
              "19.57       1\n",
              "5.59        1\n",
              "11.47       1\n",
              "12.34       1\n",
              "39.32       1\n",
              "12.99       1\n",
              "10.95       1\n",
              "26.86       1\n",
              "116.49      1\n",
              "16.97       1\n",
              "30.25       1\n",
              "13.53       1\n",
              "20.73       1\n",
              "17.50       1\n",
              "8.88        1\n",
              "20.13       1\n",
              "83.83       1\n",
              "72.50       1\n",
              "5.83        1\n",
              "7.58        1\n",
              "8.96        1\n",
              "70.16       1\n",
              "6.56        1\n",
              "14.88       1\n",
              "3.62        1\n",
              "15.81       1\n",
              "8.58        1\n",
              "59.70       1\n",
              "11.93       1\n",
              "7.94        1\n",
              "76.63       1\n",
              "4.57        1\n",
              "6.71        1\n",
              "20.67       1\n",
              "18.00       1\n",
              "20.52       1\n",
              "14.81       1\n",
              "37.78       1\n",
              "4.52        1\n",
              "9.40        1\n",
              "11.28       1\n",
              "681.12      1\n",
              "21.56       1\n",
              "56.76       1\n",
              "20.12       1\n",
              "4.23        1\n",
              "13.69       1\n",
              "5.34        1\n",
              "10.74       1\n",
              "569.08      1\n",
              "14.87       1\n",
              "6.65        1\n",
              "9.16        1\n",
              "19.59       1\n",
              "204.14      1\n",
              "23.60       1\n",
              "1.96        1\n",
              "7.28        1\n",
              "3.05        1\n",
              "71.84       1\n",
              "40.15       1\n",
              "171.24      1\n",
              "3.83        1\n",
              "138.79      1\n",
              "10.93       1\n",
              "16.04       1\n",
              "18.39       1\n",
              "2.40        1\n",
              "12.22       1\n",
              "33.75       1\n",
              "16.10       1\n",
              "46.49       1\n",
              "151.70      1\n",
              "10.81       1\n",
              "16.03       1\n",
              "21.54       1\n",
              "85.80       1\n",
              "181.82      1\n",
              "44.75       1\n",
              "34.41       1\n",
              "20.54       1\n",
              "57.31       1\n",
              "30.00       1\n",
              "5.03        1\n",
              "152.24      1\n",
              "15.57       1\n",
              "5928.00     1\n",
              "20.84       1\n",
              "167.74      1\n",
              "64.27       1\n",
              "28.24       1\n",
              "180.56      1\n",
              "224.32      1\n",
              "146.81      1\n",
              "5.55        1\n",
              "10.28       1\n",
              "5.82        1\n",
              "20.70       1\n",
              "14.69       1\n",
              "2360.66     1\n",
              "11.76       1\n",
              "4.42        1\n",
              "14.72       1\n",
              "55.77       1\n",
              "2.24        1\n",
              "8.26        1\n",
              "32.06       1\n",
              "32.80       1\n",
              "326.44      1\n",
              "15.68       1\n",
              "8.14        1\n",
              "5.86        1\n",
              "1.54        1\n",
              "29.15       1\n",
              "9.84        1\n",
              "7.69        1\n",
              "5.80        1\n",
              "394.74      1\n",
              "23.94       1\n",
              "10.04       1\n",
              "1.67        1\n",
              "73.25       1\n",
              "14.26       1\n",
              "31.19       1\n",
              "21.40       1\n",
              "117.65      1\n",
              "64.04       1\n",
              "10.56       1\n",
              "44.95       1\n",
              "7.32        1\n",
              "9.28        1\n",
              "31.67       1\n",
              "2.82        1\n",
              "21.30       1\n",
              "64.17       1\n",
              "31.09       1\n",
              "17.10       1\n",
              "560.87      1\n",
              "14.53       1\n",
              "13.70       1\n",
              "3.27        1\n",
              "7.21        1\n",
              "2.55        1\n",
              "5.16        1\n",
              "83.90       1\n",
              "10.78       1\n",
              "33.78       1\n",
              "2047.17     1\n",
              "37.17       1\n",
              "22.77       1\n",
              "10.87       1\n",
              "32.09       1\n",
              "99.07       1\n",
              "96.41       1\n",
              "16.49       1\n",
              "348.74      1\n",
              "48.99       1\n",
              "55.13       1\n",
              "140.89      1\n",
              "3.54        1\n",
              "78.06       1\n",
              "29.09       1\n",
              "174.90      1\n",
              "49.12       1\n",
              "26.41       1\n",
              "2.44        1\n",
              "47.95       1\n",
              "16.14       1\n",
              "26.01       1\n",
              "11.15       1\n",
              "4462.81     1\n",
              "10.06       1\n",
              "7.40        1\n",
              "8.17        1\n",
              "245.28      1\n",
              "9.09        1\n",
              "6.78        1\n",
              "22.88       1\n",
              "929.27      1\n",
              "6.59        1\n",
              "19.27       1\n",
              "420.79      1\n",
              "8.44        1\n",
              "9.20        1\n",
              "33.33       1\n",
              "2.14        1\n",
              "6.42        1\n",
              "74.12       1\n",
              "23.69       1\n",
              "10.54       1\n",
              "100.57      1\n",
              "5.58        1\n",
              "13.39       1\n",
              "7.71        1\n",
              "30.49       1\n",
              "12.50       1\n",
              "46.98       1\n",
              "8.47        1\n",
              "26.00       1\n",
              "7.79        1\n",
              "7.61        1\n",
              "14.15       1\n",
              "78.70       1\n",
              "151.28      1\n",
              "22.03       1\n",
              "35.33       1\n",
              "21.05       1\n",
              "7.22        1\n",
              "44.69       1\n",
              "28.20       1\n",
              "11.39       1\n",
              "14.58       1\n",
              "55.56       1\n",
              "23.96       1\n",
              "3.45        1\n",
              "37.98       1\n",
              "9.18        1\n",
              "8.36        1\n",
              "22.22       1\n",
              "11.30       1\n",
              "58.16       1\n",
              "17.12       1\n",
              "6.47        1\n",
              "34.70       1\n",
              "8.37        1\n",
              "44.12       1\n",
              "7.18        1\n",
              "87.12       1\n",
              "20.37       1\n",
              "90.34       1\n",
              "12.25       1\n",
              "2.10        1\n",
              "44.91       1\n",
              "51.59       1\n",
              "29.82       1\n",
              "76.55       1\n",
              "305.59      1\n",
              "104.55      1\n",
              "47.09       1\n",
              "6.95        1\n",
              "23.33       1\n",
              "20.53       1\n",
              "8.69        1\n",
              "2.92        1\n",
              "11.35       1\n",
              "50.00       1\n",
              "12.61       1\n",
              "9.66        1\n",
              "61.03       1\n",
              "13.99       1\n",
              "54.49       1\n",
              "27.51       1\n",
              "14.03       1\n",
              "34.84       1\n",
              "5.77        1\n",
              "8.04        1\n",
              "51.14       1\n",
              "28.22       1\n",
              "46.50       1\n",
              "2.51        1\n",
              "20.47       1\n",
              "5.88        1\n",
              "74.51       1\n",
              "13.14       1\n",
              "8.27        1\n",
              "9.02        1\n",
              "10.70       1\n",
              "6.35        1\n",
              "531.48      1\n",
              "13.05       1\n",
              "716.51      1\n",
              "11.57       1\n",
              "10.45       1\n",
              "93.57       1\n",
              "18.70       1\n",
              "22.09       1\n",
              "23.57       1\n",
              "18.64       1\n",
              "11.49       1\n",
              "8.33        1\n",
              "31.01       1\n",
              "9.85        1\n",
              "14.18       1\n",
              "2.52        1\n",
              "16.64       1\n",
              "1.40        1\n",
              "50.09       1\n",
              "9.06        1\n",
              "175.83      1\n",
              "14.62       1\n",
              "46.03       1\n",
              "6.10        1\n",
              "9.38        1\n",
              "52.59       1\n",
              "76.40       1\n",
              "13.06       1\n",
              "339.61      1\n",
              "18.84       1\n",
              "73.37       1\n",
              "37.20       1\n",
              "38.35       1\n",
              "118.82      1\n",
              "32.72       1\n",
              "20.14       1\n",
              "23.78       1\n",
              "359.09      1\n",
              "54.17       1\n",
              "27.00       1\n",
              "11.98       1\n",
              "11.56       1\n",
              "65.56       1\n",
              "5.37        1\n",
              "8.02        1\n",
              "25.76       1\n",
              "11.77       1\n",
              "25.24       1\n",
              "1.47        1\n",
              "252.69      1\n",
              "35.87       1\n",
              "26.31       1\n",
              "45.75       1\n",
              "9.88        1\n",
              "5.21        1\n",
              "9.22        1\n",
              "36.49       1\n",
              "20.96       1\n",
              "10.62       1\n",
              "23.28       1\n",
              "6.76        1\n",
              "11.68       1\n",
              "17.73       1\n",
              "20.42       1\n",
              "23.83       1\n",
              "49.28       1\n",
              "13.79       1\n",
              "44.42       1\n",
              "8.65        1\n",
              "5.73        1\n",
              "18.30       1\n",
              "11.17       1\n",
              "26.23       1\n",
              "49.63       1\n",
              "90.47       1\n",
              "15.41       1\n",
              "352.94      1\n",
              "9.43        1\n",
              "58.62       1\n",
              "20.75       1\n",
              "1016.67     1\n",
              "2.28        1\n",
              "7.33        1\n",
              "26.54       1\n",
              "80.00       1\n",
              "13.07       1\n",
              "153.85      1\n",
              "2.54        1\n",
              "30.27       1\n",
              "13.47       1\n",
              "9.36        1\n",
              "158.33      1\n",
              "99.15       1\n",
              "15.97       1\n",
              "301.05      1\n",
              "34.21       1\n",
              "35.24       1\n",
              "8.70        1\n",
              "30.91       1\n",
              "14.43       1\n",
              "26.83       1\n",
              "11.66       1\n",
              "36.82       1\n",
              "63.22       1\n",
              "10.61       1\n",
              "1817.31     1\n",
              "9.12        1\n",
              "48.42       1\n",
              "36.36       1\n",
              "52.86       1\n",
              "684.00      1\n",
              "51.35       1\n",
              "338.54      1\n",
              "60.19       1\n",
              "10.21       1\n",
              "32.12       1\n",
              "6.53        1\n",
              "2.95        1\n",
              "25.25       1\n",
              "6.63        1\n",
              "1.58        1\n",
              "9.83        1\n",
              "4.32        1\n",
              "93.53       1\n",
              "20.63       1\n",
              "81.20       1\n",
              "12.42       1\n",
              "141.62      1\n",
              "30.53       1\n",
              "53.20       1\n",
              "1.87        1\n",
              "22.52       1\n",
              "47.04       1\n",
              "27.27       1\n",
              "58.00       1\n",
              "45.08       1\n",
              "22.68       1\n",
              "8.34        1\n",
              "5.18        1\n",
              "814.58      1\n",
              "8.53        1\n",
              "7.74        1\n",
              "2.45        1\n",
              "36.27       1\n",
              "134.36      1\n",
              "920.35      1\n",
              "250.00      1\n",
              "109.43      1\n",
              "33.88       1\n",
              "26.05       1\n",
              "381.25      1\n",
              "10.31       1\n",
              "5.66        1\n",
              "3.18        1\n",
              "33.50       1\n",
              "22.18       1\n",
              "43.33       1\n",
              "1.92        1\n",
              "1.46        1\n",
              "13.18       1\n",
              "9.17        1\n",
              "19.90       1\n",
              "6.98        1\n",
              "18.42       1\n",
              "10.80       1\n",
              "36.90       1\n",
              "6.04        1\n",
              "9.70        1\n",
              "21.04       1\n",
              "507.39      1\n",
              "20.92       1\n",
              "8.94        1\n",
              "76.84       1\n",
              "15.91       1\n",
              "13.61       1\n",
              "11.37       1\n",
              "15.71       1\n",
              "26.42       1\n",
              "61.68       1\n",
              "7.46        1\n",
              "18.41       1\n",
              "46.87       1\n",
              "47.79       1\n",
              "7.17        1\n",
              "11.63       1\n",
              "806.58      1\n",
              "689.47      1\n",
              "10.72       1\n",
              "44.24       1\n",
              "17.53       1\n",
              "30.60       1\n",
              "33.16       1\n",
              "3.12        1\n",
              "572.46      1\n",
              "10.26       1\n",
              "85.22       1\n",
              "10.18       1\n",
              "11.40       1\n",
              "5.99        1\n",
              "11.78       1\n",
              "28.32       1\n",
              "29.52       1\n",
              "11.96       1\n",
              "75.22       1\n",
              "4.89        1\n",
              "16.29       1\n",
              "4.66        1\n",
              "60.70       1\n",
              "4.86        1\n",
              "24.20       1\n",
              "589.61      1\n",
              "17.99       1\n",
              "14.75       1\n",
              "69.46       1\n",
              "12.76       1\n",
              "9.04        1\n",
              "10.85       1\n",
              "56.22       1\n",
              "18.69       1\n",
              "15.49       1\n",
              "4.07        1\n",
              "6.13        1\n",
              "68.26       1\n",
              "50.42       1\n",
              "14.90       1\n",
              "15.76       1\n",
              "15.29       1\n",
              "44.29       1\n",
              "3284.62     1\n",
              "10.75       1\n",
              "38.45       1\n",
              "173.75      1\n",
              "2.72        1\n",
              "4.60        1\n",
              "97.01       1\n",
              "106.95      1\n",
              "9.46        1\n",
              "114.55      1\n",
              "13.72       1\n",
              "20.69       1\n",
              "5.52        1\n",
              "9.00        1\n",
              "30.21       1\n",
              "21.41       1\n",
              "8.13        1\n",
              "45.67       1\n",
              "2.21        1\n",
              "62.14       1\n",
              "7.24        1\n",
              "2.33        1\n",
              "21.43       1\n",
              "187.41      1\n",
              "16.63       1\n",
              "31.46       1\n",
              "25.97       1\n",
              "120.73      1\n",
              "172.13      1\n",
              "13.41       1\n",
              "821.71      1\n",
              "58.06       1\n",
              "20.97       1\n",
              "3267.57     1\n",
              "14.76       1\n",
              "10.67       1\n",
              "1.73        1\n",
              "319.15      1\n",
              "6.70        1\n",
              "2.11        1\n",
              "3.89        1\n",
              "88.80       1\n",
              "21.22       1\n",
              "9.80        1\n",
              "8.90        1\n",
              "47.53       1\n",
              "2.03        1\n",
              "2.43        1\n",
              "8.45        1\n",
              "355.56      1\n",
              "24.16       1\n",
              "2.58        1\n",
              "14.41       1\n",
              "34.20       1\n",
              "535.85      1\n",
              "7.34        1\n",
              "1.98        1\n",
              "45.83       1\n",
              "15.64       1\n",
              "52.09       1\n",
              "11.24       1\n",
              "1.74        1\n",
              "4.38        1\n",
              "46.53       1\n",
              "18.72       1\n",
              "13.54       1\n",
              "11.84       1\n",
              "2238.10     1\n",
              "15.22       1\n",
              "8.99        1\n",
              "169.26      1\n",
              "2.22        1\n",
              "33.47       1\n",
              "8.64        1\n",
              "12.71       1\n",
              "25.31       1\n",
              "244.57      1\n",
              "24.69       1\n",
              "15.47       1\n",
              "22.99       1\n",
              "97.65       1\n",
              "22.91       1\n",
              "11.10       1\n",
              "17.00       1\n",
              "9.11        1\n",
              "8.10        1\n",
              "16.51       1\n",
              "1777.05     1\n",
              "28.00       1\n",
              "37.26       1\n",
              "31.62       1\n",
              "40.59       1\n",
              "11.45       1\n",
              "49.32       1\n",
              "9.91        1\n",
              "9.23        1\n",
              "24.44       1\n",
              "5.76        1\n",
              "2750.00     1\n",
              "8.66        1\n",
              "24.80       1\n",
              "5.72        1\n",
              "7.35        1\n",
              "54.47       1\n",
              "20.30       1\n",
              "391.57      1\n",
              "21.18       1\n",
              "6.46        1\n",
              "15.05       1\n",
              "8.97        1\n",
              "25.59       1\n",
              "18.86       1\n",
              "6.57        1\n",
              "13.37       1\n",
              "29.38       1\n",
              "285.71      1\n",
              "4.80        1\n",
              "18.85       1\n",
              "130.77      1\n",
              "14.71       1\n",
              "142.62      1\n",
              "11.55       1\n",
              "24.46       1\n",
              "41.20       1\n",
              "35.81       1\n",
              "18.28       1\n",
              "7.57        1\n",
              "1024.31     1\n",
              "10.25       1\n",
              "17.82       1\n",
              "16.02       1\n",
              "67.24       1\n",
              "511.72      1\n",
              "15.40       1\n",
              "15.45       1\n",
              "37.73       1\n",
              "10.24       1\n",
              "38.00       1\n",
              "32.31       1\n",
              "23.67       1\n",
              "12.16       1\n",
              "18.93       1\n",
              "289.72      1\n",
              "61.17       1\n",
              "2.66        1\n",
              "56.33       1\n",
              "1.66        1\n",
              "3.30        1\n",
              "8.91        1\n",
              "8.81        1\n",
              "232.56      1\n",
              "90.38       1\n",
              "93.33       1\n",
              "18.06       1\n",
              "19.14       1\n",
              "15.46       1\n",
              "2.02        1\n",
              "55.00       1\n",
              "207.32      1\n",
              "33.85       1\n",
              "155.43      1\n",
              "10.37       1\n",
              "8.89        1\n",
              "16.91       1\n",
              "21.75       1\n",
              "2.29        1\n",
              "7.90        1\n",
              "17.41       1\n",
              "10.51       1\n",
              "106.67      1\n",
              "46.10       1\n",
              "13.00       1\n",
              "29.31       1\n",
              "2.36        1\n",
              "10.35       1\n",
              "245.61      1\n",
              "19.83       1\n",
              "6.01        1\n",
              "17.20       1\n",
              "19.65       1\n",
              "68.09       1\n",
              "13.42       1\n",
              "27.08       1\n",
              "15.36       1\n",
              "1.43        1\n",
              "7.16        1\n",
              "6.93        1\n",
              "12.10       1\n",
              "27.09       1\n",
              "26.61       1\n",
              "145.05      1\n",
              "13.29       1\n",
              "10.50       1\n",
              "2.74        1\n",
              "13.73       1\n",
              "11.53       1\n",
              "584.75      1\n",
              "13.67       1\n",
              "26.40       1\n",
              "5.31        1\n",
              "13.33       1\n",
              "6.44        1\n",
              "19.80       1\n",
              "6.39        1\n",
              "9.65        1\n",
              "7.96        1\n",
              "9.47        1\n",
              "31.39       1\n",
              "24.51       1\n",
              "11.75       1\n",
              "14.68       1\n",
              "21.93       1\n",
              "25.98       1\n",
              "9.37        1\n",
              "13.40       1\n",
              "6.85        1\n",
              "3.90        1\n",
              "11.42       1\n",
              "12.43       1\n",
              "1.62        1\n",
              "9.08        1\n",
              "5.23        1\n",
              "6.15        1\n",
              "44.66       1\n",
              "59.33       1\n",
              "9.05        1\n",
              "11.51       1\n",
              "11.65       1\n",
              "14.14       1\n",
              "11.18       1\n",
              "5.70        1\n",
              "6.03        1\n",
              "56.46       1\n",
              "90.48       1\n",
              "6.21        1\n",
              "9.60        1\n",
              "2.12        1\n",
              "2.57        1\n",
              "425.37      1\n",
              "11.52       1\n",
              "39.38       1\n",
              "777.03      1\n",
              "84.78       1\n",
              "9.42        1\n",
              "32.05       1\n",
              "50.40       1\n",
              "9.58        1\n",
              "3.76        1\n",
              "9.26        1\n",
              "15.11       1\n",
              "16.88       1\n",
              "5.97        1\n",
              "12.79       1\n",
              "3.15        1\n",
              "26.39       1\n",
              "7.86        1\n",
              "27.98       1\n",
              "21.03       1\n",
              "15.80       1\n",
              "454.74      1\n",
              "903.64      1\n",
              "12.84       1\n",
              "1.65        1\n",
              "9.74        1\n",
              "14.25       1\n",
              "22.13       1\n",
              "27.91       1\n",
              "8.82        1\n",
              "26.90       1\n",
              "16.50       1\n",
              "34.58       1\n",
              "21.13       1\n",
              "28.98       1\n",
              "26.17       1\n",
              "31.45       1\n",
              "18.33       1\n",
              "3.57        1\n",
              "21.33       1\n",
              "6.05        1\n",
              "99.57       1\n",
              "657.41      1\n",
              "1276.60     1\n",
              "1.41        1\n",
              "3.35        1\n",
              "50.11       1\n",
              "34.73       1\n",
              "32.67       1\n",
              "27.44       1\n",
              "1511.11     1\n",
              "2.77        1\n",
              "10.38       1\n",
              "11.21       1\n",
              "12.20       1\n",
              "100.79      1\n",
              "17.13       1\n",
              "3666.67     1\n",
              "51.95       1\n",
              "20.45       1\n",
              "12.57       1\n",
              "755.00      1\n",
              "23.82       1\n",
              "58.10       1\n",
              "8.28        1\n",
              "47.61       1\n",
              "32.89       1\n",
              "39.75       1\n",
              "10.46       1\n",
              "28.99       1\n",
              "18.74       1\n",
              "28.47       1\n",
              "2.61        1\n",
              "32.51       1\n",
              "40.47       1\n",
              "14.12       1\n",
              "39.64       1\n",
              "32.37       1\n",
              "12.00       1\n",
              "6.73        1\n",
              "12.45       1\n",
              "844.83      1\n",
              "13.82       1\n",
              "3.94        1\n",
              "58.90       1\n",
              "7.83        1\n",
              "8.21        1\n",
              "1.95        1\n",
              "14.10       1\n",
              "31.29       1\n",
              "7.75        1\n",
              "15.92       1\n",
              "15.04       1\n",
              "14.64       1\n",
              "19.22       1\n",
              "12.82       1\n",
              "Name: UrAlbCr, dtype: int64"
            ]
          },
          "metadata": {},
          "execution_count": 24
        }
      ],
      "source": [
        "# check inappropriate Na_to_K data points\n",
        "metabolic_df['UrAlbCr'].value_counts()"
      ]
    },
    {
      "cell_type": "code",
      "execution_count": 25,
      "metadata": {
        "colab": {
          "base_uri": "https://localhost:8080/"
        },
        "id": "SuwrcaBCLQhw",
        "outputId": "2e497241-ceed-4234-8e63-e953a40c515b"
      },
      "outputs": [
        {
          "output_type": "execute_result",
          "data": {
            "text/plain": [
              "5.2     77\n",
              "5.8     75\n",
              "4.6     71\n",
              "5.4     69\n",
              "5.0     69\n",
              "4.8     67\n",
              "5.5     66\n",
              "5.6     66\n",
              "5.7     65\n",
              "5.1     64\n",
              "4.4     62\n",
              "5.3     62\n",
              "4.9     61\n",
              "4.5     59\n",
              "6.1     58\n",
              "6.2     55\n",
              "5.9     54\n",
              "4.7     53\n",
              "6.7     53\n",
              "3.8     52\n",
              "6.0     52\n",
              "4.2     52\n",
              "6.3     51\n",
              "4.3     50\n",
              "6.4     49\n",
              "4.0     46\n",
              "3.4     44\n",
              "6.6     43\n",
              "6.8     40\n",
              "6.5     39\n",
              "3.9     39\n",
              "4.1     38\n",
              "6.9     35\n",
              "7.0     33\n",
              "7.2     32\n",
              "7.1     29\n",
              "3.6     28\n",
              "3.5     27\n",
              "7.3     25\n",
              "3.3     24\n",
              "3.2     24\n",
              "3.7     23\n",
              "7.8     22\n",
              "7.4     21\n",
              "7.5     20\n",
              "7.7     17\n",
              "3.1     16\n",
              "3.0     15\n",
              "8.0     14\n",
              "2.8     14\n",
              "7.6     13\n",
              "8.1     13\n",
              "7.9     13\n",
              "8.5     12\n",
              "2.9     10\n",
              "8.4     10\n",
              "2.7     10\n",
              "8.3     10\n",
              "8.6      9\n",
              "8.2      8\n",
              "8.8      7\n",
              "2.5      6\n",
              "9.1      6\n",
              "8.7      6\n",
              "8.9      5\n",
              "9.9      5\n",
              "9.3      5\n",
              "9.4      5\n",
              "10.0     3\n",
              "9.5      3\n",
              "9.2      3\n",
              "2.6      2\n",
              "2.1      2\n",
              "2.4      1\n",
              "9.0      1\n",
              "2.3      1\n",
              "10.2     1\n",
              "11.0     1\n",
              "10.5     1\n",
              "1.8      1\n",
              "10.9     1\n",
              "9.8      1\n",
              "11.2     1\n",
              "1.9      1\n",
              "9.6      1\n",
              "11.3     1\n",
              "9.7      1\n",
              "2.2      1\n",
              "Name: UricAcid, dtype: int64"
            ]
          },
          "metadata": {},
          "execution_count": 25
        }
      ],
      "source": [
        "# check inappropriate Na_to_K data points\n",
        "metabolic_df['UricAcid'].value_counts()"
      ]
    },
    {
      "cell_type": "code",
      "execution_count": 26,
      "metadata": {
        "colab": {
          "base_uri": "https://localhost:8080/"
        },
        "id": "KJaiHvvDLRFt",
        "outputId": "b1214854-cd80-4cab-9095-67a7378e7401"
      },
      "outputs": [
        {
          "output_type": "execute_result",
          "data": {
            "text/plain": [
              "97     90\n",
              "98     87\n",
              "96     87\n",
              "94     86\n",
              "99     85\n",
              "100    78\n",
              "93     77\n",
              "102    73\n",
              "103    72\n",
              "91     72\n",
              "92     70\n",
              "95     70\n",
              "90     68\n",
              "101    66\n",
              "105    64\n",
              "107    64\n",
              "88     61\n",
              "89     53\n",
              "108    51\n",
              "87     44\n",
              "104    44\n",
              "86     43\n",
              "111    43\n",
              "85     43\n",
              "106    38\n",
              "109    36\n",
              "110    35\n",
              "84     31\n",
              "83     29\n",
              "112    29\n",
              "115    24\n",
              "116    24\n",
              "113    22\n",
              "114    21\n",
              "118    19\n",
              "81     17\n",
              "80     16\n",
              "82     15\n",
              "117    15\n",
              "121    13\n",
              "124    12\n",
              "126    12\n",
              "128    11\n",
              "123    11\n",
              "130    11\n",
              "120    11\n",
              "122    10\n",
              "125    10\n",
              "77      9\n",
              "129     9\n",
              "79      9\n",
              "133     9\n",
              "75      9\n",
              "144     9\n",
              "119     8\n",
              "127     8\n",
              "135     7\n",
              "138     7\n",
              "78      7\n",
              "132     6\n",
              "142     6\n",
              "147     6\n",
              "141     6\n",
              "134     5\n",
              "131     5\n",
              "162     5\n",
              "160     4\n",
              "223     4\n",
              "155     4\n",
              "171     4\n",
              "148     4\n",
              "180     4\n",
              "172     4\n",
              "136     4\n",
              "154     3\n",
              "137     3\n",
              "156     3\n",
              "73      3\n",
              "70      3\n",
              "71      3\n",
              "204     3\n",
              "169     3\n",
              "181     3\n",
              "143     3\n",
              "176     3\n",
              "72      3\n",
              "157     3\n",
              "140     3\n",
              "74      3\n",
              "237     3\n",
              "139     3\n",
              "145     3\n",
              "219     3\n",
              "153     3\n",
              "163     2\n",
              "201     2\n",
              "173     2\n",
              "193     2\n",
              "182     2\n",
              "166     2\n",
              "165     2\n",
              "250     2\n",
              "200     2\n",
              "241     2\n",
              "191     2\n",
              "225     2\n",
              "270     2\n",
              "149     2\n",
              "254     2\n",
              "258     2\n",
              "190     2\n",
              "244     2\n",
              "69      2\n",
              "228     2\n",
              "243     2\n",
              "158     2\n",
              "76      2\n",
              "170     1\n",
              "39      1\n",
              "57      1\n",
              "150     1\n",
              "222     1\n",
              "177     1\n",
              "194     1\n",
              "178     1\n",
              "336     1\n",
              "63      1\n",
              "161     1\n",
              "318     1\n",
              "60      1\n",
              "308     1\n",
              "321     1\n",
              "301     1\n",
              "292     1\n",
              "276     1\n",
              "309     1\n",
              "366     1\n",
              "208     1\n",
              "66      1\n",
              "287     1\n",
              "382     1\n",
              "297     1\n",
              "293     1\n",
              "220     1\n",
              "159     1\n",
              "195     1\n",
              "146     1\n",
              "224     1\n",
              "277     1\n",
              "240     1\n",
              "54      1\n",
              "251     1\n",
              "236     1\n",
              "304     1\n",
              "343     1\n",
              "175     1\n",
              "275     1\n",
              "317     1\n",
              "203     1\n",
              "285     1\n",
              "151     1\n",
              "327     1\n",
              "344     1\n",
              "269     1\n",
              "253     1\n",
              "320     1\n",
              "249     1\n",
              "174     1\n",
              "247     1\n",
              "312     1\n",
              "231     1\n",
              "211     1\n",
              "202     1\n",
              "248     1\n",
              "365     1\n",
              "187     1\n",
              "217     1\n",
              "268     1\n",
              "164     1\n",
              "333     1\n",
              "47      1\n",
              "192     1\n",
              "335     1\n",
              "291     1\n",
              "196     1\n",
              "278     1\n",
              "152     1\n",
              "Name: BloodGlucose, dtype: int64"
            ]
          },
          "metadata": {},
          "execution_count": 26
        }
      ],
      "source": [
        "# check inappropriate Na_to_K data points\n",
        "metabolic_df['BloodGlucose'].value_counts()"
      ]
    },
    {
      "cell_type": "code",
      "execution_count": 27,
      "metadata": {
        "colab": {
          "base_uri": "https://localhost:8080/"
        },
        "id": "b1O47UWXLR5R",
        "outputId": "7cb05e1e-ac3a-4a82-bd98-94099762aabe"
      },
      "outputs": [
        {
          "output_type": "execute_result",
          "data": {
            "text/plain": [
              "48     87\n",
              "53     84\n",
              "44     84\n",
              "52     79\n",
              "51     76\n",
              "42     73\n",
              "46     73\n",
              "43     73\n",
              "40     70\n",
              "50     64\n",
              "47     64\n",
              "54     62\n",
              "49     61\n",
              "39     61\n",
              "45     57\n",
              "41     56\n",
              "62     55\n",
              "58     52\n",
              "56     52\n",
              "59     52\n",
              "57     51\n",
              "55     51\n",
              "65     50\n",
              "61     48\n",
              "38     47\n",
              "36     42\n",
              "60     40\n",
              "63     40\n",
              "34     37\n",
              "35     36\n",
              "37     35\n",
              "64     32\n",
              "69     31\n",
              "66     31\n",
              "71     27\n",
              "33     27\n",
              "68     27\n",
              "72     23\n",
              "67     21\n",
              "31     21\n",
              "70     19\n",
              "32     18\n",
              "75     18\n",
              "78     17\n",
              "30     17\n",
              "83     16\n",
              "80     16\n",
              "77     16\n",
              "74     15\n",
              "76     14\n",
              "73     13\n",
              "29     10\n",
              "84      9\n",
              "82      9\n",
              "90      8\n",
              "79      8\n",
              "28      8\n",
              "88      7\n",
              "85      7\n",
              "81      7\n",
              "27      7\n",
              "86      7\n",
              "97      7\n",
              "91      7\n",
              "26      6\n",
              "95      6\n",
              "89      6\n",
              "87      5\n",
              "94      5\n",
              "21      5\n",
              "92      4\n",
              "98      3\n",
              "25      3\n",
              "108     3\n",
              "104     3\n",
              "93      2\n",
              "22      2\n",
              "14      1\n",
              "106     1\n",
              "99      1\n",
              "121     1\n",
              "125     1\n",
              "24      1\n",
              "96      1\n",
              "101     1\n",
              "107     1\n",
              "100     1\n",
              "156     1\n",
              "119     1\n",
              "138     1\n",
              "23      1\n",
              "150     1\n",
              "114     1\n",
              "Name: HDL, dtype: int64"
            ]
          },
          "metadata": {},
          "execution_count": 27
        }
      ],
      "source": [
        "# check inappropriate Na_to_K data points\n",
        "metabolic_df['HDL'].value_counts()"
      ]
    },
    {
      "cell_type": "code",
      "execution_count": 28,
      "metadata": {
        "colab": {
          "base_uri": "https://localhost:8080/"
        },
        "id": "1OL8JW5_LSZj",
        "outputId": "be2d19c7-e98e-4a0d-ca6f-19354ac554b5"
      },
      "outputs": [
        {
          "output_type": "execute_result",
          "data": {
            "text/plain": [
              "75      34\n",
              "91      28\n",
              "78      28\n",
              "76      27\n",
              "89      27\n",
              "64      26\n",
              "62      26\n",
              "92      25\n",
              "86      25\n",
              "85      24\n",
              "98      24\n",
              "65      24\n",
              "67      24\n",
              "87      24\n",
              "101     23\n",
              "105     23\n",
              "84      23\n",
              "94      23\n",
              "93      22\n",
              "55      22\n",
              "95      22\n",
              "58      21\n",
              "80      21\n",
              "119     20\n",
              "70      20\n",
              "81      20\n",
              "71      20\n",
              "90      20\n",
              "60      19\n",
              "72      19\n",
              "77      19\n",
              "61      19\n",
              "109     19\n",
              "117     18\n",
              "83      18\n",
              "125     18\n",
              "114     18\n",
              "54      18\n",
              "124     18\n",
              "73      18\n",
              "68      18\n",
              "59      18\n",
              "66      17\n",
              "74      17\n",
              "102     17\n",
              "106     17\n",
              "107     17\n",
              "111     16\n",
              "99      16\n",
              "112     16\n",
              "97      16\n",
              "79      16\n",
              "63      16\n",
              "69      16\n",
              "52      16\n",
              "115     16\n",
              "120     15\n",
              "113     15\n",
              "53      15\n",
              "82      15\n",
              "138     15\n",
              "88      15\n",
              "44      15\n",
              "134     14\n",
              "103     14\n",
              "127     14\n",
              "46      14\n",
              "144     14\n",
              "118     14\n",
              "56      14\n",
              "108     14\n",
              "167     14\n",
              "96      13\n",
              "45      13\n",
              "151     13\n",
              "42      13\n",
              "148     13\n",
              "104     13\n",
              "128     12\n",
              "145     12\n",
              "50      12\n",
              "146     12\n",
              "130     12\n",
              "123     12\n",
              "122     12\n",
              "126     12\n",
              "139     12\n",
              "147     12\n",
              "174     12\n",
              "129     12\n",
              "163     12\n",
              "100     12\n",
              "136     11\n",
              "141     11\n",
              "149     11\n",
              "158     10\n",
              "162     10\n",
              "57      10\n",
              "135     10\n",
              "169     10\n",
              "180     10\n",
              "116     10\n",
              "131      9\n",
              "192      9\n",
              "110      9\n",
              "133      9\n",
              "39       9\n",
              "140      9\n",
              "121      9\n",
              "168      8\n",
              "157      8\n",
              "182      8\n",
              "51       8\n",
              "41       8\n",
              "173      7\n",
              "166      7\n",
              "137      7\n",
              "37       7\n",
              "152      7\n",
              "150      7\n",
              "43       7\n",
              "153      7\n",
              "177      7\n",
              "154      7\n",
              "35       6\n",
              "208      6\n",
              "195      6\n",
              "172      6\n",
              "143      6\n",
              "47       6\n",
              "175      6\n",
              "156      6\n",
              "171      5\n",
              "190      5\n",
              "142      5\n",
              "155      5\n",
              "198      5\n",
              "181      5\n",
              "229      5\n",
              "222      5\n",
              "188      5\n",
              "226      5\n",
              "179      5\n",
              "197      5\n",
              "40       5\n",
              "38       5\n",
              "205      5\n",
              "170      5\n",
              "159      5\n",
              "191      5\n",
              "49       5\n",
              "223      4\n",
              "178      4\n",
              "176      4\n",
              "184      4\n",
              "194      4\n",
              "30       4\n",
              "267      4\n",
              "218      4\n",
              "202      4\n",
              "132      4\n",
              "189      4\n",
              "274      4\n",
              "231      4\n",
              "48       4\n",
              "215      4\n",
              "165      4\n",
              "31       4\n",
              "34       4\n",
              "164      4\n",
              "160      4\n",
              "241      4\n",
              "196      4\n",
              "187      4\n",
              "186      4\n",
              "216      3\n",
              "200      3\n",
              "220      3\n",
              "161      3\n",
              "217      3\n",
              "306      3\n",
              "201      3\n",
              "309      3\n",
              "233      3\n",
              "240      3\n",
              "185      3\n",
              "193      3\n",
              "213      3\n",
              "235      3\n",
              "268      3\n",
              "246      3\n",
              "256      3\n",
              "275      3\n",
              "336      3\n",
              "26       3\n",
              "212      3\n",
              "323      3\n",
              "320      2\n",
              "183      2\n",
              "262      2\n",
              "481      2\n",
              "439      2\n",
              "291      2\n",
              "210      2\n",
              "330      2\n",
              "325      2\n",
              "332      2\n",
              "244      2\n",
              "326      2\n",
              "239      2\n",
              "271      2\n",
              "260      2\n",
              "228      2\n",
              "289      2\n",
              "354      2\n",
              "258      2\n",
              "36       2\n",
              "203      2\n",
              "207      2\n",
              "224      2\n",
              "273      2\n",
              "250      2\n",
              "319      2\n",
              "286      2\n",
              "307      2\n",
              "199      2\n",
              "238      2\n",
              "209      2\n",
              "263      2\n",
              "272      2\n",
              "32       2\n",
              "373      2\n",
              "265      2\n",
              "29       2\n",
              "333      2\n",
              "236      2\n",
              "371      2\n",
              "302      2\n",
              "206      2\n",
              "279      2\n",
              "385      1\n",
              "277      1\n",
              "535      1\n",
              "607      1\n",
              "295      1\n",
              "473      1\n",
              "340      1\n",
              "814      1\n",
              "303      1\n",
              "316      1\n",
              "490      1\n",
              "349      1\n",
              "356      1\n",
              "489      1\n",
              "305      1\n",
              "400      1\n",
              "539      1\n",
              "276      1\n",
              "311      1\n",
              "610      1\n",
              "382      1\n",
              "383      1\n",
              "296      1\n",
              "462      1\n",
              "350      1\n",
              "219      1\n",
              "285      1\n",
              "345      1\n",
              "245      1\n",
              "259      1\n",
              "526      1\n",
              "700      1\n",
              "242      1\n",
              "362      1\n",
              "252      1\n",
              "565      1\n",
              "559      1\n",
              "269      1\n",
              "1562     1\n",
              "288      1\n",
              "688      1\n",
              "476      1\n",
              "404      1\n",
              "211      1\n",
              "364      1\n",
              "511      1\n",
              "666      1\n",
              "461      1\n",
              "374      1\n",
              "281      1\n",
              "528      1\n",
              "384      1\n",
              "214      1\n",
              "394      1\n",
              "465      1\n",
              "409      1\n",
              "584      1\n",
              "452      1\n",
              "264      1\n",
              "318      1\n",
              "681      1\n",
              "419      1\n",
              "626      1\n",
              "227      1\n",
              "248      1\n",
              "410      1\n",
              "348      1\n",
              "347      1\n",
              "287      1\n",
              "454      1\n",
              "284      1\n",
              "485      1\n",
              "363      1\n",
              "624      1\n",
              "254      1\n",
              "335      1\n",
              "979      1\n",
              "367      1\n",
              "225      1\n",
              "428      1\n",
              "553      1\n",
              "491      1\n",
              "249      1\n",
              "294      1\n",
              "564      1\n",
              "357      1\n",
              "510      1\n",
              "234      1\n",
              "344      1\n",
              "230      1\n",
              "560      1\n",
              "243      1\n",
              "351      1\n",
              "337      1\n",
              "283      1\n",
              "308      1\n",
              "33       1\n",
              "1311     1\n",
              "589      1\n",
              "377      1\n",
              "398      1\n",
              "270      1\n",
              "329      1\n",
              "668      1\n",
              "298      1\n",
              "Name: Triglycerides, dtype: int64"
            ]
          },
          "metadata": {},
          "execution_count": 28
        }
      ],
      "source": [
        "# check inappropriate Na_to_K data points\n",
        "metabolic_df['Triglycerides'].value_counts()"
      ]
    },
    {
      "cell_type": "code",
      "execution_count": 29,
      "metadata": {
        "colab": {
          "base_uri": "https://localhost:8080/"
        },
        "id": "6XHZMLbvdpVu",
        "outputId": "d7959797-c58e-4a07-c7fe-8d5cdd48e1e2"
      },
      "outputs": [
        {
          "output_type": "execute_result",
          "data": {
            "text/plain": [
              "No MetSyn    1579\n",
              "MetSyn        822\n",
              "Name: MetabolicSyndrome, dtype: int64"
            ]
          },
          "metadata": {},
          "execution_count": 29
        }
      ],
      "source": [
        "# check inappropriate Na_to_K data points\n",
        "metabolic_df['MetabolicSyndrome'].value_counts()"
      ]
    },
    {
      "cell_type": "code",
      "execution_count": 30,
      "metadata": {
        "colab": {
          "base_uri": "https://localhost:8080/",
          "height": 300
        },
        "id": "cxvgYv-CJ-kv",
        "outputId": "c4861df6-9645-4418-9d6c-9c27a56d565f"
      },
      "outputs": [
        {
          "output_type": "execute_result",
          "data": {
            "text/plain": [
              "               Age       Income    WaistCirc          BMI  Albuminuria  \\\n",
              "count  2401.000000  2284.000000  2316.000000  2375.000000  2401.000000   \n",
              "mean     48.691795  4005.253940    98.307254    28.702189     0.154102   \n",
              "std      17.632852  2954.032186    16.252634     6.662242     0.422780   \n",
              "min      20.000000   300.000000    56.200000    13.400000     0.000000   \n",
              "25%      34.000000  1600.000000    86.675000    24.000000     0.000000   \n",
              "50%      48.000000  2500.000000    97.000000    27.700000     0.000000   \n",
              "75%      63.000000  6200.000000   107.625000    32.100000     0.000000   \n",
              "max      80.000000  9000.000000   176.000000    68.700000     2.000000   \n",
              "\n",
              "           UrAlbCr     UricAcid  BloodGlucose          HDL  Triglycerides  \n",
              "count  2401.000000  2401.000000   2401.000000  2401.000000    2401.000000  \n",
              "mean     43.626131     5.489046    108.247813    53.369429     128.125364  \n",
              "std     258.272829     1.439358     34.820657    15.185537      95.322477  \n",
              "min       1.400000     1.800000     39.000000    14.000000      26.000000  \n",
              "25%       4.450000     4.500000     92.000000    43.000000      75.000000  \n",
              "50%       7.070000     5.400000     99.000000    51.000000     103.000000  \n",
              "75%      13.690000     6.400000    110.000000    62.000000     150.000000  \n",
              "max    5928.000000    11.300000    382.000000   156.000000    1562.000000  "
            ],
            "text/html": [
              "\n",
              "  <div id=\"df-69bf9655-88ca-4c6f-9df7-bebc1b15f4fa\">\n",
              "    <div class=\"colab-df-container\">\n",
              "      <div>\n",
              "<style scoped>\n",
              "    .dataframe tbody tr th:only-of-type {\n",
              "        vertical-align: middle;\n",
              "    }\n",
              "\n",
              "    .dataframe tbody tr th {\n",
              "        vertical-align: top;\n",
              "    }\n",
              "\n",
              "    .dataframe thead th {\n",
              "        text-align: right;\n",
              "    }\n",
              "</style>\n",
              "<table border=\"1\" class=\"dataframe\">\n",
              "  <thead>\n",
              "    <tr style=\"text-align: right;\">\n",
              "      <th></th>\n",
              "      <th>Age</th>\n",
              "      <th>Income</th>\n",
              "      <th>WaistCirc</th>\n",
              "      <th>BMI</th>\n",
              "      <th>Albuminuria</th>\n",
              "      <th>UrAlbCr</th>\n",
              "      <th>UricAcid</th>\n",
              "      <th>BloodGlucose</th>\n",
              "      <th>HDL</th>\n",
              "      <th>Triglycerides</th>\n",
              "    </tr>\n",
              "  </thead>\n",
              "  <tbody>\n",
              "    <tr>\n",
              "      <th>count</th>\n",
              "      <td>2401.000000</td>\n",
              "      <td>2284.000000</td>\n",
              "      <td>2316.000000</td>\n",
              "      <td>2375.000000</td>\n",
              "      <td>2401.000000</td>\n",
              "      <td>2401.000000</td>\n",
              "      <td>2401.000000</td>\n",
              "      <td>2401.000000</td>\n",
              "      <td>2401.000000</td>\n",
              "      <td>2401.000000</td>\n",
              "    </tr>\n",
              "    <tr>\n",
              "      <th>mean</th>\n",
              "      <td>48.691795</td>\n",
              "      <td>4005.253940</td>\n",
              "      <td>98.307254</td>\n",
              "      <td>28.702189</td>\n",
              "      <td>0.154102</td>\n",
              "      <td>43.626131</td>\n",
              "      <td>5.489046</td>\n",
              "      <td>108.247813</td>\n",
              "      <td>53.369429</td>\n",
              "      <td>128.125364</td>\n",
              "    </tr>\n",
              "    <tr>\n",
              "      <th>std</th>\n",
              "      <td>17.632852</td>\n",
              "      <td>2954.032186</td>\n",
              "      <td>16.252634</td>\n",
              "      <td>6.662242</td>\n",
              "      <td>0.422780</td>\n",
              "      <td>258.272829</td>\n",
              "      <td>1.439358</td>\n",
              "      <td>34.820657</td>\n",
              "      <td>15.185537</td>\n",
              "      <td>95.322477</td>\n",
              "    </tr>\n",
              "    <tr>\n",
              "      <th>min</th>\n",
              "      <td>20.000000</td>\n",
              "      <td>300.000000</td>\n",
              "      <td>56.200000</td>\n",
              "      <td>13.400000</td>\n",
              "      <td>0.000000</td>\n",
              "      <td>1.400000</td>\n",
              "      <td>1.800000</td>\n",
              "      <td>39.000000</td>\n",
              "      <td>14.000000</td>\n",
              "      <td>26.000000</td>\n",
              "    </tr>\n",
              "    <tr>\n",
              "      <th>25%</th>\n",
              "      <td>34.000000</td>\n",
              "      <td>1600.000000</td>\n",
              "      <td>86.675000</td>\n",
              "      <td>24.000000</td>\n",
              "      <td>0.000000</td>\n",
              "      <td>4.450000</td>\n",
              "      <td>4.500000</td>\n",
              "      <td>92.000000</td>\n",
              "      <td>43.000000</td>\n",
              "      <td>75.000000</td>\n",
              "    </tr>\n",
              "    <tr>\n",
              "      <th>50%</th>\n",
              "      <td>48.000000</td>\n",
              "      <td>2500.000000</td>\n",
              "      <td>97.000000</td>\n",
              "      <td>27.700000</td>\n",
              "      <td>0.000000</td>\n",
              "      <td>7.070000</td>\n",
              "      <td>5.400000</td>\n",
              "      <td>99.000000</td>\n",
              "      <td>51.000000</td>\n",
              "      <td>103.000000</td>\n",
              "    </tr>\n",
              "    <tr>\n",
              "      <th>75%</th>\n",
              "      <td>63.000000</td>\n",
              "      <td>6200.000000</td>\n",
              "      <td>107.625000</td>\n",
              "      <td>32.100000</td>\n",
              "      <td>0.000000</td>\n",
              "      <td>13.690000</td>\n",
              "      <td>6.400000</td>\n",
              "      <td>110.000000</td>\n",
              "      <td>62.000000</td>\n",
              "      <td>150.000000</td>\n",
              "    </tr>\n",
              "    <tr>\n",
              "      <th>max</th>\n",
              "      <td>80.000000</td>\n",
              "      <td>9000.000000</td>\n",
              "      <td>176.000000</td>\n",
              "      <td>68.700000</td>\n",
              "      <td>2.000000</td>\n",
              "      <td>5928.000000</td>\n",
              "      <td>11.300000</td>\n",
              "      <td>382.000000</td>\n",
              "      <td>156.000000</td>\n",
              "      <td>1562.000000</td>\n",
              "    </tr>\n",
              "  </tbody>\n",
              "</table>\n",
              "</div>\n",
              "      <button class=\"colab-df-convert\" onclick=\"convertToInteractive('df-69bf9655-88ca-4c6f-9df7-bebc1b15f4fa')\"\n",
              "              title=\"Convert this dataframe to an interactive table.\"\n",
              "              style=\"display:none;\">\n",
              "        \n",
              "  <svg xmlns=\"http://www.w3.org/2000/svg\" height=\"24px\"viewBox=\"0 0 24 24\"\n",
              "       width=\"24px\">\n",
              "    <path d=\"M0 0h24v24H0V0z\" fill=\"none\"/>\n",
              "    <path d=\"M18.56 5.44l.94 2.06.94-2.06 2.06-.94-2.06-.94-.94-2.06-.94 2.06-2.06.94zm-11 1L8.5 8.5l.94-2.06 2.06-.94-2.06-.94L8.5 2.5l-.94 2.06-2.06.94zm10 10l.94 2.06.94-2.06 2.06-.94-2.06-.94-.94-2.06-.94 2.06-2.06.94z\"/><path d=\"M17.41 7.96l-1.37-1.37c-.4-.4-.92-.59-1.43-.59-.52 0-1.04.2-1.43.59L10.3 9.45l-7.72 7.72c-.78.78-.78 2.05 0 2.83L4 21.41c.39.39.9.59 1.41.59.51 0 1.02-.2 1.41-.59l7.78-7.78 2.81-2.81c.8-.78.8-2.07 0-2.86zM5.41 20L4 18.59l7.72-7.72 1.47 1.35L5.41 20z\"/>\n",
              "  </svg>\n",
              "      </button>\n",
              "      \n",
              "  <style>\n",
              "    .colab-df-container {\n",
              "      display:flex;\n",
              "      flex-wrap:wrap;\n",
              "      gap: 12px;\n",
              "    }\n",
              "\n",
              "    .colab-df-convert {\n",
              "      background-color: #E8F0FE;\n",
              "      border: none;\n",
              "      border-radius: 50%;\n",
              "      cursor: pointer;\n",
              "      display: none;\n",
              "      fill: #1967D2;\n",
              "      height: 32px;\n",
              "      padding: 0 0 0 0;\n",
              "      width: 32px;\n",
              "    }\n",
              "\n",
              "    .colab-df-convert:hover {\n",
              "      background-color: #E2EBFA;\n",
              "      box-shadow: 0px 1px 2px rgba(60, 64, 67, 0.3), 0px 1px 3px 1px rgba(60, 64, 67, 0.15);\n",
              "      fill: #174EA6;\n",
              "    }\n",
              "\n",
              "    [theme=dark] .colab-df-convert {\n",
              "      background-color: #3B4455;\n",
              "      fill: #D2E3FC;\n",
              "    }\n",
              "\n",
              "    [theme=dark] .colab-df-convert:hover {\n",
              "      background-color: #434B5C;\n",
              "      box-shadow: 0px 1px 3px 1px rgba(0, 0, 0, 0.15);\n",
              "      filter: drop-shadow(0px 1px 2px rgba(0, 0, 0, 0.3));\n",
              "      fill: #FFFFFF;\n",
              "    }\n",
              "  </style>\n",
              "\n",
              "      <script>\n",
              "        const buttonEl =\n",
              "          document.querySelector('#df-69bf9655-88ca-4c6f-9df7-bebc1b15f4fa button.colab-df-convert');\n",
              "        buttonEl.style.display =\n",
              "          google.colab.kernel.accessAllowed ? 'block' : 'none';\n",
              "\n",
              "        async function convertToInteractive(key) {\n",
              "          const element = document.querySelector('#df-69bf9655-88ca-4c6f-9df7-bebc1b15f4fa');\n",
              "          const dataTable =\n",
              "            await google.colab.kernel.invokeFunction('convertToInteractive',\n",
              "                                                     [key], {});\n",
              "          if (!dataTable) return;\n",
              "\n",
              "          const docLinkHtml = 'Like what you see? Visit the ' +\n",
              "            '<a target=\"_blank\" href=https://colab.research.google.com/notebooks/data_table.ipynb>data table notebook</a>'\n",
              "            + ' to learn more about interactive tables.';\n",
              "          element.innerHTML = '';\n",
              "          dataTable['output_type'] = 'display_data';\n",
              "          await google.colab.output.renderOutput(dataTable, element);\n",
              "          const docLink = document.createElement('div');\n",
              "          docLink.innerHTML = docLinkHtml;\n",
              "          element.appendChild(docLink);\n",
              "        }\n",
              "      </script>\n",
              "    </div>\n",
              "  </div>\n",
              "  "
            ]
          },
          "metadata": {},
          "execution_count": 30
        }
      ],
      "source": [
        "# Display the descriptive statistics for the numeric columns\n",
        "metabolic_df.describe(include=\"number\")"
      ]
    },
    {
      "cell_type": "markdown",
      "metadata": {
        "id": "cg0nPa30fTCu"
      },
      "source": [
        "- All column values appear to have appropriate values."
      ]
    },
    {
      "cell_type": "markdown",
      "metadata": {
        "id": "cl1hJhm0fHTs"
      },
      "source": [
        "### Missing Values"
      ]
    },
    {
      "cell_type": "code",
      "execution_count": 31,
      "metadata": {
        "colab": {
          "base_uri": "https://localhost:8080/"
        },
        "id": "1RLu9H2ZENlr",
        "outputId": "2491742f-66c2-4db7-fe69-ab653fe67d15"
      },
      "outputs": [
        {
          "output_type": "execute_result",
          "data": {
            "text/plain": [
              "Age                    0\n",
              "Sex                    0\n",
              "Marital              208\n",
              "Income               117\n",
              "Race                   0\n",
              "WaistCirc             85\n",
              "BMI                   26\n",
              "Albuminuria            0\n",
              "UrAlbCr                0\n",
              "UricAcid               0\n",
              "BloodGlucose           0\n",
              "HDL                    0\n",
              "Triglycerides          0\n",
              "MetabolicSyndrome      0\n",
              "dtype: int64"
            ]
          },
          "metadata": {},
          "execution_count": 31
        }
      ],
      "source": [
        "# Check for number of missing values in each column\n",
        "metabolic_df.isna().sum()"
      ]
    },
    {
      "cell_type": "markdown",
      "metadata": {
        "id": "yW6pify8EQ9U"
      },
      "source": [
        "- Marital, Income, WaistCirc, and BMI have missing values. These will be imputed after splitting the data using simple imputer strategy constant = unknown for missing categorical values and simple imputer strategy median for missing numeric values to minimize bias in dataset."
      ]
    },
    {
      "cell_type": "markdown",
      "metadata": {
        "id": "N8G7xZeIf7PX"
      },
      "source": [
        "## Create Copies of dataset for EDA and ML"
      ]
    },
    {
      "cell_type": "code",
      "execution_count": 32,
      "metadata": {
        "id": "_d3FCP7If8A0"
      },
      "outputs": [],
      "source": [
        "## Make a copy of the dataset for exploratory visualization\n",
        "eda_df = metabolic_df.copy()"
      ]
    },
    {
      "cell_type": "code",
      "execution_count": 33,
      "metadata": {
        "id": "BTgTi3tKgEQ-"
      },
      "outputs": [],
      "source": [
        "## Make a copy of the dataset for machine learning\n",
        "ml_df = metabolic_df.copy()"
      ]
    },
    {
      "cell_type": "markdown",
      "metadata": {
        "id": "Ipmy0kGGfyZO"
      },
      "source": [
        "## Exploratory Visualization"
      ]
    },
    {
      "cell_type": "code",
      "execution_count": 34,
      "metadata": {
        "colab": {
          "base_uri": "https://localhost:8080/",
          "height": 281
        },
        "id": "IMfNIj97f19m",
        "outputId": "bd0a78df-c712-44a4-c2e0-49e278621c24"
      },
      "outputs": [
        {
          "output_type": "display_data",
          "data": {
            "text/plain": [
              "<Figure size 432x288 with 1 Axes>"
            ],
            "image/png": "[encoded data removed]"
          },
          "metadata": {
            "needs_background": "light"
          }
        }
      ],
      "source": [
        "# boxplot for age\n",
        "plt.boxplot(eda_df['Age'], labels= ['Age'])\n",
        "plt.title('Age');"
      ]
    },
    {
      "cell_type": "markdown",
      "metadata": {
        "id": "ztHw48KnTrHm"
      },
      "source": [
        "- This is a normal distribution. There are no outliers."
      ]
    },
    {
      "cell_type": "code",
      "execution_count": 35,
      "metadata": {
        "colab": {
          "base_uri": "https://localhost:8080/",
          "height": 390
        },
        "id": "dW_t_7DcgdWI",
        "outputId": "8dc48be1-bb7e-43b1-c676-b2d3f557a442"
      },
      "outputs": [
        {
          "output_type": "display_data",
          "data": {
            "text/plain": [
              "<Figure size 864x432 with 1 Axes>"
            ],
            "image/png": "[encoded data removed]"
          },
          "metadata": {
            "needs_background": "light"
          }
        }
      ],
      "source": [
        "# histogram for income\n",
        "plt.figure(figsize= (12,6))\n",
        "eda_df['Income'].hist(bins = 'auto', edgecolor = 'black', grid=False)\n",
        "plt.title('Income');"
      ]
    },
    {
      "cell_type": "code",
      "execution_count": 36,
      "metadata": {
        "colab": {
          "base_uri": "https://localhost:8080/"
        },
        "id": "qmta677bYRoG",
        "outputId": "2ef58219-a818-4201-f1f3-104e8928688f"
      },
      "outputs": [
        {
          "output_type": "stream",
          "name": "stdout",
          "text": [
            "Outliers: 0 (0.0)% low, 0 (0.0)% high\n"
          ]
        }
      ],
      "source": [
        "outlier_statistics(eda_df, 'Income')"
      ]
    },
    {
      "cell_type": "markdown",
      "metadata": {
        "id": "dXYGXwu9cb04"
      },
      "source": [
        "- There are no outliers noted. Most values are between 1,000 and 1,500."
      ]
    },
    {
      "cell_type": "code",
      "execution_count": 37,
      "metadata": {
        "colab": {
          "base_uri": "https://localhost:8080/",
          "height": 390
        },
        "id": "Ti4nwiDlgevM",
        "outputId": "cf322347-dcab-4bc1-c451-ae310e7a4911"
      },
      "outputs": [
        {
          "output_type": "display_data",
          "data": {
            "text/plain": [
              "<Figure size 864x432 with 1 Axes>"
            ],
            "image/png": "[encoded data removed]"
          },
          "metadata": {
            "needs_background": "light"
          }
        }
      ],
      "source": [
        "# histogram for waist circumference\n",
        "plt.figure(figsize= (12,6))\n",
        "eda_df['WaistCirc'].hist(bins = 'auto', edgecolor = 'black', grid=False)\n",
        "plt.title('Waist Circumference');"
      ]
    },
    {
      "cell_type": "code",
      "execution_count": 38,
      "metadata": {
        "colab": {
          "base_uri": "https://localhost:8080/"
        },
        "id": "aAO-fpx5c6EB",
        "outputId": "3ac0ecf7-ddc7-49cf-d9df-7dd35f94c2c5"
      },
      "outputs": [
        {
          "output_type": "stream",
          "name": "stdout",
          "text": [
            "Outliers: 0 (0.0)% low, 44 (1.8)% high\n"
          ]
        }
      ],
      "source": [
        "outlier_statistics(eda_df, 'WaistCirc')"
      ]
    },
    {
      "cell_type": "markdown",
      "metadata": {
        "id": "U79oPSC-TJW1"
      },
      "source": [
        "- There are 44 outliers on the high side. Most values are between 93 and 96."
      ]
    },
    {
      "cell_type": "code",
      "execution_count": 39,
      "metadata": {
        "colab": {
          "base_uri": "https://localhost:8080/",
          "height": 404
        },
        "id": "8AONH6ewOUWq",
        "outputId": "1d07b922-3de8-449d-bfaf-42e38a1c9fcb"
      },
      "outputs": [
        {
          "output_type": "display_data",
          "data": {
            "text/plain": [
              "<Figure size 864x432 with 1 Axes>"
            ],
            "image/png": "[encoded data removed]"
          },
          "metadata": {
            "needs_background": "light"
          }
        }
      ],
      "source": [
        "# count plot of albuminuria\n",
        "plt.figure(figsize= (12,6))\n",
        "sns.countplot(data = eda_df, x = 'Albuminuria', order=eda_df['Albuminuria'].value_counts().index)\n",
        "plt.title('Albuminuria');"
      ]
    },
    {
      "cell_type": "code",
      "execution_count": 40,
      "metadata": {
        "colab": {
          "base_uri": "https://localhost:8080/"
        },
        "id": "tpyyHdxMeBRl",
        "outputId": "42b12808-1dd5-483b-d821-9b71ee192635"
      },
      "outputs": [
        {
          "output_type": "stream",
          "name": "stdout",
          "text": [
            "Outliers: 0 (0.0)% low, 312 (13.0)% high\n"
          ]
        }
      ],
      "source": [
        "outlier_statistics(eda_df, 'Albuminuria')"
      ]
    },
    {
      "cell_type": "markdown",
      "metadata": {
        "id": "5G7vfwkheOEH"
      },
      "source": [
        "- There are 312 outliers on the high side. There are significanly more '0' values than '1' or '2' values."
      ]
    },
    {
      "cell_type": "code",
      "execution_count": 41,
      "metadata": {
        "colab": {
          "base_uri": "https://localhost:8080/",
          "height": 281
        },
        "id": "3z6swwvigf9k",
        "outputId": "4f82b227-1b66-4898-b0c8-6b5c38515b2a"
      },
      "outputs": [
        {
          "output_type": "display_data",
          "data": {
            "text/plain": [
              "<Figure size 432x288 with 1 Axes>"
            ],
            "image/png": "[encoded data removed]"
          },
          "metadata": {
            "needs_background": "light"
          }
        }
      ],
      "source": [
        "# histogram for UrAlbCr\n",
        "plt.boxplot(eda_df['UrAlbCr'], labels= ['UrAlbCr'])\n",
        "plt.title('UrAlbCr');"
      ]
    },
    {
      "cell_type": "code",
      "execution_count": 42,
      "metadata": {
        "colab": {
          "base_uri": "https://localhost:8080/"
        },
        "id": "MpcJk18EY_Wt",
        "outputId": "72926bbe-131c-4e1c-e963-0fa6523c2f6b"
      },
      "outputs": [
        {
          "output_type": "stream",
          "name": "stdout",
          "text": [
            "Outliers: 0 (0.0)% low, 332 (13.8)% high\n"
          ]
        }
      ],
      "source": [
        "outlier_statistics(eda_df, 'UrAlbCr')"
      ]
    },
    {
      "cell_type": "code",
      "execution_count": 43,
      "metadata": {
        "colab": {
          "base_uri": "https://localhost:8080/",
          "height": 390
        },
        "id": "Yguebra2gge6",
        "outputId": "dd2a3e5d-f999-4009-9452-726762b165c9"
      },
      "outputs": [
        {
          "output_type": "display_data",
          "data": {
            "text/plain": [
              "<Figure size 864x432 with 1 Axes>"
            ],
            "image/png": "[encoded data removed]"
          },
          "metadata": {
            "needs_background": "light"
          }
        }
      ],
      "source": [
        "# histogram for uric acid\n",
        "plt.figure(figsize= (12,6))\n",
        "eda_df['UricAcid'].hist(bins = 'auto', edgecolor = 'black', grid=False)\n",
        "plt.title('Uric Acid');"
      ]
    },
    {
      "cell_type": "code",
      "execution_count": 44,
      "metadata": {
        "colab": {
          "base_uri": "https://localhost:8080/"
        },
        "id": "p1FpIR4AZVB8",
        "outputId": "462cae81-b23a-4589-e80a-73f2ad82141b"
      },
      "outputs": [
        {
          "output_type": "stream",
          "name": "stdout",
          "text": [
            "Outliers: 0 (0.0)% low, 30 (1.2)% high\n"
          ]
        }
      ],
      "source": [
        "outlier_statistics(eda_df, 'UricAcid')"
      ]
    },
    {
      "cell_type": "markdown",
      "metadata": {
        "id": "F4-ALcMVQYdG"
      },
      "source": [
        "-  There are 30 outliers on the high side. The most values are between 5.25 and 5.50."
      ]
    },
    {
      "cell_type": "code",
      "execution_count": 45,
      "metadata": {
        "colab": {
          "base_uri": "https://localhost:8080/",
          "height": 390
        },
        "id": "IirwCBjSQl0E",
        "outputId": "c748acea-4f9d-43e8-9271-4472d1949705"
      },
      "outputs": [
        {
          "output_type": "display_data",
          "data": {
            "text/plain": [
              "<Figure size 864x432 with 1 Axes>"
            ],
            "image/png": "[encoded data removed]"
          },
          "metadata": {
            "needs_background": "light"
          }
        }
      ],
      "source": [
        "# boxplot for blood glucose\n",
        "plt.figure(figsize= (12,6))\n",
        "plt.boxplot(eda_df['BloodGlucose'], labels= ['BloodGlucose'])\n",
        "plt.title('Blood Glucose');"
      ]
    },
    {
      "cell_type": "code",
      "execution_count": 46,
      "metadata": {
        "colab": {
          "base_uri": "https://localhost:8080/"
        },
        "id": "ps8FzvntZcbb",
        "outputId": "e3fa02cd-c7a8-45e1-9549-f6988eaaa216"
      },
      "outputs": [
        {
          "output_type": "stream",
          "name": "stdout",
          "text": [
            "Outliers: 6 (0.2)% low, 214 (8.9)% high\n"
          ]
        }
      ],
      "source": [
        "outlier_statistics(eda_df, 'BloodGlucose')"
      ]
    },
    {
      "cell_type": "markdown",
      "metadata": {
        "id": "3XiS65rdfoaf"
      },
      "source": [
        "- There are 6 outliers on the low side and 214 outliers on the high side."
      ]
    },
    {
      "cell_type": "code",
      "execution_count": 47,
      "metadata": {
        "colab": {
          "base_uri": "https://localhost:8080/",
          "height": 390
        },
        "id": "CdElwHaIgg_-",
        "outputId": "988e91b5-121d-49e5-eddb-544d24c04a17"
      },
      "outputs": [
        {
          "output_type": "display_data",
          "data": {
            "text/plain": [
              "<Figure size 864x432 with 1 Axes>"
            ],
            "image/png": "[encoded data removed]"
          },
          "metadata": {
            "needs_background": "light"
          }
        }
      ],
      "source": [
        "# boxplot for HDL\n",
        "plt.figure(figsize= (12,6))\n",
        "plt.boxplot(eda_df['HDL'], labels= ['HDL'])\n",
        "plt.title('HDL');"
      ]
    },
    {
      "cell_type": "code",
      "execution_count": 48,
      "metadata": {
        "colab": {
          "base_uri": "https://localhost:8080/"
        },
        "id": "no_1EXccZil-",
        "outputId": "80c3624d-6768-446c-c8e4-58ee05c4e699"
      },
      "outputs": [
        {
          "output_type": "stream",
          "name": "stdout",
          "text": [
            "Outliers: 1 (0.0)% low, 53 (2.2)% high\n"
          ]
        }
      ],
      "source": [
        "outlier_statistics(eda_df, 'HDL')"
      ]
    },
    {
      "cell_type": "markdown",
      "metadata": {
        "id": "rxNapk9teqdQ"
      },
      "source": [
        "- There is 1 outlier on the low side 53 outliers on the high side."
      ]
    },
    {
      "cell_type": "code",
      "execution_count": 49,
      "metadata": {
        "colab": {
          "base_uri": "https://localhost:8080/",
          "height": 390
        },
        "id": "6ev1IMhighin",
        "outputId": "19b1625d-ac90-491c-bd40-035d1f604a2c"
      },
      "outputs": [
        {
          "output_type": "display_data",
          "data": {
            "text/plain": [
              "<Figure size 864x432 with 1 Axes>"
            ],
            "image/png": "[encoded data removed]"
          },
          "metadata": {
            "needs_background": "light"
          }
        }
      ],
      "source": [
        "# boxplot for triglycerides\n",
        "plt.figure(figsize= (12,6))\n",
        "plt.boxplot(eda_df['Triglycerides'], labels= ['Triglycerides'])\n",
        "plt.title('Triglycerides');"
      ]
    },
    {
      "cell_type": "code",
      "execution_count": 50,
      "metadata": {
        "colab": {
          "base_uri": "https://localhost:8080/"
        },
        "id": "MDymCOgtZnHQ",
        "outputId": "440d5895-7940-4001-b19a-2f3e6d4fd361"
      },
      "outputs": [
        {
          "output_type": "stream",
          "name": "stdout",
          "text": [
            "Outliers: 0 (0.0)% low, 161 (6.7)% high\n"
          ]
        }
      ],
      "source": [
        "outlier_statistics(eda_df, 'Triglycerides')"
      ]
    },
    {
      "cell_type": "markdown",
      "metadata": {
        "id": "tQN_xYj1ewAN"
      },
      "source": [
        "- There are 161 outliers on the high side."
      ]
    },
    {
      "cell_type": "code",
      "execution_count": 51,
      "metadata": {
        "colab": {
          "base_uri": "https://localhost:8080/",
          "height": 430
        },
        "id": "G74GGlIVgVGS",
        "outputId": "475f4942-c169-4b01-ec29-54628d3be446"
      },
      "outputs": [
        {
          "output_type": "display_data",
          "data": {
            "text/plain": [
              "<Figure size 864x432 with 1 Axes>"
            ],
            "image/png": "[encoded data removed]"
          },
          "metadata": {
            "needs_background": "light"
          }
        }
      ],
      "source": [
        "# count plot of sex\n",
        "plt.figure(figsize= (12,6))\n",
        "sns.countplot(data = eda_df, x = 'Sex', order=eda_df['Sex'].value_counts().index)\n",
        "plt.xticks(rotation=90)\n",
        "plt.title('Sex');"
      ]
    },
    {
      "cell_type": "markdown",
      "metadata": {
        "id": "touWf3XQScb1"
      },
      "source": [
        "- There are sllightly more females than males."
      ]
    },
    {
      "cell_type": "code",
      "execution_count": 52,
      "metadata": {
        "colab": {
          "base_uri": "https://localhost:8080/",
          "height": 445
        },
        "id": "b1hjnBE-gmnF",
        "outputId": "ef098e13-3fca-4f85-d6ca-db31f70da7e8"
      },
      "outputs": [
        {
          "output_type": "display_data",
          "data": {
            "text/plain": [
              "<Figure size 864x432 with 1 Axes>"
            ],
            "image/png": "[encoded data removed]"
          },
          "metadata": {
            "needs_background": "light"
          }
        }
      ],
      "source": [
        "# count plot of marital status\n",
        "plt.figure(figsize= (12,6))\n",
        "sns.countplot(data = eda_df, x = 'Marital', order=eda_df['Marital'].value_counts().index)\n",
        "plt.xticks(rotation=90)\n",
        "plt.title('Marital');"
      ]
    },
    {
      "cell_type": "markdown",
      "metadata": {
        "id": "mLRUEsthR9ya"
      },
      "source": [
        "- Most are married."
      ]
    },
    {
      "cell_type": "code",
      "execution_count": 53,
      "metadata": {
        "colab": {
          "base_uri": "https://localhost:8080/",
          "height": 462
        },
        "id": "FpALVaS6gnOa",
        "outputId": "6b59dd16-e609-4646-feeb-02300ed6d921"
      },
      "outputs": [
        {
          "output_type": "display_data",
          "data": {
            "text/plain": [
              "<Figure size 864x432 with 1 Axes>"
            ],
            "image/png": "[encoded data removed]"
          },
          "metadata": {
            "needs_background": "light"
          }
        }
      ],
      "source": [
        "# count plot of race\n",
        "plt.figure(figsize= (12,6))\n",
        "sns.countplot(data = eda_df, x = 'Race', order=eda_df['Race'].value_counts().index)\n",
        "plt.xticks(rotation=90)\n",
        "plt.title('Race');"
      ]
    },
    {
      "cell_type": "markdown",
      "metadata": {
        "id": "BfsXZ6VxSJ2S"
      },
      "source": [
        "- Most are white."
      ]
    },
    {
      "cell_type": "code",
      "execution_count": 54,
      "metadata": {
        "colab": {
          "base_uri": "https://localhost:8080/",
          "height": 448
        },
        "id": "0eoOyoDagn5I",
        "outputId": "01c64fc2-7399-4887-cb48-3bd1abe53ed3"
      },
      "outputs": [
        {
          "output_type": "display_data",
          "data": {
            "text/plain": [
              "<Figure size 864x432 with 1 Axes>"
            ],
            "image/png": "[encoded data removed]"
          },
          "metadata": {
            "needs_background": "light"
          }
        }
      ],
      "source": [
        "# count plot of metabolic syndrome\n",
        "plt.figure(figsize= (12,6))\n",
        "sns.countplot(data = eda_df, x = 'MetabolicSyndrome', order=eda_df['MetabolicSyndrome'].value_counts().index)\n",
        "plt.xticks(rotation=90)\n",
        "plt.title('MetabolicSyndrome');"
      ]
    },
    {
      "cell_type": "markdown",
      "metadata": {
        "id": "xlhm0au4SU5R"
      },
      "source": [
        "- Most do not have metabolic syndrome."
      ]
    },
    {
      "cell_type": "code",
      "execution_count": 55,
      "metadata": {
        "colab": {
          "base_uri": "https://localhost:8080/",
          "height": 545
        },
        "id": "USHlLxzHNi0z",
        "outputId": "690753c7-db83-4f39-f0a4-752fe7f26661"
      },
      "outputs": [
        {
          "output_type": "display_data",
          "data": {
            "text/plain": [
              "<Figure size 864x576 with 2 Axes>"
            ],
            "image/png": "[encoded data removed]"
          },
          "metadata": {
            "needs_background": "light"
          }
        }
      ],
      "source": [
        "# heat map for metabolic syndrome predictions\n",
        "corr = eda_df.corr()\n",
        "plt.figure(figsize = (12, 8))\n",
        "sns.heatmap(corr, cmap = 'Reds', annot = True);"
      ]
    },
    {
      "cell_type": "markdown",
      "metadata": {
        "id": "DzhWp5fsODoi"
      },
      "source": [
        "strong postive correlations:\n",
        "- WaistCirc and BMI\n",
        "\n",
        "moderate positive correlations:\n",
        "- Albuminuria and UrAlbCr"
      ]
    },
    {
      "cell_type": "code",
      "execution_count": 56,
      "metadata": {
        "colab": {
          "base_uri": "https://localhost:8080/",
          "height": 497
        },
        "id": "YKtne86GQBpy",
        "outputId": "e6e578ca-415e-4163-9600-4083dd286b51"
      },
      "outputs": [
        {
          "output_type": "display_data",
          "data": {
            "text/plain": [
              "<Figure size 864x576 with 1 Axes>"
            ],
            "image/png": "[encoded data removed]"
          },
          "metadata": {
            "needs_background": "light"
          }
        }
      ],
      "source": [
        "# regression plot for waist circumference and bmi\n",
        "plt.figure(figsize = (12, 8))\n",
        "sns.regplot(data = eda_df, x = 'WaistCirc', y = 'BMI', line_kws={'color': 'black', 'ls': '--'});"
      ]
    },
    {
      "cell_type": "markdown",
      "metadata": {
        "id": "xiA0uDCPR-PP"
      },
      "source": [
        "- There is a strong correlation between BMI and waist circumference."
      ]
    },
    {
      "cell_type": "code",
      "execution_count": 57,
      "metadata": {
        "colab": {
          "base_uri": "https://localhost:8080/",
          "height": 497
        },
        "id": "BJZsfQmkXwzI",
        "outputId": "120552b3-52d7-4951-8be0-927632f87fca"
      },
      "outputs": [
        {
          "output_type": "display_data",
          "data": {
            "text/plain": [
              "<Figure size 864x576 with 1 Axes>"
            ],
            "image/png": "[encoded data removed]"
          },
          "metadata": {
            "needs_background": "light"
          }
        }
      ],
      "source": [
        "# regression plot for albuminuria and ratio of albumin to creatine in urine\n",
        "plt.figure(figsize = (12, 8))\n",
        "sns.regplot(data = eda_df, x = 'Albuminuria', y = 'UrAlbCr', line_kws={'color': 'black', 'ls': '--'});"
      ]
    },
    {
      "cell_type": "markdown",
      "metadata": {
        "id": "-uzpt5y7X8h7"
      },
      "source": [
        "- There is a moderate positive correlation between albumin in urine and the ration of albumin to creatine in urine."
      ]
    },
    {
      "cell_type": "code",
      "execution_count": 58,
      "metadata": {
        "colab": {
          "base_uri": "https://localhost:8080/",
          "height": 296
        },
        "id": "TO1740l7Qdjt",
        "outputId": "e3a4a208-98b6-466a-981f-f348f9b93690"
      },
      "outputs": [
        {
          "output_type": "execute_result",
          "data": {
            "text/plain": [
              "<AxesSubplot:xlabel='MetabolicSyndrome', ylabel='BMI'>"
            ]
          },
          "metadata": {},
          "execution_count": 58
        },
        {
          "output_type": "display_data",
          "data": {
            "text/plain": [
              "<Figure size 432x288 with 1 Axes>"
            ],
            "image/png": "[encoded data removed]"
          },
          "metadata": {
            "needs_background": "light"
          }
        }
      ],
      "source": [
        "# bar graph for metabolic syndrome and bmi\n",
        "sns.barplot(data = eda_df, x = 'MetabolicSyndrome', y = 'BMI')"
      ]
    },
    {
      "cell_type": "markdown",
      "metadata": {
        "id": "JbDuHzeCSFzW"
      },
      "source": [
        "- A higher BMI is an indicator for metabolic syndrome."
      ]
    },
    {
      "cell_type": "code",
      "execution_count": 59,
      "metadata": {
        "colab": {
          "base_uri": "https://localhost:8080/",
          "height": 296
        },
        "id": "mYJq7039Q7FT",
        "outputId": "6f1a41c4-a805-4b5b-c7bf-a323bed158f8"
      },
      "outputs": [
        {
          "output_type": "execute_result",
          "data": {
            "text/plain": [
              "<AxesSubplot:xlabel='MetabolicSyndrome', ylabel='WaistCirc'>"
            ]
          },
          "metadata": {},
          "execution_count": 59
        },
        {
          "output_type": "display_data",
          "data": {
            "text/plain": [
              "<Figure size 432x288 with 1 Axes>"
            ],
            "image/png": "[encoded data removed]"
          },
          "metadata": {
            "needs_background": "light"
          }
        }
      ],
      "source": [
        "# bar graph for metabolic syndrome and waisat circumference\n",
        "sns.barplot(data = eda_df, x = 'MetabolicSyndrome', y = 'WaistCirc')"
      ]
    },
    {
      "cell_type": "markdown",
      "metadata": {
        "id": "1Xcp5ZVOSbdC"
      },
      "source": [
        "- A higher waist circumference is an indicator for metabolic syndrome."
      ]
    },
    {
      "cell_type": "code",
      "execution_count": 60,
      "metadata": {
        "colab": {
          "base_uri": "https://localhost:8080/",
          "height": 296
        },
        "id": "2zvdNllaRAXU",
        "outputId": "43fa4a80-bc0c-434b-9b05-84ee813e3e15"
      },
      "outputs": [
        {
          "output_type": "execute_result",
          "data": {
            "text/plain": [
              "<AxesSubplot:xlabel='MetabolicSyndrome', ylabel='Age'>"
            ]
          },
          "metadata": {},
          "execution_count": 60
        },
        {
          "output_type": "display_data",
          "data": {
            "text/plain": [
              "<Figure size 432x288 with 1 Axes>"
            ],
            "image/png": "[encoded data removed]"
          },
          "metadata": {
            "needs_background": "light"
          }
        }
      ],
      "source": [
        "# bar graph for metabolic syndrome and age\n",
        "sns.barplot(data = eda_df, x = 'MetabolicSyndrome', y = 'Age')"
      ]
    },
    {
      "cell_type": "markdown",
      "metadata": {
        "id": "zM8Pjo5USkjV"
      },
      "source": [
        "- Older age can be an indication for the presence of metabolic syndrome."
      ]
    },
    {
      "cell_type": "code",
      "execution_count": 61,
      "metadata": {
        "colab": {
          "base_uri": "https://localhost:8080/",
          "height": 296
        },
        "id": "Jn_oJQoPRI0N",
        "outputId": "c6a3b71a-9f8d-416d-e18f-b96147caa37f"
      },
      "outputs": [
        {
          "output_type": "execute_result",
          "data": {
            "text/plain": [
              "<AxesSubplot:xlabel='MetabolicSyndrome', ylabel='Income'>"
            ]
          },
          "metadata": {},
          "execution_count": 61
        },
        {
          "output_type": "display_data",
          "data": {
            "text/plain": [
              "<Figure size 432x288 with 1 Axes>"
            ],
            "image/png": "[encoded data removed]"
          },
          "metadata": {
            "needs_background": "light"
          }
        }
      ],
      "source": [
        "# bar graph for metabolic syndrome and income\n",
        "sns.barplot(data = eda_df, x = 'MetabolicSyndrome', y = 'Income')"
      ]
    },
    {
      "cell_type": "markdown",
      "metadata": {
        "id": "bQyF9QEAWuEh"
      },
      "source": [
        "- A higher income could be an indication of not developing metablic syndrome."
      ]
    },
    {
      "cell_type": "code",
      "execution_count": 62,
      "metadata": {
        "colab": {
          "base_uri": "https://localhost:8080/",
          "height": 296
        },
        "id": "OXTXaTPoRSqs",
        "outputId": "09d7a2d6-ea3b-45de-f7ff-37e1009c883f"
      },
      "outputs": [
        {
          "output_type": "execute_result",
          "data": {
            "text/plain": [
              "<AxesSubplot:xlabel='MetabolicSyndrome', ylabel='UrAlbCr'>"
            ]
          },
          "metadata": {},
          "execution_count": 62
        },
        {
          "output_type": "display_data",
          "data": {
            "text/plain": [
              "<Figure size 432x288 with 1 Axes>"
            ],
            "image/png": "[encoded data removed]"
          },
          "metadata": {
            "needs_background": "light"
          }
        }
      ],
      "source": [
        "# bar graph for metabolic syndrome and ratio of albumin to creatine in urine\n",
        "sns.barplot(data = eda_df, x = 'MetabolicSyndrome', y = 'UrAlbCr')"
      ]
    },
    {
      "cell_type": "markdown",
      "metadata": {
        "id": "aqX2wmvQWYjs"
      },
      "source": [
        "- The higher the ratio of albumin to creatine in urine is, the more likely metabolic syndrome is present."
      ]
    },
    {
      "cell_type": "code",
      "execution_count": 63,
      "metadata": {
        "colab": {
          "base_uri": "https://localhost:8080/",
          "height": 296
        },
        "id": "UpeTRnzIRa85",
        "outputId": "39d51d70-f08a-48b6-a7d4-a10b49f46e2a"
      },
      "outputs": [
        {
          "output_type": "execute_result",
          "data": {
            "text/plain": [
              "<AxesSubplot:xlabel='MetabolicSyndrome', ylabel='UricAcid'>"
            ]
          },
          "metadata": {},
          "execution_count": 63
        },
        {
          "output_type": "display_data",
          "data": {
            "text/plain": [
              "<Figure size 432x288 with 1 Axes>"
            ],
            "image/png": "[encoded data removed]"
          },
          "metadata": {
            "needs_background": "light"
          }
        }
      ],
      "source": [
        "# bar graph for metabolic syndrome and uric acid\n",
        "sns.barplot(data = eda_df, x = 'MetabolicSyndrome', y = 'UricAcid')"
      ]
    },
    {
      "cell_type": "markdown",
      "metadata": {
        "id": "YV20PBn8WGgO"
      },
      "source": [
        "- The more uric acid in the blood the more likely metabolic syndrome is present."
      ]
    },
    {
      "cell_type": "code",
      "execution_count": 64,
      "metadata": {
        "colab": {
          "base_uri": "https://localhost:8080/",
          "height": 296
        },
        "id": "3WXQWDKfRjLu",
        "outputId": "d7870511-1c35-4f12-ff58-59e5af3db934"
      },
      "outputs": [
        {
          "output_type": "execute_result",
          "data": {
            "text/plain": [
              "<AxesSubplot:xlabel='MetabolicSyndrome', ylabel='BloodGlucose'>"
            ]
          },
          "metadata": {},
          "execution_count": 64
        },
        {
          "output_type": "display_data",
          "data": {
            "text/plain": [
              "<Figure size 432x288 with 1 Axes>"
            ],
            "image/png": "[encoded data removed]"
          },
          "metadata": {
            "needs_background": "light"
          }
        }
      ],
      "source": [
        "# bar graph for metabolic syndrome and blood glucose\n",
        "sns.barplot(data = eda_df, x = 'MetabolicSyndrome', y = 'BloodGlucose')"
      ]
    },
    {
      "cell_type": "markdown",
      "metadata": {
        "id": "3pU2wnFaTboH"
      },
      "source": [
        "- A higher blood glucose reading could indicate for metabolic syndrome."
      ]
    },
    {
      "cell_type": "code",
      "execution_count": 65,
      "metadata": {
        "colab": {
          "base_uri": "https://localhost:8080/",
          "height": 296
        },
        "id": "8S-DOn5tRpDP",
        "outputId": "be069acb-35d3-4c04-ec43-bd2d9405a62d"
      },
      "outputs": [
        {
          "output_type": "execute_result",
          "data": {
            "text/plain": [
              "<AxesSubplot:xlabel='MetabolicSyndrome', ylabel='HDL'>"
            ]
          },
          "metadata": {},
          "execution_count": 65
        },
        {
          "output_type": "display_data",
          "data": {
            "text/plain": [
              "<Figure size 432x288 with 1 Axes>"
            ],
            "image/png": "[encoded data removed]"
          },
          "metadata": {
            "needs_background": "light"
          }
        }
      ],
      "source": [
        "# bar graph for metabolic syndrome and HDL\n",
        "sns.barplot(data = eda_df, x = 'MetabolicSyndrome', y = 'HDL')"
      ]
    },
    {
      "cell_type": "markdown",
      "metadata": {
        "id": "K6ZqLAbtTok_"
      },
      "source": [
        "- A higher HDL reading could indicate for no metabolic syndrome"
      ]
    },
    {
      "cell_type": "code",
      "execution_count": 66,
      "metadata": {
        "colab": {
          "base_uri": "https://localhost:8080/",
          "height": 298
        },
        "id": "gaX-3sr0Rtxl",
        "outputId": "54ba55e0-75cc-4a01-ab47-3920e397f45a"
      },
      "outputs": [
        {
          "output_type": "execute_result",
          "data": {
            "text/plain": [
              "<AxesSubplot:xlabel='MetabolicSyndrome', ylabel='Triglycerides'>"
            ]
          },
          "metadata": {},
          "execution_count": 66
        },
        {
          "output_type": "display_data",
          "data": {
            "text/plain": [
              "<Figure size 432x288 with 1 Axes>"
            ],
            "image/png": "[encoded data removed]"
          },
          "metadata": {
            "needs_background": "light"
          }
        }
      ],
      "source": [
        "# bar graph for metabolic syndrome and triglycerides\n",
        "sns.barplot(data = eda_df, x = 'MetabolicSyndrome', y = 'Triglycerides')"
      ]
    },
    {
      "cell_type": "markdown",
      "metadata": {
        "id": "yH7pKO_RU3RX"
      },
      "source": [
        "- A higher triglycerides reading could indicate the presence of metabolic syndrome.\n",
        "\n"
      ]
    },
    {
      "cell_type": "markdown",
      "metadata": {
        "id": "YBXxGB1lxeGj"
      },
      "source": [
        "## Explanatory Visualization"
      ]
    },
    {
      "cell_type": "code",
      "execution_count": 67,
      "metadata": {
        "colab": {
          "base_uri": "https://localhost:8080/",
          "height": 927
        },
        "id": "CLzOdylUZB1Y",
        "outputId": "58959f5b-6d14-4924-f998-a9caa9463a5e"
      },
      "outputs": [
        {
          "output_type": "display_data",
          "data": {
            "text/plain": [
              "<Figure size 576x864 with 2 Axes>"
            ],
            "image/png": "[encoded data removed]"
          },
          "metadata": {
            "needs_background": "light"
          }
        }
      ],
      "source": [
        "fig, axes = plt.subplots(nrows = 2, figsize = (8,12))\n",
        "\n",
        "sns.barplot(data = eda_df, x = 'MetabolicSyndrome', y = 'Age', hue='Sex', ax = axes[0])\n",
        "axes[0].set_title('MetabolicSyndrome vs. Age', fontsize = 15, fontweight = 'bold')\n",
        "\n",
        "sns.barplot(data = eda_df, x = 'MetabolicSyndrome', y = 'Income', hue='Sex', ax = axes[1])\n",
        "axes[1].set_title('MetabolicSyndrome vs. Income', fontsize = 15, fontweight = 'bold')\n",
        "\n",
        "fig.suptitle('Metabolic Syndrome based on Demographic Factors for Males and Females', fontsize = 20, fontweight = 'bold', y = 1.05)\n",
        "\n",
        "fig.tight_layout()"
      ]
    },
    {
      "cell_type": "markdown",
      "metadata": {
        "id": "KERn21KheUsx"
      },
      "source": [
        "- An older age could have an impact on whether a patient developed metabolic syndrome for both males and femaales.\n",
        "\n",
        "- Income is approximately equivalent for males with and without metabolic syndrome. However, a higher income for females could decrease the possibility of developing metabolic syndrome."
      ]
    },
    {
      "cell_type": "code",
      "execution_count": 68,
      "metadata": {
        "colab": {
          "base_uri": "https://localhost:8080/",
          "height": 927
        },
        "id": "1ohCzjc_bzv6",
        "outputId": "5d9d60c1-bd2f-4020-c5b0-fdc5b0dc77a4"
      },
      "outputs": [
        {
          "output_type": "display_data",
          "data": {
            "text/plain": [
              "<Figure size 576x864 with 4 Axes>"
            ],
            "image/png": "[encoded data removed]"
          },
          "metadata": {
            "needs_background": "light"
          }
        }
      ],
      "source": [
        "fig, axes = plt.subplots(nrows = 4, figsize = (8,12))\n",
        "\n",
        "sns.barplot(data = eda_df, x = 'MetabolicSyndrome', y = 'BloodGlucose', ax = axes[0])\n",
        "axes[0].set_title('MetabolicSyndrome vs. Blood Glucose', fontsize = 15, fontweight = 'bold')\n",
        "\n",
        "sns.barplot(data = eda_df, x = 'MetabolicSyndrome', y = 'BMI', hue='Sex', ax = axes[1])\n",
        "axes[1].set_title('MetabolicSyndrome vs. BMI', fontsize = 15, fontweight = 'bold')\n",
        "\n",
        "sns.barplot(data = eda_df, x = 'MetabolicSyndrome', y = 'Triglycerides', hue='Sex', ax = axes[2])\n",
        "axes[2].set_title('MetabolicSyndrome vs. Triglycerides', fontsize = 15, fontweight = 'bold')\n",
        "\n",
        "sns.barplot(data = eda_df, x = 'MetabolicSyndrome', y = 'HDL', hue='Sex', ax = axes[3])\n",
        "axes[3].set_title('MetabolicSyndrome vs. HDL', fontsize = 15, fontweight = 'bold')\n",
        "\n",
        "fig.suptitle('Metabolic Syndrome Based on Risk Factors for Males and Females', fontsize = 20, fontweight = 'bold', y = 1.05)\n",
        "\n",
        "fig.tight_layout()"
      ]
    },
    {
      "cell_type": "markdown",
      "metadata": {
        "id": "dwdJ3soAa0rL"
      },
      "source": [
        "- The higher the numbers are for blood glucose, bmi, and triglycerides for both males and females, the more likely a patient developed metabolic syndrome.\n",
        "- The higher the numbers for HDL for both males and females, the more likely a patient does not develop metabolic syndrome."
      ]
    },
    {
      "cell_type": "markdown",
      "metadata": {
        "id": "T5RydwTI0NS9"
      },
      "source": [
        "## Model Validation Split"
      ]
    },
    {
      "cell_type": "code",
      "execution_count": 69,
      "metadata": {
        "id": "tKIqUfVQhgGS"
      },
      "outputs": [],
      "source": [
        "## define features and target\n",
        "X = ml_df.drop(columns=['MetabolicSyndrome'])\n",
        "y = ml_df['MetabolicSyndrome']"
      ]
    },
    {
      "cell_type": "code",
      "execution_count": 70,
      "metadata": {
        "id": "0_mkrVDOzpVd"
      },
      "outputs": [],
      "source": [
        "# split the data\n",
        "X_train, X_test, y_train, y_test = train_test_split(X, y, stratify=y, random_state=42)"
      ]
    },
    {
      "cell_type": "code",
      "execution_count": 71,
      "metadata": {
        "colab": {
          "base_uri": "https://localhost:8080/"
        },
        "id": "SnXcpKha0CsX",
        "outputId": "b6277d05-7aba-461d-8629-1237f7682899"
      },
      "outputs": [
        {
          "output_type": "execute_result",
          "data": {
            "text/plain": [
              "No MetSyn    0.657778\n",
              "MetSyn       0.342222\n",
              "Name: MetabolicSyndrome, dtype: float64"
            ]
          },
          "metadata": {},
          "execution_count": 71
        }
      ],
      "source": [
        "## Check how many samples of each class are present for train\n",
        "y_train.value_counts(normalize=True)"
      ]
    },
    {
      "cell_type": "code",
      "execution_count": 72,
      "metadata": {
        "colab": {
          "base_uri": "https://localhost:8080/"
        },
        "id": "NNN9u7IU0D4r",
        "outputId": "5f029bf2-a3db-4514-88a4-6dbd50249c6e"
      },
      "outputs": [
        {
          "output_type": "execute_result",
          "data": {
            "text/plain": [
              "No MetSyn    0.657238\n",
              "MetSyn       0.342762\n",
              "Name: MetabolicSyndrome, dtype: float64"
            ]
          },
          "metadata": {},
          "execution_count": 72
        }
      ],
      "source": [
        "## Check how many samples of each class are present for test\n",
        "y_test.value_counts(normalize=True)"
      ]
    },
    {
      "cell_type": "markdown",
      "metadata": {
        "id": "N7ntN0bdxlQE"
      },
      "source": [
        "## Preprocessing"
      ]
    },
    {
      "cell_type": "markdown",
      "metadata": {
        "id": "LFTVlpuB7sDW"
      },
      "source": [
        "### Pipeline for Scree Plot"
      ]
    },
    {
      "cell_type": "code",
      "execution_count": 73,
      "metadata": {
        "id": "qOTiioNrx0-X"
      },
      "outputs": [],
      "source": [
        "num_selector = make_column_selector(dtype_include='number')\n",
        "cat_selector = make_column_selector(dtype_include='object')"
      ]
    },
    {
      "cell_type": "code",
      "execution_count": 74,
      "metadata": {
        "id": "MQwaklGZ8XEr"
      },
      "outputs": [],
      "source": [
        "# Imputers\n",
        "const_imputer = SimpleImputer(strategy='constant', fill_value='unknown')\n",
        "mean_imputer = SimpleImputer(strategy='mean')\n",
        "# Scaler\n",
        "scaler = StandardScaler()\n",
        "# One-hot encoder\n",
        "ohe = OneHotEncoder(handle_unknown='ignore', sparse=False)"
      ]
    },
    {
      "cell_type": "code",
      "execution_count": 75,
      "metadata": {
        "colab": {
          "base_uri": "https://localhost:8080/",
          "height": 124
        },
        "id": "arkP_vK78nEm",
        "outputId": "bb936360-ff3d-4b4a-e3d3-cb0bffa17091"
      },
      "outputs": [
        {
          "output_type": "execute_result",
          "data": {
            "text/plain": [
              "Pipeline(steps=[('simpleimputer', SimpleImputer()),\n",
              "                ('standardscaler', StandardScaler())])"
            ],
            "text/html": [
              "<style>#sk-container-id-1 {color: black;background-color: white;}#sk-container-id-1 pre{padding: 0;}#sk-container-id-1 div.sk-toggleable {background-color: white;}#sk-container-id-1 label.sk-toggleable__label {cursor: pointer;display: block;width: 100%;margin-bottom: 0;padding: 0.3em;box-sizing: border-box;text-align: center;}#sk-container-id-1 label.sk-toggleable__label-arrow:before {content: \"▸\";float: left;margin-right: 0.25em;color: #696969;}#sk-container-id-1 label.sk-toggleable__label-arrow:hover:before {color: black;}#sk-container-id-1 div.sk-estimator:hover label.sk-toggleable__label-arrow:before {color: black;}#sk-container-id-1 div.sk-toggleable__content {max-height: 0;max-width: 0;overflow: hidden;text-align: left;background-color: #f0f8ff;}#sk-container-id-1 div.sk-toggleable__content pre {margin: 0.2em;color: black;border-radius: 0.25em;background-color: #f0f8ff;}#sk-container-id-1 input.sk-toggleable__control:checked~div.sk-toggleable__content {max-height: 200px;max-width: 100%;overflow: auto;}#sk-container-id-1 input.sk-toggleable__control:checked~label.sk-toggleable__label-arrow:before {content: \"▾\";}#sk-container-id-1 div.sk-estimator input.sk-toggleable__control:checked~label.sk-toggleable__label {background-color: #d4ebff;}#sk-container-id-1 div.sk-label input.sk-toggleable__control:checked~label.sk-toggleable__label {background-color: #d4ebff;}#sk-container-id-1 input.sk-hidden--visually {border: 0;clip: rect(1px 1px 1px 1px);clip: rect(1px, 1px, 1px, 1px);height: 1px;margin: -1px;overflow: hidden;padding: 0;position: absolute;width: 1px;}#sk-container-id-1 div.sk-estimator {font-family: monospace;background-color: #f0f8ff;border: 1px dotted black;border-radius: 0.25em;box-sizing: border-box;margin-bottom: 0.5em;}#sk-container-id-1 div.sk-estimator:hover {background-color: #d4ebff;}#sk-container-id-1 div.sk-parallel-item::after {content: \"\";width: 100%;border-bottom: 1px solid gray;flex-grow: 1;}#sk-container-id-1 div.sk-label:hover label.sk-toggleable__label {background-color: #d4ebff;}#sk-container-id-1 div.sk-serial::before {content: \"\";position: absolute;border-left: 1px solid gray;box-sizing: border-box;top: 0;bottom: 0;left: 50%;z-index: 0;}#sk-container-id-1 div.sk-serial {display: flex;flex-direction: column;align-items: center;background-color: white;padding-right: 0.2em;padding-left: 0.2em;position: relative;}#sk-container-id-1 div.sk-item {position: relative;z-index: 1;}#sk-container-id-1 div.sk-parallel {display: flex;align-items: stretch;justify-content: center;background-color: white;position: relative;}#sk-container-id-1 div.sk-item::before, #sk-container-id-1 div.sk-parallel-item::before {content: \"\";position: absolute;border-left: 1px solid gray;box-sizing: border-box;top: 0;bottom: 0;left: 50%;z-index: -1;}#sk-container-id-1 div.sk-parallel-item {display: flex;flex-direction: column;z-index: 1;position: relative;background-color: white;}#sk-container-id-1 div.sk-parallel-item:first-child::after {align-self: flex-end;width: 50%;}#sk-container-id-1 div.sk-parallel-item:last-child::after {align-self: flex-start;width: 50%;}#sk-container-id-1 div.sk-parallel-item:only-child::after {width: 0;}#sk-container-id-1 div.sk-dashed-wrapped {border: 1px dashed gray;margin: 0 0.4em 0.5em 0.4em;box-sizing: border-box;padding-bottom: 0.4em;background-color: white;}#sk-container-id-1 div.sk-label label {font-family: monospace;font-weight: bold;display: inline-block;line-height: 1.2em;}#sk-container-id-1 div.sk-label-container {text-align: center;}#sk-container-id-1 div.sk-container {/* jupyter's `normalize.less` sets `[hidden] { display: none; }` but bootstrap.min.css set `[hidden] { display: none !important; }` so we also need the `!important` here to be able to override the default hidden behavior on the sphinx rendered scikit-learn.org. See: https://github.com/scikit-learn/scikit-learn/issues/21755 */display: inline-block !important;position: relative;}#sk-container-id-1 div.sk-text-repr-fallback {display: none;}</style><div id=\"sk-container-id-1\" class=\"sk-top-container\"><div class=\"sk-text-repr-fallback\"><pre>Pipeline(steps=[(&#x27;simpleimputer&#x27;, SimpleImputer()),\n",
              "                (&#x27;standardscaler&#x27;, StandardScaler())])</pre><b>In a Jupyter environment, please rerun this cell to show the HTML representation or trust the notebook. <br />On GitHub, the HTML representation is unable to render, please try loading this page with nbviewer.org.</b></div><div class=\"sk-container\" hidden><div class=\"sk-item sk-dashed-wrapped\"><div class=\"sk-label-container\"><div class=\"sk-label sk-toggleable\"><input class=\"sk-toggleable__control sk-hidden--visually\" id=\"sk-estimator-id-1\" type=\"checkbox\" ><label for=\"sk-estimator-id-1\" class=\"sk-toggleable__label sk-toggleable__label-arrow\">Pipeline</label><div class=\"sk-toggleable__content\"><pre>Pipeline(steps=[(&#x27;simpleimputer&#x27;, SimpleImputer()),\n",
              "                (&#x27;standardscaler&#x27;, StandardScaler())])</pre></div></div></div><div class=\"sk-serial\"><div class=\"sk-item\"><div class=\"sk-estimator sk-toggleable\"><input class=\"sk-toggleable__control sk-hidden--visually\" id=\"sk-estimator-id-2\" type=\"checkbox\" ><label for=\"sk-estimator-id-2\" class=\"sk-toggleable__label sk-toggleable__label-arrow\">SimpleImputer</label><div class=\"sk-toggleable__content\"><pre>SimpleImputer()</pre></div></div></div><div class=\"sk-item\"><div class=\"sk-estimator sk-toggleable\"><input class=\"sk-toggleable__control sk-hidden--visually\" id=\"sk-estimator-id-3\" type=\"checkbox\" ><label for=\"sk-estimator-id-3\" class=\"sk-toggleable__label sk-toggleable__label-arrow\">StandardScaler</label><div class=\"sk-toggleable__content\"><pre>StandardScaler()</pre></div></div></div></div></div></div></div>"
            ]
          },
          "metadata": {},
          "execution_count": 75
        }
      ],
      "source": [
        "# Numeric pipeline\n",
        "numeric_pipe = make_pipeline(mean_imputer, scaler)\n",
        "numeric_pipe"
      ]
    },
    {
      "cell_type": "code",
      "execution_count": 76,
      "metadata": {
        "colab": {
          "base_uri": "https://localhost:8080/",
          "height": 124
        },
        "id": "MqwPnf_W8ptX",
        "outputId": "b81d5e65-1044-487c-ae5e-d21c99ad2c47"
      },
      "outputs": [
        {
          "output_type": "execute_result",
          "data": {
            "text/plain": [
              "Pipeline(steps=[('simpleimputer',\n",
              "                 SimpleImputer(fill_value='unknown', strategy='constant')),\n",
              "                ('onehotencoder',\n",
              "                 OneHotEncoder(handle_unknown='ignore', sparse=False))])"
            ],
            "text/html": [
              "<style>#sk-container-id-2 {color: black;background-color: white;}#sk-container-id-2 pre{padding: 0;}#sk-container-id-2 div.sk-toggleable {background-color: white;}#sk-container-id-2 label.sk-toggleable__label {cursor: pointer;display: block;width: 100%;margin-bottom: 0;padding: 0.3em;box-sizing: border-box;text-align: center;}#sk-container-id-2 label.sk-toggleable__label-arrow:before {content: \"▸\";float: left;margin-right: 0.25em;color: #696969;}#sk-container-id-2 label.sk-toggleable__label-arrow:hover:before {color: black;}#sk-container-id-2 div.sk-estimator:hover label.sk-toggleable__label-arrow:before {color: black;}#sk-container-id-2 div.sk-toggleable__content {max-height: 0;max-width: 0;overflow: hidden;text-align: left;background-color: #f0f8ff;}#sk-container-id-2 div.sk-toggleable__content pre {margin: 0.2em;color: black;border-radius: 0.25em;background-color: #f0f8ff;}#sk-container-id-2 input.sk-toggleable__control:checked~div.sk-toggleable__content {max-height: 200px;max-width: 100%;overflow: auto;}#sk-container-id-2 input.sk-toggleable__control:checked~label.sk-toggleable__label-arrow:before {content: \"▾\";}#sk-container-id-2 div.sk-estimator input.sk-toggleable__control:checked~label.sk-toggleable__label {background-color: #d4ebff;}#sk-container-id-2 div.sk-label input.sk-toggleable__control:checked~label.sk-toggleable__label {background-color: #d4ebff;}#sk-container-id-2 input.sk-hidden--visually {border: 0;clip: rect(1px 1px 1px 1px);clip: rect(1px, 1px, 1px, 1px);height: 1px;margin: -1px;overflow: hidden;padding: 0;position: absolute;width: 1px;}#sk-container-id-2 div.sk-estimator {font-family: monospace;background-color: #f0f8ff;border: 1px dotted black;border-radius: 0.25em;box-sizing: border-box;margin-bottom: 0.5em;}#sk-container-id-2 div.sk-estimator:hover {background-color: #d4ebff;}#sk-container-id-2 div.sk-parallel-item::after {content: \"\";width: 100%;border-bottom: 1px solid gray;flex-grow: 1;}#sk-container-id-2 div.sk-label:hover label.sk-toggleable__label {background-color: #d4ebff;}#sk-container-id-2 div.sk-serial::before {content: \"\";position: absolute;border-left: 1px solid gray;box-sizing: border-box;top: 0;bottom: 0;left: 50%;z-index: 0;}#sk-container-id-2 div.sk-serial {display: flex;flex-direction: column;align-items: center;background-color: white;padding-right: 0.2em;padding-left: 0.2em;position: relative;}#sk-container-id-2 div.sk-item {position: relative;z-index: 1;}#sk-container-id-2 div.sk-parallel {display: flex;align-items: stretch;justify-content: center;background-color: white;position: relative;}#sk-container-id-2 div.sk-item::before, #sk-container-id-2 div.sk-parallel-item::before {content: \"\";position: absolute;border-left: 1px solid gray;box-sizing: border-box;top: 0;bottom: 0;left: 50%;z-index: -1;}#sk-container-id-2 div.sk-parallel-item {display: flex;flex-direction: column;z-index: 1;position: relative;background-color: white;}#sk-container-id-2 div.sk-parallel-item:first-child::after {align-self: flex-end;width: 50%;}#sk-container-id-2 div.sk-parallel-item:last-child::after {align-self: flex-start;width: 50%;}#sk-container-id-2 div.sk-parallel-item:only-child::after {width: 0;}#sk-container-id-2 div.sk-dashed-wrapped {border: 1px dashed gray;margin: 0 0.4em 0.5em 0.4em;box-sizing: border-box;padding-bottom: 0.4em;background-color: white;}#sk-container-id-2 div.sk-label label {font-family: monospace;font-weight: bold;display: inline-block;line-height: 1.2em;}#sk-container-id-2 div.sk-label-container {text-align: center;}#sk-container-id-2 div.sk-container {/* jupyter's `normalize.less` sets `[hidden] { display: none; }` but bootstrap.min.css set `[hidden] { display: none !important; }` so we also need the `!important` here to be able to override the default hidden behavior on the sphinx rendered scikit-learn.org. See: https://github.com/scikit-learn/scikit-learn/issues/21755 */display: inline-block !important;position: relative;}#sk-container-id-2 div.sk-text-repr-fallback {display: none;}</style><div id=\"sk-container-id-2\" class=\"sk-top-container\"><div class=\"sk-text-repr-fallback\"><pre>Pipeline(steps=[(&#x27;simpleimputer&#x27;,\n",
              "                 SimpleImputer(fill_value=&#x27;unknown&#x27;, strategy=&#x27;constant&#x27;)),\n",
              "                (&#x27;onehotencoder&#x27;,\n",
              "                 OneHotEncoder(handle_unknown=&#x27;ignore&#x27;, sparse=False))])</pre><b>In a Jupyter environment, please rerun this cell to show the HTML representation or trust the notebook. <br />On GitHub, the HTML representation is unable to render, please try loading this page with nbviewer.org.</b></div><div class=\"sk-container\" hidden><div class=\"sk-item sk-dashed-wrapped\"><div class=\"sk-label-container\"><div class=\"sk-label sk-toggleable\"><input class=\"sk-toggleable__control sk-hidden--visually\" id=\"sk-estimator-id-4\" type=\"checkbox\" ><label for=\"sk-estimator-id-4\" class=\"sk-toggleable__label sk-toggleable__label-arrow\">Pipeline</label><div class=\"sk-toggleable__content\"><pre>Pipeline(steps=[(&#x27;simpleimputer&#x27;,\n",
              "                 SimpleImputer(fill_value=&#x27;unknown&#x27;, strategy=&#x27;constant&#x27;)),\n",
              "                (&#x27;onehotencoder&#x27;,\n",
              "                 OneHotEncoder(handle_unknown=&#x27;ignore&#x27;, sparse=False))])</pre></div></div></div><div class=\"sk-serial\"><div class=\"sk-item\"><div class=\"sk-estimator sk-toggleable\"><input class=\"sk-toggleable__control sk-hidden--visually\" id=\"sk-estimator-id-5\" type=\"checkbox\" ><label for=\"sk-estimator-id-5\" class=\"sk-toggleable__label sk-toggleable__label-arrow\">SimpleImputer</label><div class=\"sk-toggleable__content\"><pre>SimpleImputer(fill_value=&#x27;unknown&#x27;, strategy=&#x27;constant&#x27;)</pre></div></div></div><div class=\"sk-item\"><div class=\"sk-estimator sk-toggleable\"><input class=\"sk-toggleable__control sk-hidden--visually\" id=\"sk-estimator-id-6\" type=\"checkbox\" ><label for=\"sk-estimator-id-6\" class=\"sk-toggleable__label sk-toggleable__label-arrow\">OneHotEncoder</label><div class=\"sk-toggleable__content\"><pre>OneHotEncoder(handle_unknown=&#x27;ignore&#x27;, sparse=False)</pre></div></div></div></div></div></div></div>"
            ]
          },
          "metadata": {},
          "execution_count": 76
        }
      ],
      "source": [
        "# Categorical pipeline\n",
        "categorical_pipe = make_pipeline(const_imputer, ohe)\n",
        "categorical_pipe"
      ]
    },
    {
      "cell_type": "code",
      "execution_count": 77,
      "metadata": {
        "colab": {
          "base_uri": "https://localhost:8080/",
          "height": 150
        },
        "id": "_T_cVbJD8ruR",
        "outputId": "f21be649-a5fc-4498-d708-c52ecef147e7"
      },
      "outputs": [
        {
          "output_type": "execute_result",
          "data": {
            "text/plain": [
              "ColumnTransformer(transformers=[('pipeline-1',\n",
              "                                 Pipeline(steps=[('simpleimputer',\n",
              "                                                  SimpleImputer()),\n",
              "                                                 ('standardscaler',\n",
              "                                                  StandardScaler())]),\n",
              "                                 <sklearn.compose._column_transformer.make_column_selector object at 0x7fa2918bf3a0>),\n",
              "                                ('pipeline-2',\n",
              "                                 Pipeline(steps=[('simpleimputer',\n",
              "                                                  SimpleImputer(fill_value='unknown',\n",
              "                                                                strategy='constant')),\n",
              "                                                 ('onehotencoder',\n",
              "                                                  OneHotEncoder(handle_unknown='ignore',\n",
              "                                                                sparse=False))]),\n",
              "                                 <sklearn.compose._column_transformer.make_column_selector object at 0x7fa2918bf340>)])"
            ],
            "text/html": [
              "<style>#sk-container-id-3 {color: black;background-color: white;}#sk-container-id-3 pre{padding: 0;}#sk-container-id-3 div.sk-toggleable {background-color: white;}#sk-container-id-3 label.sk-toggleable__label {cursor: pointer;display: block;width: 100%;margin-bottom: 0;padding: 0.3em;box-sizing: border-box;text-align: center;}#sk-container-id-3 label.sk-toggleable__label-arrow:before {content: \"▸\";float: left;margin-right: 0.25em;color: #696969;}#sk-container-id-3 label.sk-toggleable__label-arrow:hover:before {color: black;}#sk-container-id-3 div.sk-estimator:hover label.sk-toggleable__label-arrow:before {color: black;}#sk-container-id-3 div.sk-toggleable__content {max-height: 0;max-width: 0;overflow: hidden;text-align: left;background-color: #f0f8ff;}#sk-container-id-3 div.sk-toggleable__content pre {margin: 0.2em;color: black;border-radius: 0.25em;background-color: #f0f8ff;}#sk-container-id-3 input.sk-toggleable__control:checked~div.sk-toggleable__content {max-height: 200px;max-width: 100%;overflow: auto;}#sk-container-id-3 input.sk-toggleable__control:checked~label.sk-toggleable__label-arrow:before {content: \"▾\";}#sk-container-id-3 div.sk-estimator input.sk-toggleable__control:checked~label.sk-toggleable__label {background-color: #d4ebff;}#sk-container-id-3 div.sk-label input.sk-toggleable__control:checked~label.sk-toggleable__label {background-color: #d4ebff;}#sk-container-id-3 input.sk-hidden--visually {border: 0;clip: rect(1px 1px 1px 1px);clip: rect(1px, 1px, 1px, 1px);height: 1px;margin: -1px;overflow: hidden;padding: 0;position: absolute;width: 1px;}#sk-container-id-3 div.sk-estimator {font-family: monospace;background-color: #f0f8ff;border: 1px dotted black;border-radius: 0.25em;box-sizing: border-box;margin-bottom: 0.5em;}#sk-container-id-3 div.sk-estimator:hover {background-color: #d4ebff;}#sk-container-id-3 div.sk-parallel-item::after {content: \"\";width: 100%;border-bottom: 1px solid gray;flex-grow: 1;}#sk-container-id-3 div.sk-label:hover label.sk-toggleable__label {background-color: #d4ebff;}#sk-container-id-3 div.sk-serial::before {content: \"\";position: absolute;border-left: 1px solid gray;box-sizing: border-box;top: 0;bottom: 0;left: 50%;z-index: 0;}#sk-container-id-3 div.sk-serial {display: flex;flex-direction: column;align-items: center;background-color: white;padding-right: 0.2em;padding-left: 0.2em;position: relative;}#sk-container-id-3 div.sk-item {position: relative;z-index: 1;}#sk-container-id-3 div.sk-parallel {display: flex;align-items: stretch;justify-content: center;background-color: white;position: relative;}#sk-container-id-3 div.sk-item::before, #sk-container-id-3 div.sk-parallel-item::before {content: \"\";position: absolute;border-left: 1px solid gray;box-sizing: border-box;top: 0;bottom: 0;left: 50%;z-index: -1;}#sk-container-id-3 div.sk-parallel-item {display: flex;flex-direction: column;z-index: 1;position: relative;background-color: white;}#sk-container-id-3 div.sk-parallel-item:first-child::after {align-self: flex-end;width: 50%;}#sk-container-id-3 div.sk-parallel-item:last-child::after {align-self: flex-start;width: 50%;}#sk-container-id-3 div.sk-parallel-item:only-child::after {width: 0;}#sk-container-id-3 div.sk-dashed-wrapped {border: 1px dashed gray;margin: 0 0.4em 0.5em 0.4em;box-sizing: border-box;padding-bottom: 0.4em;background-color: white;}#sk-container-id-3 div.sk-label label {font-family: monospace;font-weight: bold;display: inline-block;line-height: 1.2em;}#sk-container-id-3 div.sk-label-container {text-align: center;}#sk-container-id-3 div.sk-container {/* jupyter's `normalize.less` sets `[hidden] { display: none; }` but bootstrap.min.css set `[hidden] { display: none !important; }` so we also need the `!important` here to be able to override the default hidden behavior on the sphinx rendered scikit-learn.org. See: https://github.com/scikit-learn/scikit-learn/issues/21755 */display: inline-block !important;position: relative;}#sk-container-id-3 div.sk-text-repr-fallback {display: none;}</style><div id=\"sk-container-id-3\" class=\"sk-top-container\"><div class=\"sk-text-repr-fallback\"><pre>ColumnTransformer(transformers=[(&#x27;pipeline-1&#x27;,\n",
              "                                 Pipeline(steps=[(&#x27;simpleimputer&#x27;,\n",
              "                                                  SimpleImputer()),\n",
              "                                                 (&#x27;standardscaler&#x27;,\n",
              "                                                  StandardScaler())]),\n",
              "                                 &lt;sklearn.compose._column_transformer.make_column_selector object at 0x7fa2918bf3a0&gt;),\n",
              "                                (&#x27;pipeline-2&#x27;,\n",
              "                                 Pipeline(steps=[(&#x27;simpleimputer&#x27;,\n",
              "                                                  SimpleImputer(fill_value=&#x27;unknown&#x27;,\n",
              "                                                                strategy=&#x27;constant&#x27;)),\n",
              "                                                 (&#x27;onehotencoder&#x27;,\n",
              "                                                  OneHotEncoder(handle_unknown=&#x27;ignore&#x27;,\n",
              "                                                                sparse=False))]),\n",
              "                                 &lt;sklearn.compose._column_transformer.make_column_selector object at 0x7fa2918bf340&gt;)])</pre><b>In a Jupyter environment, please rerun this cell to show the HTML representation or trust the notebook. <br />On GitHub, the HTML representation is unable to render, please try loading this page with nbviewer.org.</b></div><div class=\"sk-container\" hidden><div class=\"sk-item sk-dashed-wrapped\"><div class=\"sk-label-container\"><div class=\"sk-label sk-toggleable\"><input class=\"sk-toggleable__control sk-hidden--visually\" id=\"sk-estimator-id-7\" type=\"checkbox\" ><label for=\"sk-estimator-id-7\" class=\"sk-toggleable__label sk-toggleable__label-arrow\">ColumnTransformer</label><div class=\"sk-toggleable__content\"><pre>ColumnTransformer(transformers=[(&#x27;pipeline-1&#x27;,\n",
              "                                 Pipeline(steps=[(&#x27;simpleimputer&#x27;,\n",
              "                                                  SimpleImputer()),\n",
              "                                                 (&#x27;standardscaler&#x27;,\n",
              "                                                  StandardScaler())]),\n",
              "                                 &lt;sklearn.compose._column_transformer.make_column_selector object at 0x7fa2918bf3a0&gt;),\n",
              "                                (&#x27;pipeline-2&#x27;,\n",
              "                                 Pipeline(steps=[(&#x27;simpleimputer&#x27;,\n",
              "                                                  SimpleImputer(fill_value=&#x27;unknown&#x27;,\n",
              "                                                                strategy=&#x27;constant&#x27;)),\n",
              "                                                 (&#x27;onehotencoder&#x27;,\n",
              "                                                  OneHotEncoder(handle_unknown=&#x27;ignore&#x27;,\n",
              "                                                                sparse=False))]),\n",
              "                                 &lt;sklearn.compose._column_transformer.make_column_selector object at 0x7fa2918bf340&gt;)])</pre></div></div></div><div class=\"sk-parallel\"><div class=\"sk-parallel-item\"><div class=\"sk-item\"><div class=\"sk-label-container\"><div class=\"sk-label sk-toggleable\"><input class=\"sk-toggleable__control sk-hidden--visually\" id=\"sk-estimator-id-8\" type=\"checkbox\" ><label for=\"sk-estimator-id-8\" class=\"sk-toggleable__label sk-toggleable__label-arrow\">pipeline-1</label><div class=\"sk-toggleable__content\"><pre>&lt;sklearn.compose._column_transformer.make_column_selector object at 0x7fa2918bf3a0&gt;</pre></div></div></div><div class=\"sk-serial\"><div class=\"sk-item\"><div class=\"sk-serial\"><div class=\"sk-item\"><div class=\"sk-estimator sk-toggleable\"><input class=\"sk-toggleable__control sk-hidden--visually\" id=\"sk-estimator-id-9\" type=\"checkbox\" ><label for=\"sk-estimator-id-9\" class=\"sk-toggleable__label sk-toggleable__label-arrow\">SimpleImputer</label><div class=\"sk-toggleable__content\"><pre>SimpleImputer()</pre></div></div></div><div class=\"sk-item\"><div class=\"sk-estimator sk-toggleable\"><input class=\"sk-toggleable__control sk-hidden--visually\" id=\"sk-estimator-id-10\" type=\"checkbox\" ><label for=\"sk-estimator-id-10\" class=\"sk-toggleable__label sk-toggleable__label-arrow\">StandardScaler</label><div class=\"sk-toggleable__content\"><pre>StandardScaler()</pre></div></div></div></div></div></div></div></div><div class=\"sk-parallel-item\"><div class=\"sk-item\"><div class=\"sk-label-container\"><div class=\"sk-label sk-toggleable\"><input class=\"sk-toggleable__control sk-hidden--visually\" id=\"sk-estimator-id-11\" type=\"checkbox\" ><label for=\"sk-estimator-id-11\" class=\"sk-toggleable__label sk-toggleable__label-arrow\">pipeline-2</label><div class=\"sk-toggleable__content\"><pre>&lt;sklearn.compose._column_transformer.make_column_selector object at 0x7fa2918bf340&gt;</pre></div></div></div><div class=\"sk-serial\"><div class=\"sk-item\"><div class=\"sk-serial\"><div class=\"sk-item\"><div class=\"sk-estimator sk-toggleable\"><input class=\"sk-toggleable__control sk-hidden--visually\" id=\"sk-estimator-id-12\" type=\"checkbox\" ><label for=\"sk-estimator-id-12\" class=\"sk-toggleable__label sk-toggleable__label-arrow\">SimpleImputer</label><div class=\"sk-toggleable__content\"><pre>SimpleImputer(fill_value=&#x27;unknown&#x27;, strategy=&#x27;constant&#x27;)</pre></div></div></div><div class=\"sk-item\"><div class=\"sk-estimator sk-toggleable\"><input class=\"sk-toggleable__control sk-hidden--visually\" id=\"sk-estimator-id-13\" type=\"checkbox\" ><label for=\"sk-estimator-id-13\" class=\"sk-toggleable__label sk-toggleable__label-arrow\">OneHotEncoder</label><div class=\"sk-toggleable__content\"><pre>OneHotEncoder(handle_unknown=&#x27;ignore&#x27;, sparse=False)</pre></div></div></div></div></div></div></div></div></div></div></div></div>"
            ]
          },
          "metadata": {},
          "execution_count": 77
        }
      ],
      "source": [
        "# Tuples for Column Transformer\n",
        "number_tuple = (numeric_pipe, num_selector)\n",
        "category_tuple = (categorical_pipe, cat_selector)\n",
        "# ColumnTransformer\n",
        "preprocessor = make_column_transformer(number_tuple, category_tuple, remainder='drop')\n",
        "preprocessor"
      ]
    },
    {
      "cell_type": "code",
      "execution_count": 78,
      "metadata": {
        "colab": {
          "base_uri": "https://localhost:8080/",
          "height": 129
        },
        "id": "ay5csepG2VwA",
        "outputId": "3d765bb9-b019-42de-b6b3-5e47a8ef756e"
      },
      "outputs": [
        {
          "output_type": "stream",
          "name": "stderr",
          "text": [
            "/usr/local/lib/python3.8/dist-packages/sklearn/preprocessing/_encoders.py:828: FutureWarning: `sparse` was renamed to `sparse_output` in version 1.2 and will be removed in 1.4. `sparse_output` is ignored unless you leave `sparse` to its default value.\n",
            "  warnings.warn(\n"
          ]
        },
        {
          "output_type": "execute_result",
          "data": {
            "text/plain": [
              "PCA()"
            ],
            "text/html": [
              "<style>#sk-container-id-4 {color: black;background-color: white;}#sk-container-id-4 pre{padding: 0;}#sk-container-id-4 div.sk-toggleable {background-color: white;}#sk-container-id-4 label.sk-toggleable__label {cursor: pointer;display: block;width: 100%;margin-bottom: 0;padding: 0.3em;box-sizing: border-box;text-align: center;}#sk-container-id-4 label.sk-toggleable__label-arrow:before {content: \"▸\";float: left;margin-right: 0.25em;color: #696969;}#sk-container-id-4 label.sk-toggleable__label-arrow:hover:before {color: black;}#sk-container-id-4 div.sk-estimator:hover label.sk-toggleable__label-arrow:before {color: black;}#sk-container-id-4 div.sk-toggleable__content {max-height: 0;max-width: 0;overflow: hidden;text-align: left;background-color: #f0f8ff;}#sk-container-id-4 div.sk-toggleable__content pre {margin: 0.2em;color: black;border-radius: 0.25em;background-color: #f0f8ff;}#sk-container-id-4 input.sk-toggleable__control:checked~div.sk-toggleable__content {max-height: 200px;max-width: 100%;overflow: auto;}#sk-container-id-4 input.sk-toggleable__control:checked~label.sk-toggleable__label-arrow:before {content: \"▾\";}#sk-container-id-4 div.sk-estimator input.sk-toggleable__control:checked~label.sk-toggleable__label {background-color: #d4ebff;}#sk-container-id-4 div.sk-label input.sk-toggleable__control:checked~label.sk-toggleable__label {background-color: #d4ebff;}#sk-container-id-4 input.sk-hidden--visually {border: 0;clip: rect(1px 1px 1px 1px);clip: rect(1px, 1px, 1px, 1px);height: 1px;margin: -1px;overflow: hidden;padding: 0;position: absolute;width: 1px;}#sk-container-id-4 div.sk-estimator {font-family: monospace;background-color: #f0f8ff;border: 1px dotted black;border-radius: 0.25em;box-sizing: border-box;margin-bottom: 0.5em;}#sk-container-id-4 div.sk-estimator:hover {background-color: #d4ebff;}#sk-container-id-4 div.sk-parallel-item::after {content: \"\";width: 100%;border-bottom: 1px solid gray;flex-grow: 1;}#sk-container-id-4 div.sk-label:hover label.sk-toggleable__label {background-color: #d4ebff;}#sk-container-id-4 div.sk-serial::before {content: \"\";position: absolute;border-left: 1px solid gray;box-sizing: border-box;top: 0;bottom: 0;left: 50%;z-index: 0;}#sk-container-id-4 div.sk-serial {display: flex;flex-direction: column;align-items: center;background-color: white;padding-right: 0.2em;padding-left: 0.2em;position: relative;}#sk-container-id-4 div.sk-item {position: relative;z-index: 1;}#sk-container-id-4 div.sk-parallel {display: flex;align-items: stretch;justify-content: center;background-color: white;position: relative;}#sk-container-id-4 div.sk-item::before, #sk-container-id-4 div.sk-parallel-item::before {content: \"\";position: absolute;border-left: 1px solid gray;box-sizing: border-box;top: 0;bottom: 0;left: 50%;z-index: -1;}#sk-container-id-4 div.sk-parallel-item {display: flex;flex-direction: column;z-index: 1;position: relative;background-color: white;}#sk-container-id-4 div.sk-parallel-item:first-child::after {align-self: flex-end;width: 50%;}#sk-container-id-4 div.sk-parallel-item:last-child::after {align-self: flex-start;width: 50%;}#sk-container-id-4 div.sk-parallel-item:only-child::after {width: 0;}#sk-container-id-4 div.sk-dashed-wrapped {border: 1px dashed gray;margin: 0 0.4em 0.5em 0.4em;box-sizing: border-box;padding-bottom: 0.4em;background-color: white;}#sk-container-id-4 div.sk-label label {font-family: monospace;font-weight: bold;display: inline-block;line-height: 1.2em;}#sk-container-id-4 div.sk-label-container {text-align: center;}#sk-container-id-4 div.sk-container {/* jupyter's `normalize.less` sets `[hidden] { display: none; }` but bootstrap.min.css set `[hidden] { display: none !important; }` so we also need the `!important` here to be able to override the default hidden behavior on the sphinx rendered scikit-learn.org. See: https://github.com/scikit-learn/scikit-learn/issues/21755 */display: inline-block !important;position: relative;}#sk-container-id-4 div.sk-text-repr-fallback {display: none;}</style><div id=\"sk-container-id-4\" class=\"sk-top-container\"><div class=\"sk-text-repr-fallback\"><pre>PCA()</pre><b>In a Jupyter environment, please rerun this cell to show the HTML representation or trust the notebook. <br />On GitHub, the HTML representation is unable to render, please try loading this page with nbviewer.org.</b></div><div class=\"sk-container\" hidden><div class=\"sk-item\"><div class=\"sk-estimator sk-toggleable\"><input class=\"sk-toggleable__control sk-hidden--visually\" id=\"sk-estimator-id-14\" type=\"checkbox\" checked><label for=\"sk-estimator-id-14\" class=\"sk-toggleable__label sk-toggleable__label-arrow\">PCA</label><div class=\"sk-toggleable__content\"><pre>PCA()</pre></div></div></div></div></div>"
            ]
          },
          "metadata": {},
          "execution_count": 78
        }
      ],
      "source": [
        "# Fit & transform data.\n",
        "scaled_df = preprocessor.fit_transform(X)\n",
        "pca = PCA()\n",
        "pca.fit(scaled_df)\n"
      ]
    },
    {
      "cell_type": "code",
      "execution_count": 79,
      "metadata": {
        "colab": {
          "base_uri": "https://localhost:8080/",
          "height": 519
        },
        "id": "P8tapTO02a4w",
        "outputId": "2599dc7d-5b55-495c-9725-5111e345740d"
      },
      "outputs": [
        {
          "output_type": "display_data",
          "data": {
            "text/plain": [
              "<Figure size 1080x576 with 1 Axes>"
            ],
            "image/png": "[encoded data removed]"
          },
          "metadata": {}
        }
      ],
      "source": [
        "plt.style.use(\"seaborn\")\n",
        "plt.figure(figsize=(15,8))\n",
        "exp_var = pd.Series(pca.explained_variance_ratio_)\n",
        "\n",
        "exp_var.plot(kind=\"bar\", alpha=0.7) # plot bar chart\n",
        "\n",
        "# Calculate the amount of variance explained added by each additional component\n",
        "total = 0\n",
        "var_ls = []\n",
        "for x in exp_var:\n",
        "    total = total+x\n",
        "    var_ls.append(total)\n",
        "\n",
        "pd.Series(var_ls).plot(marker=\"o\", alpha=0.7) #plot line chart of increasing variances\n",
        "plt.xlabel(\"Principle Components\", fontsize=\"x-large\")\n",
        "plt.ylabel(\"Percentage Variance Explained\", fontsize=\"x-large\")\n",
        "plt.title(\"Metabolic Syndrome Dataset Scree Plot\", fontsize=\"xx-large\")\n",
        "plt.show();"
      ]
    },
    {
      "cell_type": "markdown",
      "metadata": {
        "id": "7YAlHBadzAya"
      },
      "source": [
        "## Models"
      ]
    },
    {
      "cell_type": "markdown",
      "metadata": {
        "id": "Kn4wTiwxBMPB"
      },
      "source": [
        "### Pipeline for Models"
      ]
    },
    {
      "cell_type": "code",
      "execution_count": 80,
      "metadata": {
        "id": "0bzeOZXS0Y9J"
      },
      "outputs": [],
      "source": [
        "# Create a transformer for numeric columns\n",
        "\n",
        "numeric_transformer = Pipeline(\n",
        "    steps=[\n",
        "        ('imputer', SimpleImputer()),\n",
        "        ('scaler', StandardScaler())\n",
        "    ]\n",
        ")\n",
        "\n",
        "# Create Transformer for categorical data\n",
        "\n",
        "categorical_transformer = Pipeline(\n",
        "    steps=[\n",
        "        ('cat_imputer', SimpleImputer(strategy=\"most_frequent\")),\n",
        "        ('one_hot', OneHotEncoder(handle_unknown='ignore', sparse = False)) # Ignore unseen categorical in transform step not seen in fit_transform\n",
        "    ]\n",
        ")\n",
        "\n",
        "# Create a preprocessor transformer\n",
        "preprocessor = ColumnTransformer(\n",
        "    transformers=[\n",
        "        ('num', numeric_transformer, num_selector),\n",
        "        ('cat', categorical_transformer, cat_selector)\n",
        "    ]\n",
        ")\n",
        "\n"
      ]
    },
    {
      "cell_type": "markdown",
      "metadata": {
        "id": "-9GqQernzCdQ"
      },
      "source": [
        "## Baseline Model"
      ]
    },
    {
      "cell_type": "code",
      "execution_count": 81,
      "metadata": {
        "id": "-VeYjkavzFLp"
      },
      "outputs": [],
      "source": [
        "#Create a DummyClassifier model using the 'most_frequent' strategy\n",
        "dummy = DummyClassifier(strategy='most_frequent')\n",
        "#Fit model on the training data and save prediction on the test sets\n",
        "dummy.fit(X_train, y_train)\n",
        "dummy_train_preds = dummy.predict(X_train)\n",
        "dummy_test_preds = dummy.predict(X_test)"
      ]
    },
    {
      "cell_type": "code",
      "execution_count": 82,
      "metadata": {
        "colab": {
          "base_uri": "https://localhost:8080/",
          "height": 641
        },
        "id": "u9xmq0-nzGf-",
        "outputId": "10ba2a4f-bc8a-4425-e694-80090b1ff499"
      },
      "outputs": [
        {
          "output_type": "stream",
          "name": "stderr",
          "text": [
            "/usr/local/lib/python3.8/dist-packages/sklearn/metrics/_classification.py:1344: UndefinedMetricWarning: Precision and F-score are ill-defined and being set to 0.0 in labels with no predicted samples. Use `zero_division` parameter to control this behavior.\n",
            "  _warn_prf(average, modifier, msg_start, len(result))\n",
            "/usr/local/lib/python3.8/dist-packages/sklearn/metrics/_classification.py:1344: UndefinedMetricWarning: Precision and F-score are ill-defined and being set to 0.0 in labels with no predicted samples. Use `zero_division` parameter to control this behavior.\n",
            "  _warn_prf(average, modifier, msg_start, len(result))\n",
            "/usr/local/lib/python3.8/dist-packages/sklearn/metrics/_classification.py:1344: UndefinedMetricWarning: Precision and F-score are ill-defined and being set to 0.0 in labels with no predicted samples. Use `zero_division` parameter to control this behavior.\n",
            "  _warn_prf(average, modifier, msg_start, len(result))\n"
          ]
        },
        {
          "output_type": "stream",
          "name": "stdout",
          "text": [
            "              precision    recall  f1-score   support\n",
            "\n",
            "      MetSyn       0.00      0.00      0.00       616\n",
            "   No MetSyn       0.66      1.00      0.79      1184\n",
            "\n",
            "    accuracy                           0.66      1800\n",
            "   macro avg       0.33      0.50      0.40      1800\n",
            "weighted avg       0.43      0.66      0.52      1800\n",
            "\n"
          ]
        },
        {
          "output_type": "display_data",
          "data": {
            "text/plain": [
              "<Figure size 576x396 with 2 Axes>"
            ],
            "image/png": "[encoded data removed]"
          },
          "metadata": {}
        }
      ],
      "source": [
        "# Evaluate the dummy classifier on the training data using \n",
        "# classification report and a confusion matrix\n",
        "ConfusionMatrixDisplay.from_predictions(y_train, dummy_train_preds);\n",
        "print(classification_report(y_train, dummy_train_preds))"
      ]
    },
    {
      "cell_type": "markdown",
      "metadata": {
        "id": "KvCqkiADiybS"
      },
      "source": [
        "## Logistic Regression Model"
      ]
    },
    {
      "cell_type": "code",
      "execution_count": 83,
      "metadata": {
        "id": "4rfswLuXGqOZ"
      },
      "outputs": [],
      "source": [
        "# Append classifier to preprocessing pipeline.\n",
        "# Now we have a full prediction pipeline.\n",
        "clf = Pipeline(steps=[('preprocessor', preprocessor),\n",
        "                      ('pca', PCA()),\n",
        "                      ('classifier', LogisticRegression()),\n",
        "                      ])"
      ]
    },
    {
      "cell_type": "markdown",
      "metadata": {
        "id": "-DO-Dm2F1cyv"
      },
      "source": [
        "### Tune the Model"
      ]
    },
    {
      "cell_type": "code",
      "execution_count": 84,
      "metadata": {
        "colab": {
          "base_uri": "https://localhost:8080/",
          "height": 355
        },
        "id": "U0eow9l81Fhg",
        "outputId": "33c26d7d-d0de-4f0b-d06a-4c357152dfbc"
      },
      "outputs": [
        {
          "output_type": "stream",
          "name": "stdout",
          "text": [
            "Fitting 5 folds for each of 126 candidates, totalling 630 fits\n"
          ]
        },
        {
          "output_type": "stream",
          "name": "stderr",
          "text": [
            "/usr/local/lib/python3.8/dist-packages/sklearn/preprocessing/_encoders.py:828: FutureWarning: `sparse` was renamed to `sparse_output` in version 1.2 and will be removed in 1.4. `sparse_output` is ignored unless you leave `sparse` to its default value.\n",
            "  warnings.warn(\n"
          ]
        },
        {
          "output_type": "execute_result",
          "data": {
            "text/plain": [
              "GridSearchCV(cv=5,\n",
              "             estimator=Pipeline(steps=[('preprocessor',\n",
              "                                        ColumnTransformer(transformers=[('num',\n",
              "                                                                         Pipeline(steps=[('imputer',\n",
              "                                                                                          SimpleImputer()),\n",
              "                                                                                         ('scaler',\n",
              "                                                                                          StandardScaler())]),\n",
              "                                                                         <sklearn.compose._column_transformer.make_column_selector object at 0x7fa2918bf3a0>),\n",
              "                                                                        ('cat',\n",
              "                                                                         Pipeline(steps=[('cat_imputer',\n",
              "                                                                                          SimpleImputer(strategy='most_frequent')),\n",
              "                                                                                         ('one_hot',\n",
              "                                                                                          OneHo...\n",
              "                                                                                                        sparse=False))]),\n",
              "                                                                         <sklearn.compose._column_transformer.make_column_selector object at 0x7fa2918bf340>)])),\n",
              "                                       ('pca', PCA()),\n",
              "                                       ('classifier', LogisticRegression())]),\n",
              "             n_jobs=-1,\n",
              "             param_grid={'classifier__C': [0.1, 0.3, 0.5, 0.6, 0.8, 1.0],\n",
              "                         'pca__n_components': [9, 10, 11, 12, 13, 14, 15],\n",
              "                         'preprocessor__num__imputer__strategy': ['mean',\n",
              "                                                                  'median',\n",
              "                                                                  'most_frequent']},\n",
              "             scoring='accuracy', verbose=1)"
            ],
            "text/html": [
              "<style>#sk-container-id-5 {color: black;background-color: white;}#sk-container-id-5 pre{padding: 0;}#sk-container-id-5 div.sk-toggleable {background-color: white;}#sk-container-id-5 label.sk-toggleable__label {cursor: pointer;display: block;width: 100%;margin-bottom: 0;padding: 0.3em;box-sizing: border-box;text-align: center;}#sk-container-id-5 label.sk-toggleable__label-arrow:before {content: \"▸\";float: left;margin-right: 0.25em;color: #696969;}#sk-container-id-5 label.sk-toggleable__label-arrow:hover:before {color: black;}#sk-container-id-5 div.sk-estimator:hover label.sk-toggleable__label-arrow:before {color: black;}#sk-container-id-5 div.sk-toggleable__content {max-height: 0;max-width: 0;overflow: hidden;text-align: left;background-color: #f0f8ff;}#sk-container-id-5 div.sk-toggleable__content pre {margin: 0.2em;color: black;border-radius: 0.25em;background-color: #f0f8ff;}#sk-container-id-5 input.sk-toggleable__control:checked~div.sk-toggleable__content {max-height: 200px;max-width: 100%;overflow: auto;}#sk-container-id-5 input.sk-toggleable__control:checked~label.sk-toggleable__label-arrow:before {content: \"▾\";}#sk-container-id-5 div.sk-estimator input.sk-toggleable__control:checked~label.sk-toggleable__label {background-color: #d4ebff;}#sk-container-id-5 div.sk-label input.sk-toggleable__control:checked~label.sk-toggleable__label {background-color: #d4ebff;}#sk-container-id-5 input.sk-hidden--visually {border: 0;clip: rect(1px 1px 1px 1px);clip: rect(1px, 1px, 1px, 1px);height: 1px;margin: -1px;overflow: hidden;padding: 0;position: absolute;width: 1px;}#sk-container-id-5 div.sk-estimator {font-family: monospace;background-color: #f0f8ff;border: 1px dotted black;border-radius: 0.25em;box-sizing: border-box;margin-bottom: 0.5em;}#sk-container-id-5 div.sk-estimator:hover {background-color: #d4ebff;}#sk-container-id-5 div.sk-parallel-item::after {content: \"\";width: 100%;border-bottom: 1px solid gray;flex-grow: 1;}#sk-container-id-5 div.sk-label:hover label.sk-toggleable__label {background-color: #d4ebff;}#sk-container-id-5 div.sk-serial::before {content: \"\";position: absolute;border-left: 1px solid gray;box-sizing: border-box;top: 0;bottom: 0;left: 50%;z-index: 0;}#sk-container-id-5 div.sk-serial {display: flex;flex-direction: column;align-items: center;background-color: white;padding-right: 0.2em;padding-left: 0.2em;position: relative;}#sk-container-id-5 div.sk-item {position: relative;z-index: 1;}#sk-container-id-5 div.sk-parallel {display: flex;align-items: stretch;justify-content: center;background-color: white;position: relative;}#sk-container-id-5 div.sk-item::before, #sk-container-id-5 div.sk-parallel-item::before {content: \"\";position: absolute;border-left: 1px solid gray;box-sizing: border-box;top: 0;bottom: 0;left: 50%;z-index: -1;}#sk-container-id-5 div.sk-parallel-item {display: flex;flex-direction: column;z-index: 1;position: relative;background-color: white;}#sk-container-id-5 div.sk-parallel-item:first-child::after {align-self: flex-end;width: 50%;}#sk-container-id-5 div.sk-parallel-item:last-child::after {align-self: flex-start;width: 50%;}#sk-container-id-5 div.sk-parallel-item:only-child::after {width: 0;}#sk-container-id-5 div.sk-dashed-wrapped {border: 1px dashed gray;margin: 0 0.4em 0.5em 0.4em;box-sizing: border-box;padding-bottom: 0.4em;background-color: white;}#sk-container-id-5 div.sk-label label {font-family: monospace;font-weight: bold;display: inline-block;line-height: 1.2em;}#sk-container-id-5 div.sk-label-container {text-align: center;}#sk-container-id-5 div.sk-container {/* jupyter's `normalize.less` sets `[hidden] { display: none; }` but bootstrap.min.css set `[hidden] { display: none !important; }` so we also need the `!important` here to be able to override the default hidden behavior on the sphinx rendered scikit-learn.org. See: https://github.com/scikit-learn/scikit-learn/issues/21755 */display: inline-block !important;position: relative;}#sk-container-id-5 div.sk-text-repr-fallback {display: none;}</style><div id=\"sk-container-id-5\" class=\"sk-top-container\"><div class=\"sk-text-repr-fallback\"><pre>GridSearchCV(cv=5,\n",
              "             estimator=Pipeline(steps=[(&#x27;preprocessor&#x27;,\n",
              "                                        ColumnTransformer(transformers=[(&#x27;num&#x27;,\n",
              "                                                                         Pipeline(steps=[(&#x27;imputer&#x27;,\n",
              "                                                                                          SimpleImputer()),\n",
              "                                                                                         (&#x27;scaler&#x27;,\n",
              "                                                                                          StandardScaler())]),\n",
              "                                                                         &lt;sklearn.compose._column_transformer.make_column_selector object at 0x7fa2918bf3a0&gt;),\n",
              "                                                                        (&#x27;cat&#x27;,\n",
              "                                                                         Pipeline(steps=[(&#x27;cat_imputer&#x27;,\n",
              "                                                                                          SimpleImputer(strategy=&#x27;most_frequent&#x27;)),\n",
              "                                                                                         (&#x27;one_hot&#x27;,\n",
              "                                                                                          OneHo...\n",
              "                                                                                                        sparse=False))]),\n",
              "                                                                         &lt;sklearn.compose._column_transformer.make_column_selector object at 0x7fa2918bf340&gt;)])),\n",
              "                                       (&#x27;pca&#x27;, PCA()),\n",
              "                                       (&#x27;classifier&#x27;, LogisticRegression())]),\n",
              "             n_jobs=-1,\n",
              "             param_grid={&#x27;classifier__C&#x27;: [0.1, 0.3, 0.5, 0.6, 0.8, 1.0],\n",
              "                         &#x27;pca__n_components&#x27;: [9, 10, 11, 12, 13, 14, 15],\n",
              "                         &#x27;preprocessor__num__imputer__strategy&#x27;: [&#x27;mean&#x27;,\n",
              "                                                                  &#x27;median&#x27;,\n",
              "                                                                  &#x27;most_frequent&#x27;]},\n",
              "             scoring=&#x27;accuracy&#x27;, verbose=1)</pre><b>In a Jupyter environment, please rerun this cell to show the HTML representation or trust the notebook. <br />On GitHub, the HTML representation is unable to render, please try loading this page with nbviewer.org.</b></div><div class=\"sk-container\" hidden><div class=\"sk-item sk-dashed-wrapped\"><div class=\"sk-label-container\"><div class=\"sk-label sk-toggleable\"><input class=\"sk-toggleable__control sk-hidden--visually\" id=\"sk-estimator-id-15\" type=\"checkbox\" ><label for=\"sk-estimator-id-15\" class=\"sk-toggleable__label sk-toggleable__label-arrow\">GridSearchCV</label><div class=\"sk-toggleable__content\"><pre>GridSearchCV(cv=5,\n",
              "             estimator=Pipeline(steps=[(&#x27;preprocessor&#x27;,\n",
              "                                        ColumnTransformer(transformers=[(&#x27;num&#x27;,\n",
              "                                                                         Pipeline(steps=[(&#x27;imputer&#x27;,\n",
              "                                                                                          SimpleImputer()),\n",
              "                                                                                         (&#x27;scaler&#x27;,\n",
              "                                                                                          StandardScaler())]),\n",
              "                                                                         &lt;sklearn.compose._column_transformer.make_column_selector object at 0x7fa2918bf3a0&gt;),\n",
              "                                                                        (&#x27;cat&#x27;,\n",
              "                                                                         Pipeline(steps=[(&#x27;cat_imputer&#x27;,\n",
              "                                                                                          SimpleImputer(strategy=&#x27;most_frequent&#x27;)),\n",
              "                                                                                         (&#x27;one_hot&#x27;,\n",
              "                                                                                          OneHo...\n",
              "                                                                                                        sparse=False))]),\n",
              "                                                                         &lt;sklearn.compose._column_transformer.make_column_selector object at 0x7fa2918bf340&gt;)])),\n",
              "                                       (&#x27;pca&#x27;, PCA()),\n",
              "                                       (&#x27;classifier&#x27;, LogisticRegression())]),\n",
              "             n_jobs=-1,\n",
              "             param_grid={&#x27;classifier__C&#x27;: [0.1, 0.3, 0.5, 0.6, 0.8, 1.0],\n",
              "                         &#x27;pca__n_components&#x27;: [9, 10, 11, 12, 13, 14, 15],\n",
              "                         &#x27;preprocessor__num__imputer__strategy&#x27;: [&#x27;mean&#x27;,\n",
              "                                                                  &#x27;median&#x27;,\n",
              "                                                                  &#x27;most_frequent&#x27;]},\n",
              "             scoring=&#x27;accuracy&#x27;, verbose=1)</pre></div></div></div><div class=\"sk-parallel\"><div class=\"sk-parallel-item\"><div class=\"sk-item\"><div class=\"sk-label-container\"><div class=\"sk-label sk-toggleable\"><input class=\"sk-toggleable__control sk-hidden--visually\" id=\"sk-estimator-id-16\" type=\"checkbox\" ><label for=\"sk-estimator-id-16\" class=\"sk-toggleable__label sk-toggleable__label-arrow\">estimator: Pipeline</label><div class=\"sk-toggleable__content\"><pre>Pipeline(steps=[(&#x27;preprocessor&#x27;,\n",
              "                 ColumnTransformer(transformers=[(&#x27;num&#x27;,\n",
              "                                                  Pipeline(steps=[(&#x27;imputer&#x27;,\n",
              "                                                                   SimpleImputer()),\n",
              "                                                                  (&#x27;scaler&#x27;,\n",
              "                                                                   StandardScaler())]),\n",
              "                                                  &lt;sklearn.compose._column_transformer.make_column_selector object at 0x7fa2918bf3a0&gt;),\n",
              "                                                 (&#x27;cat&#x27;,\n",
              "                                                  Pipeline(steps=[(&#x27;cat_imputer&#x27;,\n",
              "                                                                   SimpleImputer(strategy=&#x27;most_frequent&#x27;)),\n",
              "                                                                  (&#x27;one_hot&#x27;,\n",
              "                                                                   OneHotEncoder(handle_unknown=&#x27;ignore&#x27;,\n",
              "                                                                                 sparse=False))]),\n",
              "                                                  &lt;sklearn.compose._column_transformer.make_column_selector object at 0x7fa2918bf340&gt;)])),\n",
              "                (&#x27;pca&#x27;, PCA()), (&#x27;classifier&#x27;, LogisticRegression())])</pre></div></div></div><div class=\"sk-serial\"><div class=\"sk-item\"><div class=\"sk-serial\"><div class=\"sk-item sk-dashed-wrapped\"><div class=\"sk-label-container\"><div class=\"sk-label sk-toggleable\"><input class=\"sk-toggleable__control sk-hidden--visually\" id=\"sk-estimator-id-17\" type=\"checkbox\" ><label for=\"sk-estimator-id-17\" class=\"sk-toggleable__label sk-toggleable__label-arrow\">preprocessor: ColumnTransformer</label><div class=\"sk-toggleable__content\"><pre>ColumnTransformer(transformers=[(&#x27;num&#x27;,\n",
              "                                 Pipeline(steps=[(&#x27;imputer&#x27;, SimpleImputer()),\n",
              "                                                 (&#x27;scaler&#x27;, StandardScaler())]),\n",
              "                                 &lt;sklearn.compose._column_transformer.make_column_selector object at 0x7fa2918bf3a0&gt;),\n",
              "                                (&#x27;cat&#x27;,\n",
              "                                 Pipeline(steps=[(&#x27;cat_imputer&#x27;,\n",
              "                                                  SimpleImputer(strategy=&#x27;most_frequent&#x27;)),\n",
              "                                                 (&#x27;one_hot&#x27;,\n",
              "                                                  OneHotEncoder(handle_unknown=&#x27;ignore&#x27;,\n",
              "                                                                sparse=False))]),\n",
              "                                 &lt;sklearn.compose._column_transformer.make_column_selector object at 0x7fa2918bf340&gt;)])</pre></div></div></div><div class=\"sk-parallel\"><div class=\"sk-parallel-item\"><div class=\"sk-item\"><div class=\"sk-label-container\"><div class=\"sk-label sk-toggleable\"><input class=\"sk-toggleable__control sk-hidden--visually\" id=\"sk-estimator-id-18\" type=\"checkbox\" ><label for=\"sk-estimator-id-18\" class=\"sk-toggleable__label sk-toggleable__label-arrow\">num</label><div class=\"sk-toggleable__content\"><pre>&lt;sklearn.compose._column_transformer.make_column_selector object at 0x7fa2918bf3a0&gt;</pre></div></div></div><div class=\"sk-serial\"><div class=\"sk-item\"><div class=\"sk-serial\"><div class=\"sk-item\"><div class=\"sk-estimator sk-toggleable\"><input class=\"sk-toggleable__control sk-hidden--visually\" id=\"sk-estimator-id-19\" type=\"checkbox\" ><label for=\"sk-estimator-id-19\" class=\"sk-toggleable__label sk-toggleable__label-arrow\">SimpleImputer</label><div class=\"sk-toggleable__content\"><pre>SimpleImputer()</pre></div></div></div><div class=\"sk-item\"><div class=\"sk-estimator sk-toggleable\"><input class=\"sk-toggleable__control sk-hidden--visually\" id=\"sk-estimator-id-20\" type=\"checkbox\" ><label for=\"sk-estimator-id-20\" class=\"sk-toggleable__label sk-toggleable__label-arrow\">StandardScaler</label><div class=\"sk-toggleable__content\"><pre>StandardScaler()</pre></div></div></div></div></div></div></div></div><div class=\"sk-parallel-item\"><div class=\"sk-item\"><div class=\"sk-label-container\"><div class=\"sk-label sk-toggleable\"><input class=\"sk-toggleable__control sk-hidden--visually\" id=\"sk-estimator-id-21\" type=\"checkbox\" ><label for=\"sk-estimator-id-21\" class=\"sk-toggleable__label sk-toggleable__label-arrow\">cat</label><div class=\"sk-toggleable__content\"><pre>&lt;sklearn.compose._column_transformer.make_column_selector object at 0x7fa2918bf340&gt;</pre></div></div></div><div class=\"sk-serial\"><div class=\"sk-item\"><div class=\"sk-serial\"><div class=\"sk-item\"><div class=\"sk-estimator sk-toggleable\"><input class=\"sk-toggleable__control sk-hidden--visually\" id=\"sk-estimator-id-22\" type=\"checkbox\" ><label for=\"sk-estimator-id-22\" class=\"sk-toggleable__label sk-toggleable__label-arrow\">SimpleImputer</label><div class=\"sk-toggleable__content\"><pre>SimpleImputer(strategy=&#x27;most_frequent&#x27;)</pre></div></div></div><div class=\"sk-item\"><div class=\"sk-estimator sk-toggleable\"><input class=\"sk-toggleable__control sk-hidden--visually\" id=\"sk-estimator-id-23\" type=\"checkbox\" ><label for=\"sk-estimator-id-23\" class=\"sk-toggleable__label sk-toggleable__label-arrow\">OneHotEncoder</label><div class=\"sk-toggleable__content\"><pre>OneHotEncoder(handle_unknown=&#x27;ignore&#x27;, sparse=False)</pre></div></div></div></div></div></div></div></div></div></div><div class=\"sk-item\"><div class=\"sk-estimator sk-toggleable\"><input class=\"sk-toggleable__control sk-hidden--visually\" id=\"sk-estimator-id-24\" type=\"checkbox\" ><label for=\"sk-estimator-id-24\" class=\"sk-toggleable__label sk-toggleable__label-arrow\">PCA</label><div class=\"sk-toggleable__content\"><pre>PCA()</pre></div></div></div><div class=\"sk-item\"><div class=\"sk-estimator sk-toggleable\"><input class=\"sk-toggleable__control sk-hidden--visually\" id=\"sk-estimator-id-25\" type=\"checkbox\" ><label for=\"sk-estimator-id-25\" class=\"sk-toggleable__label sk-toggleable__label-arrow\">LogisticRegression</label><div class=\"sk-toggleable__content\"><pre>LogisticRegression()</pre></div></div></div></div></div></div></div></div></div></div></div></div>"
            ]
          },
          "metadata": {},
          "execution_count": 84
        }
      ],
      "source": [
        "# Create param grid to hyper parameter tune the model\n",
        "param_grid = {\n",
        "    \"preprocessor__num__imputer__strategy\": [\"mean\", \"median\", \"most_frequent\"], # adjust the strategy for imputation\n",
        "    \"classifier__C\": [0.1, 0.3, 0.5, 0.6, 0.8, 1.0], # Adjust regularization strength\n",
        "    \"pca__n_components\": [9, 10, 11, 12, 13, 14, 15]\n",
        "}\n",
        "\n",
        "grid = GridSearchCV(clf, # Model\n",
        "                    param_grid=param_grid, # Parameters to tune\n",
        "                    cv=5, # Cross Validation\n",
        "                    verbose=1, # Shows output while training \n",
        "                    n_jobs=-1, # How many core to use on your computer (-1 means use all cores)\n",
        "                    scoring=\"accuracy\"\n",
        "                   )\n",
        "\n",
        "grid.fit(X_train,y_train)"
      ]
    },
    {
      "cell_type": "code",
      "execution_count": 85,
      "metadata": {
        "colab": {
          "base_uri": "https://localhost:8080/"
        },
        "id": "Nmw6Qgjy6TqO",
        "outputId": "e39c0a37-32e4-4813-9b0a-ac474ce7928f"
      },
      "outputs": [
        {
          "output_type": "execute_result",
          "data": {
            "text/plain": [
              "{'classifier__C': 0.6,\n",
              " 'pca__n_components': 11,\n",
              " 'preprocessor__num__imputer__strategy': 'most_frequent'}"
            ]
          },
          "metadata": {},
          "execution_count": 85
        }
      ],
      "source": [
        "grid.best_params_"
      ]
    },
    {
      "cell_type": "markdown",
      "metadata": {
        "id": "xDfeqjuw09MX"
      },
      "source": [
        "### Best Version"
      ]
    },
    {
      "cell_type": "code",
      "execution_count": 86,
      "metadata": {
        "colab": {
          "base_uri": "https://localhost:8080/"
        },
        "id": "XCw0lnSXIPs_",
        "outputId": "96e6bb38-f3ee-448f-f236-3f6e22070b37"
      },
      "outputs": [
        {
          "output_type": "execute_result",
          "data": {
            "text/plain": [
              "array(['No MetSyn', 'No MetSyn', 'No MetSyn', 'No MetSyn', 'No MetSyn',\n",
              "       'No MetSyn', 'MetSyn', 'No MetSyn', 'MetSyn', 'No MetSyn',\n",
              "       'No MetSyn', 'No MetSyn', 'MetSyn', 'No MetSyn', 'MetSyn',\n",
              "       'No MetSyn', 'No MetSyn', 'MetSyn', 'No MetSyn', 'MetSyn',\n",
              "       'No MetSyn', 'No MetSyn', 'No MetSyn', 'No MetSyn', 'No MetSyn',\n",
              "       'No MetSyn', 'MetSyn', 'No MetSyn', 'No MetSyn', 'No MetSyn',\n",
              "       'No MetSyn', 'MetSyn', 'No MetSyn', 'No MetSyn', 'No MetSyn',\n",
              "       'No MetSyn', 'No MetSyn', 'MetSyn', 'No MetSyn', 'No MetSyn',\n",
              "       'MetSyn', 'No MetSyn', 'No MetSyn', 'MetSyn', 'No MetSyn',\n",
              "       'No MetSyn', 'No MetSyn', 'MetSyn', 'MetSyn', 'No MetSyn',\n",
              "       'MetSyn', 'MetSyn', 'No MetSyn', 'No MetSyn', 'MetSyn',\n",
              "       'No MetSyn', 'MetSyn', 'MetSyn', 'No MetSyn', 'MetSyn',\n",
              "       'No MetSyn', 'No MetSyn', 'No MetSyn', 'No MetSyn', 'No MetSyn',\n",
              "       'MetSyn', 'MetSyn', 'MetSyn', 'MetSyn', 'No MetSyn', 'No MetSyn',\n",
              "       'No MetSyn', 'No MetSyn', 'No MetSyn', 'No MetSyn', 'No MetSyn',\n",
              "       'No MetSyn', 'MetSyn', 'No MetSyn', 'No MetSyn', 'No MetSyn',\n",
              "       'No MetSyn', 'No MetSyn', 'No MetSyn', 'No MetSyn', 'No MetSyn',\n",
              "       'No MetSyn', 'No MetSyn', 'No MetSyn', 'MetSyn', 'MetSyn',\n",
              "       'No MetSyn', 'No MetSyn', 'MetSyn', 'No MetSyn', 'MetSyn',\n",
              "       'No MetSyn', 'MetSyn', 'No MetSyn', 'No MetSyn', 'MetSyn',\n",
              "       'MetSyn', 'No MetSyn', 'No MetSyn', 'MetSyn', 'No MetSyn',\n",
              "       'MetSyn', 'No MetSyn', 'No MetSyn', 'MetSyn', 'No MetSyn',\n",
              "       'MetSyn', 'No MetSyn', 'No MetSyn', 'MetSyn', 'No MetSyn',\n",
              "       'No MetSyn', 'MetSyn', 'MetSyn', 'No MetSyn', 'No MetSyn',\n",
              "       'No MetSyn', 'No MetSyn', 'No MetSyn', 'No MetSyn', 'MetSyn',\n",
              "       'No MetSyn', 'No MetSyn', 'No MetSyn', 'No MetSyn', 'No MetSyn',\n",
              "       'No MetSyn', 'No MetSyn', 'MetSyn', 'No MetSyn', 'No MetSyn',\n",
              "       'MetSyn', 'No MetSyn', 'No MetSyn', 'No MetSyn', 'MetSyn',\n",
              "       'No MetSyn', 'No MetSyn', 'No MetSyn', 'No MetSyn', 'No MetSyn',\n",
              "       'No MetSyn', 'MetSyn', 'No MetSyn', 'No MetSyn', 'MetSyn',\n",
              "       'No MetSyn', 'No MetSyn', 'No MetSyn', 'MetSyn', 'No MetSyn',\n",
              "       'MetSyn', 'MetSyn', 'MetSyn', 'No MetSyn', 'No MetSyn',\n",
              "       'No MetSyn', 'No MetSyn', 'No MetSyn', 'MetSyn', 'No MetSyn',\n",
              "       'No MetSyn', 'No MetSyn', 'No MetSyn', 'No MetSyn', 'No MetSyn',\n",
              "       'No MetSyn', 'No MetSyn', 'No MetSyn', 'No MetSyn', 'No MetSyn',\n",
              "       'No MetSyn', 'No MetSyn', 'No MetSyn', 'MetSyn', 'No MetSyn',\n",
              "       'No MetSyn', 'No MetSyn', 'MetSyn', 'MetSyn', 'No MetSyn',\n",
              "       'No MetSyn', 'MetSyn', 'No MetSyn', 'No MetSyn', 'No MetSyn',\n",
              "       'No MetSyn', 'No MetSyn', 'MetSyn', 'No MetSyn', 'No MetSyn',\n",
              "       'No MetSyn', 'No MetSyn', 'MetSyn', 'No MetSyn', 'MetSyn',\n",
              "       'No MetSyn', 'MetSyn', 'No MetSyn', 'No MetSyn', 'No MetSyn',\n",
              "       'No MetSyn', 'No MetSyn', 'MetSyn', 'MetSyn', 'MetSyn', 'MetSyn',\n",
              "       'No MetSyn', 'No MetSyn', 'No MetSyn', 'No MetSyn', 'No MetSyn',\n",
              "       'No MetSyn', 'No MetSyn', 'MetSyn', 'No MetSyn', 'No MetSyn',\n",
              "       'No MetSyn', 'No MetSyn', 'No MetSyn', 'No MetSyn', 'No MetSyn',\n",
              "       'No MetSyn', 'MetSyn', 'MetSyn', 'No MetSyn', 'No MetSyn',\n",
              "       'No MetSyn', 'No MetSyn', 'MetSyn', 'No MetSyn', 'MetSyn',\n",
              "       'No MetSyn', 'MetSyn', 'No MetSyn', 'No MetSyn', 'MetSyn',\n",
              "       'MetSyn', 'No MetSyn', 'MetSyn', 'MetSyn', 'No MetSyn',\n",
              "       'No MetSyn', 'No MetSyn', 'No MetSyn', 'MetSyn', 'No MetSyn',\n",
              "       'No MetSyn', 'No MetSyn', 'No MetSyn', 'MetSyn', 'No MetSyn',\n",
              "       'MetSyn', 'No MetSyn', 'No MetSyn', 'No MetSyn', 'No MetSyn',\n",
              "       'MetSyn', 'MetSyn', 'MetSyn', 'MetSyn', 'MetSyn', 'No MetSyn',\n",
              "       'No MetSyn', 'No MetSyn', 'No MetSyn', 'No MetSyn', 'No MetSyn',\n",
              "       'No MetSyn', 'MetSyn', 'No MetSyn', 'MetSyn', 'MetSyn', 'MetSyn',\n",
              "       'MetSyn', 'MetSyn', 'No MetSyn', 'No MetSyn', 'No MetSyn',\n",
              "       'No MetSyn', 'MetSyn', 'No MetSyn', 'No MetSyn', 'MetSyn',\n",
              "       'MetSyn', 'MetSyn', 'No MetSyn', 'MetSyn', 'No MetSyn', 'MetSyn',\n",
              "       'No MetSyn', 'MetSyn', 'MetSyn', 'No MetSyn', 'No MetSyn',\n",
              "       'MetSyn', 'No MetSyn', 'MetSyn', 'No MetSyn', 'No MetSyn',\n",
              "       'MetSyn', 'MetSyn', 'No MetSyn', 'No MetSyn', 'No MetSyn',\n",
              "       'No MetSyn', 'No MetSyn', 'MetSyn', 'MetSyn', 'MetSyn', 'MetSyn',\n",
              "       'MetSyn', 'No MetSyn', 'No MetSyn', 'No MetSyn', 'MetSyn',\n",
              "       'No MetSyn', 'No MetSyn', 'MetSyn', 'No MetSyn', 'No MetSyn',\n",
              "       'MetSyn', 'No MetSyn', 'MetSyn', 'No MetSyn', 'MetSyn',\n",
              "       'No MetSyn', 'MetSyn', 'MetSyn', 'No MetSyn', 'MetSyn',\n",
              "       'No MetSyn', 'MetSyn', 'MetSyn', 'No MetSyn', 'MetSyn', 'MetSyn',\n",
              "       'MetSyn', 'No MetSyn', 'No MetSyn', 'No MetSyn', 'No MetSyn',\n",
              "       'MetSyn', 'No MetSyn', 'No MetSyn', 'MetSyn', 'No MetSyn',\n",
              "       'No MetSyn', 'No MetSyn', 'No MetSyn', 'No MetSyn', 'No MetSyn',\n",
              "       'No MetSyn', 'No MetSyn', 'No MetSyn', 'MetSyn', 'MetSyn',\n",
              "       'No MetSyn', 'MetSyn', 'MetSyn', 'MetSyn', 'No MetSyn', 'MetSyn',\n",
              "       'No MetSyn', 'MetSyn', 'No MetSyn', 'No MetSyn', 'No MetSyn',\n",
              "       'No MetSyn', 'MetSyn', 'No MetSyn', 'MetSyn', 'MetSyn',\n",
              "       'No MetSyn', 'No MetSyn', 'MetSyn', 'No MetSyn', 'MetSyn',\n",
              "       'MetSyn', 'No MetSyn', 'No MetSyn', 'No MetSyn', 'No MetSyn',\n",
              "       'No MetSyn', 'No MetSyn', 'No MetSyn', 'No MetSyn', 'MetSyn',\n",
              "       'No MetSyn', 'MetSyn', 'No MetSyn', 'No MetSyn', 'No MetSyn',\n",
              "       'No MetSyn', 'No MetSyn', 'No MetSyn', 'No MetSyn', 'No MetSyn',\n",
              "       'No MetSyn', 'MetSyn', 'MetSyn', 'No MetSyn', 'No MetSyn',\n",
              "       'No MetSyn', 'MetSyn', 'MetSyn', 'No MetSyn', 'No MetSyn',\n",
              "       'No MetSyn', 'MetSyn', 'MetSyn', 'No MetSyn', 'No MetSyn',\n",
              "       'No MetSyn', 'No MetSyn', 'MetSyn', 'No MetSyn', 'MetSyn',\n",
              "       'No MetSyn', 'MetSyn', 'No MetSyn', 'MetSyn', 'MetSyn',\n",
              "       'No MetSyn', 'No MetSyn', 'MetSyn', 'MetSyn', 'No MetSyn',\n",
              "       'No MetSyn', 'MetSyn', 'MetSyn', 'MetSyn', 'No MetSyn', 'MetSyn',\n",
              "       'No MetSyn', 'No MetSyn', 'No MetSyn', 'No MetSyn', 'No MetSyn',\n",
              "       'No MetSyn', 'MetSyn', 'No MetSyn', 'No MetSyn', 'No MetSyn',\n",
              "       'No MetSyn', 'No MetSyn', 'No MetSyn', 'No MetSyn', 'MetSyn',\n",
              "       'MetSyn', 'No MetSyn', 'MetSyn', 'MetSyn', 'No MetSyn',\n",
              "       'No MetSyn', 'No MetSyn', 'No MetSyn', 'No MetSyn', 'No MetSyn',\n",
              "       'MetSyn', 'No MetSyn', 'MetSyn', 'MetSyn', 'No MetSyn', 'MetSyn',\n",
              "       'MetSyn', 'No MetSyn', 'No MetSyn', 'No MetSyn', 'MetSyn',\n",
              "       'No MetSyn', 'No MetSyn', 'MetSyn', 'MetSyn', 'MetSyn',\n",
              "       'No MetSyn', 'No MetSyn', 'No MetSyn', 'No MetSyn', 'No MetSyn',\n",
              "       'No MetSyn', 'No MetSyn', 'No MetSyn', 'MetSyn', 'No MetSyn',\n",
              "       'MetSyn', 'No MetSyn', 'No MetSyn', 'No MetSyn', 'No MetSyn',\n",
              "       'No MetSyn', 'No MetSyn', 'No MetSyn', 'No MetSyn', 'MetSyn',\n",
              "       'No MetSyn', 'No MetSyn', 'No MetSyn', 'No MetSyn', 'No MetSyn',\n",
              "       'No MetSyn', 'MetSyn', 'No MetSyn', 'MetSyn', 'No MetSyn',\n",
              "       'No MetSyn', 'No MetSyn', 'No MetSyn', 'No MetSyn', 'No MetSyn',\n",
              "       'No MetSyn', 'MetSyn', 'MetSyn', 'No MetSyn', 'No MetSyn',\n",
              "       'MetSyn', 'No MetSyn', 'MetSyn', 'No MetSyn', 'No MetSyn',\n",
              "       'MetSyn', 'MetSyn', 'MetSyn', 'No MetSyn', 'No MetSyn', 'MetSyn',\n",
              "       'MetSyn', 'No MetSyn', 'No MetSyn', 'MetSyn', 'No MetSyn',\n",
              "       'No MetSyn', 'No MetSyn', 'No MetSyn', 'MetSyn', 'No MetSyn',\n",
              "       'MetSyn', 'No MetSyn', 'No MetSyn', 'No MetSyn', 'No MetSyn',\n",
              "       'No MetSyn', 'MetSyn', 'MetSyn', 'No MetSyn', 'MetSyn',\n",
              "       'No MetSyn', 'No MetSyn', 'No MetSyn', 'No MetSyn', 'No MetSyn',\n",
              "       'No MetSyn', 'MetSyn', 'No MetSyn', 'No MetSyn', 'No MetSyn',\n",
              "       'No MetSyn', 'No MetSyn', 'No MetSyn', 'No MetSyn', 'MetSyn',\n",
              "       'No MetSyn', 'No MetSyn', 'No MetSyn', 'No MetSyn', 'MetSyn',\n",
              "       'No MetSyn', 'No MetSyn', 'No MetSyn', 'MetSyn', 'No MetSyn',\n",
              "       'MetSyn', 'No MetSyn', 'No MetSyn', 'No MetSyn', 'MetSyn',\n",
              "       'No MetSyn', 'MetSyn', 'No MetSyn', 'MetSyn', 'No MetSyn',\n",
              "       'No MetSyn', 'No MetSyn', 'No MetSyn', 'No MetSyn', 'No MetSyn',\n",
              "       'MetSyn', 'No MetSyn', 'MetSyn', 'MetSyn', 'No MetSyn',\n",
              "       'No MetSyn', 'No MetSyn', 'No MetSyn', 'MetSyn', 'MetSyn'],\n",
              "      dtype=object)"
            ]
          },
          "metadata": {},
          "execution_count": 86
        }
      ],
      "source": [
        "grid.best_estimator_.predict(X_test)"
      ]
    },
    {
      "cell_type": "code",
      "execution_count": 87,
      "metadata": {
        "colab": {
          "base_uri": "https://localhost:8080/",
          "height": 517
        },
        "id": "L7a7Iz2u6lxw",
        "outputId": "a0b0cc58-370b-49c3-e1e4-6ef7ecd7908e"
      },
      "outputs": [
        {
          "output_type": "stream",
          "name": "stdout",
          "text": [
            "              precision    recall  f1-score   support\n",
            "\n",
            "      MetSyn       0.76      0.72      0.74       206\n",
            "   No MetSyn       0.86      0.88      0.87       395\n",
            "\n",
            "    accuracy                           0.82       601\n",
            "   macro avg       0.81      0.80      0.80       601\n",
            "weighted avg       0.82      0.82      0.82       601\n",
            "\n"
          ]
        },
        {
          "output_type": "display_data",
          "data": {
            "text/plain": [
              "<Figure size 576x396 with 2 Axes>"
            ],
            "image/png": "[encoded data removed]"
          },
          "metadata": {}
        }
      ],
      "source": [
        "preds = grid.best_estimator_.predict(X_test)\n",
        "ConfusionMatrixDisplay.from_predictions(y_test,preds);\n",
        "print(classification_report(y_test,preds))"
      ]
    },
    {
      "cell_type": "markdown",
      "metadata": {
        "id": "0VtxrhAG1OTL"
      },
      "source": [
        "## Random Forest Model"
      ]
    },
    {
      "cell_type": "code",
      "execution_count": 88,
      "metadata": {
        "id": "jcrxkLEZA76Z"
      },
      "outputs": [],
      "source": [
        "# Append classifier to preprocessing pipeline.\n",
        "# Now we have a full prediction pipeline.\n",
        "clf = Pipeline(steps=[('preprocessor', preprocessor),\n",
        "                      ('pca', PCA()),\n",
        "                      ('classifier', RandomForestClassifier()),\n",
        "                      ])"
      ]
    },
    {
      "cell_type": "markdown",
      "metadata": {
        "id": "j-97lU5V1ZJr"
      },
      "source": [
        "### Tune the Model"
      ]
    },
    {
      "cell_type": "code",
      "execution_count": 89,
      "metadata": {
        "colab": {
          "base_uri": "https://localhost:8080/",
          "height": 355
        },
        "id": "JfTLzHq5AtLA",
        "outputId": "6a01ff76-0201-49c2-8e27-7db08f3c8ee9"
      },
      "outputs": [
        {
          "output_type": "stream",
          "name": "stdout",
          "text": [
            "Fitting 5 folds for each of 675 candidates, totalling 3375 fits\n"
          ]
        },
        {
          "output_type": "stream",
          "name": "stderr",
          "text": [
            "/usr/local/lib/python3.8/dist-packages/sklearn/preprocessing/_encoders.py:828: FutureWarning: `sparse` was renamed to `sparse_output` in version 1.2 and will be removed in 1.4. `sparse_output` is ignored unless you leave `sparse` to its default value.\n",
            "  warnings.warn(\n"
          ]
        },
        {
          "output_type": "execute_result",
          "data": {
            "text/plain": [
              "GridSearchCV(cv=5,\n",
              "             estimator=Pipeline(steps=[('preprocessor',\n",
              "                                        ColumnTransformer(transformers=[('num',\n",
              "                                                                         Pipeline(steps=[('imputer',\n",
              "                                                                                          SimpleImputer()),\n",
              "                                                                                         ('scaler',\n",
              "                                                                                          StandardScaler())]),\n",
              "                                                                         <sklearn.compose._column_transformer.make_column_selector object at 0x7fa2918bf3a0>),\n",
              "                                                                        ('cat',\n",
              "                                                                         Pipeline(steps=[('cat_imputer',\n",
              "                                                                                          SimpleImputer(strategy='most_frequent')),\n",
              "                                                                                         ('one_hot',\n",
              "                                                                                          OneHo...\n",
              "                                                                         <sklearn.compose._column_transformer.make_column_selector object at 0x7fa2918bf340>)])),\n",
              "                                       ('pca', PCA()),\n",
              "                                       ('classifier',\n",
              "                                        RandomForestClassifier())]),\n",
              "             n_jobs=-1,\n",
              "             param_grid={'classifier__max_depth': range(5, 10),\n",
              "                         'classifier__n_estimators': range(170, 260, 10),\n",
              "                         'pca__n_components': [11, 12, 13, 14, 15],\n",
              "                         'preprocessor__num__imputer__strategy': ['mean',\n",
              "                                                                  'median',\n",
              "                                                                  'most_frequent']},\n",
              "             scoring='accuracy', verbose=1)"
            ],
            "text/html": [
              "<style>#sk-container-id-6 {color: black;background-color: white;}#sk-container-id-6 pre{padding: 0;}#sk-container-id-6 div.sk-toggleable {background-color: white;}#sk-container-id-6 label.sk-toggleable__label {cursor: pointer;display: block;width: 100%;margin-bottom: 0;padding: 0.3em;box-sizing: border-box;text-align: center;}#sk-container-id-6 label.sk-toggleable__label-arrow:before {content: \"▸\";float: left;margin-right: 0.25em;color: #696969;}#sk-container-id-6 label.sk-toggleable__label-arrow:hover:before {color: black;}#sk-container-id-6 div.sk-estimator:hover label.sk-toggleable__label-arrow:before {color: black;}#sk-container-id-6 div.sk-toggleable__content {max-height: 0;max-width: 0;overflow: hidden;text-align: left;background-color: #f0f8ff;}#sk-container-id-6 div.sk-toggleable__content pre {margin: 0.2em;color: black;border-radius: 0.25em;background-color: #f0f8ff;}#sk-container-id-6 input.sk-toggleable__control:checked~div.sk-toggleable__content {max-height: 200px;max-width: 100%;overflow: auto;}#sk-container-id-6 input.sk-toggleable__control:checked~label.sk-toggleable__label-arrow:before {content: \"▾\";}#sk-container-id-6 div.sk-estimator input.sk-toggleable__control:checked~label.sk-toggleable__label {background-color: #d4ebff;}#sk-container-id-6 div.sk-label input.sk-toggleable__control:checked~label.sk-toggleable__label {background-color: #d4ebff;}#sk-container-id-6 input.sk-hidden--visually {border: 0;clip: rect(1px 1px 1px 1px);clip: rect(1px, 1px, 1px, 1px);height: 1px;margin: -1px;overflow: hidden;padding: 0;position: absolute;width: 1px;}#sk-container-id-6 div.sk-estimator {font-family: monospace;background-color: #f0f8ff;border: 1px dotted black;border-radius: 0.25em;box-sizing: border-box;margin-bottom: 0.5em;}#sk-container-id-6 div.sk-estimator:hover {background-color: #d4ebff;}#sk-container-id-6 div.sk-parallel-item::after {content: \"\";width: 100%;border-bottom: 1px solid gray;flex-grow: 1;}#sk-container-id-6 div.sk-label:hover label.sk-toggleable__label {background-color: #d4ebff;}#sk-container-id-6 div.sk-serial::before {content: \"\";position: absolute;border-left: 1px solid gray;box-sizing: border-box;top: 0;bottom: 0;left: 50%;z-index: 0;}#sk-container-id-6 div.sk-serial {display: flex;flex-direction: column;align-items: center;background-color: white;padding-right: 0.2em;padding-left: 0.2em;position: relative;}#sk-container-id-6 div.sk-item {position: relative;z-index: 1;}#sk-container-id-6 div.sk-parallel {display: flex;align-items: stretch;justify-content: center;background-color: white;position: relative;}#sk-container-id-6 div.sk-item::before, #sk-container-id-6 div.sk-parallel-item::before {content: \"\";position: absolute;border-left: 1px solid gray;box-sizing: border-box;top: 0;bottom: 0;left: 50%;z-index: -1;}#sk-container-id-6 div.sk-parallel-item {display: flex;flex-direction: column;z-index: 1;position: relative;background-color: white;}#sk-container-id-6 div.sk-parallel-item:first-child::after {align-self: flex-end;width: 50%;}#sk-container-id-6 div.sk-parallel-item:last-child::after {align-self: flex-start;width: 50%;}#sk-container-id-6 div.sk-parallel-item:only-child::after {width: 0;}#sk-container-id-6 div.sk-dashed-wrapped {border: 1px dashed gray;margin: 0 0.4em 0.5em 0.4em;box-sizing: border-box;padding-bottom: 0.4em;background-color: white;}#sk-container-id-6 div.sk-label label {font-family: monospace;font-weight: bold;display: inline-block;line-height: 1.2em;}#sk-container-id-6 div.sk-label-container {text-align: center;}#sk-container-id-6 div.sk-container {/* jupyter's `normalize.less` sets `[hidden] { display: none; }` but bootstrap.min.css set `[hidden] { display: none !important; }` so we also need the `!important` here to be able to override the default hidden behavior on the sphinx rendered scikit-learn.org. See: https://github.com/scikit-learn/scikit-learn/issues/21755 */display: inline-block !important;position: relative;}#sk-container-id-6 div.sk-text-repr-fallback {display: none;}</style><div id=\"sk-container-id-6\" class=\"sk-top-container\"><div class=\"sk-text-repr-fallback\"><pre>GridSearchCV(cv=5,\n",
              "             estimator=Pipeline(steps=[(&#x27;preprocessor&#x27;,\n",
              "                                        ColumnTransformer(transformers=[(&#x27;num&#x27;,\n",
              "                                                                         Pipeline(steps=[(&#x27;imputer&#x27;,\n",
              "                                                                                          SimpleImputer()),\n",
              "                                                                                         (&#x27;scaler&#x27;,\n",
              "                                                                                          StandardScaler())]),\n",
              "                                                                         &lt;sklearn.compose._column_transformer.make_column_selector object at 0x7fa2918bf3a0&gt;),\n",
              "                                                                        (&#x27;cat&#x27;,\n",
              "                                                                         Pipeline(steps=[(&#x27;cat_imputer&#x27;,\n",
              "                                                                                          SimpleImputer(strategy=&#x27;most_frequent&#x27;)),\n",
              "                                                                                         (&#x27;one_hot&#x27;,\n",
              "                                                                                          OneHo...\n",
              "                                                                         &lt;sklearn.compose._column_transformer.make_column_selector object at 0x7fa2918bf340&gt;)])),\n",
              "                                       (&#x27;pca&#x27;, PCA()),\n",
              "                                       (&#x27;classifier&#x27;,\n",
              "                                        RandomForestClassifier())]),\n",
              "             n_jobs=-1,\n",
              "             param_grid={&#x27;classifier__max_depth&#x27;: range(5, 10),\n",
              "                         &#x27;classifier__n_estimators&#x27;: range(170, 260, 10),\n",
              "                         &#x27;pca__n_components&#x27;: [11, 12, 13, 14, 15],\n",
              "                         &#x27;preprocessor__num__imputer__strategy&#x27;: [&#x27;mean&#x27;,\n",
              "                                                                  &#x27;median&#x27;,\n",
              "                                                                  &#x27;most_frequent&#x27;]},\n",
              "             scoring=&#x27;accuracy&#x27;, verbose=1)</pre><b>In a Jupyter environment, please rerun this cell to show the HTML representation or trust the notebook. <br />On GitHub, the HTML representation is unable to render, please try loading this page with nbviewer.org.</b></div><div class=\"sk-container\" hidden><div class=\"sk-item sk-dashed-wrapped\"><div class=\"sk-label-container\"><div class=\"sk-label sk-toggleable\"><input class=\"sk-toggleable__control sk-hidden--visually\" id=\"sk-estimator-id-26\" type=\"checkbox\" ><label for=\"sk-estimator-id-26\" class=\"sk-toggleable__label sk-toggleable__label-arrow\">GridSearchCV</label><div class=\"sk-toggleable__content\"><pre>GridSearchCV(cv=5,\n",
              "             estimator=Pipeline(steps=[(&#x27;preprocessor&#x27;,\n",
              "                                        ColumnTransformer(transformers=[(&#x27;num&#x27;,\n",
              "                                                                         Pipeline(steps=[(&#x27;imputer&#x27;,\n",
              "                                                                                          SimpleImputer()),\n",
              "                                                                                         (&#x27;scaler&#x27;,\n",
              "                                                                                          StandardScaler())]),\n",
              "                                                                         &lt;sklearn.compose._column_transformer.make_column_selector object at 0x7fa2918bf3a0&gt;),\n",
              "                                                                        (&#x27;cat&#x27;,\n",
              "                                                                         Pipeline(steps=[(&#x27;cat_imputer&#x27;,\n",
              "                                                                                          SimpleImputer(strategy=&#x27;most_frequent&#x27;)),\n",
              "                                                                                         (&#x27;one_hot&#x27;,\n",
              "                                                                                          OneHo...\n",
              "                                                                         &lt;sklearn.compose._column_transformer.make_column_selector object at 0x7fa2918bf340&gt;)])),\n",
              "                                       (&#x27;pca&#x27;, PCA()),\n",
              "                                       (&#x27;classifier&#x27;,\n",
              "                                        RandomForestClassifier())]),\n",
              "             n_jobs=-1,\n",
              "             param_grid={&#x27;classifier__max_depth&#x27;: range(5, 10),\n",
              "                         &#x27;classifier__n_estimators&#x27;: range(170, 260, 10),\n",
              "                         &#x27;pca__n_components&#x27;: [11, 12, 13, 14, 15],\n",
              "                         &#x27;preprocessor__num__imputer__strategy&#x27;: [&#x27;mean&#x27;,\n",
              "                                                                  &#x27;median&#x27;,\n",
              "                                                                  &#x27;most_frequent&#x27;]},\n",
              "             scoring=&#x27;accuracy&#x27;, verbose=1)</pre></div></div></div><div class=\"sk-parallel\"><div class=\"sk-parallel-item\"><div class=\"sk-item\"><div class=\"sk-label-container\"><div class=\"sk-label sk-toggleable\"><input class=\"sk-toggleable__control sk-hidden--visually\" id=\"sk-estimator-id-27\" type=\"checkbox\" ><label for=\"sk-estimator-id-27\" class=\"sk-toggleable__label sk-toggleable__label-arrow\">estimator: Pipeline</label><div class=\"sk-toggleable__content\"><pre>Pipeline(steps=[(&#x27;preprocessor&#x27;,\n",
              "                 ColumnTransformer(transformers=[(&#x27;num&#x27;,\n",
              "                                                  Pipeline(steps=[(&#x27;imputer&#x27;,\n",
              "                                                                   SimpleImputer()),\n",
              "                                                                  (&#x27;scaler&#x27;,\n",
              "                                                                   StandardScaler())]),\n",
              "                                                  &lt;sklearn.compose._column_transformer.make_column_selector object at 0x7fa2918bf3a0&gt;),\n",
              "                                                 (&#x27;cat&#x27;,\n",
              "                                                  Pipeline(steps=[(&#x27;cat_imputer&#x27;,\n",
              "                                                                   SimpleImputer(strategy=&#x27;most_frequent&#x27;)),\n",
              "                                                                  (&#x27;one_hot&#x27;,\n",
              "                                                                   OneHotEncoder(handle_unknown=&#x27;ignore&#x27;,\n",
              "                                                                                 sparse=False))]),\n",
              "                                                  &lt;sklearn.compose._column_transformer.make_column_selector object at 0x7fa2918bf340&gt;)])),\n",
              "                (&#x27;pca&#x27;, PCA()), (&#x27;classifier&#x27;, RandomForestClassifier())])</pre></div></div></div><div class=\"sk-serial\"><div class=\"sk-item\"><div class=\"sk-serial\"><div class=\"sk-item sk-dashed-wrapped\"><div class=\"sk-label-container\"><div class=\"sk-label sk-toggleable\"><input class=\"sk-toggleable__control sk-hidden--visually\" id=\"sk-estimator-id-28\" type=\"checkbox\" ><label for=\"sk-estimator-id-28\" class=\"sk-toggleable__label sk-toggleable__label-arrow\">preprocessor: ColumnTransformer</label><div class=\"sk-toggleable__content\"><pre>ColumnTransformer(transformers=[(&#x27;num&#x27;,\n",
              "                                 Pipeline(steps=[(&#x27;imputer&#x27;, SimpleImputer()),\n",
              "                                                 (&#x27;scaler&#x27;, StandardScaler())]),\n",
              "                                 &lt;sklearn.compose._column_transformer.make_column_selector object at 0x7fa2918bf3a0&gt;),\n",
              "                                (&#x27;cat&#x27;,\n",
              "                                 Pipeline(steps=[(&#x27;cat_imputer&#x27;,\n",
              "                                                  SimpleImputer(strategy=&#x27;most_frequent&#x27;)),\n",
              "                                                 (&#x27;one_hot&#x27;,\n",
              "                                                  OneHotEncoder(handle_unknown=&#x27;ignore&#x27;,\n",
              "                                                                sparse=False))]),\n",
              "                                 &lt;sklearn.compose._column_transformer.make_column_selector object at 0x7fa2918bf340&gt;)])</pre></div></div></div><div class=\"sk-parallel\"><div class=\"sk-parallel-item\"><div class=\"sk-item\"><div class=\"sk-label-container\"><div class=\"sk-label sk-toggleable\"><input class=\"sk-toggleable__control sk-hidden--visually\" id=\"sk-estimator-id-29\" type=\"checkbox\" ><label for=\"sk-estimator-id-29\" class=\"sk-toggleable__label sk-toggleable__label-arrow\">num</label><div class=\"sk-toggleable__content\"><pre>&lt;sklearn.compose._column_transformer.make_column_selector object at 0x7fa2918bf3a0&gt;</pre></div></div></div><div class=\"sk-serial\"><div class=\"sk-item\"><div class=\"sk-serial\"><div class=\"sk-item\"><div class=\"sk-estimator sk-toggleable\"><input class=\"sk-toggleable__control sk-hidden--visually\" id=\"sk-estimator-id-30\" type=\"checkbox\" ><label for=\"sk-estimator-id-30\" class=\"sk-toggleable__label sk-toggleable__label-arrow\">SimpleImputer</label><div class=\"sk-toggleable__content\"><pre>SimpleImputer()</pre></div></div></div><div class=\"sk-item\"><div class=\"sk-estimator sk-toggleable\"><input class=\"sk-toggleable__control sk-hidden--visually\" id=\"sk-estimator-id-31\" type=\"checkbox\" ><label for=\"sk-estimator-id-31\" class=\"sk-toggleable__label sk-toggleable__label-arrow\">StandardScaler</label><div class=\"sk-toggleable__content\"><pre>StandardScaler()</pre></div></div></div></div></div></div></div></div><div class=\"sk-parallel-item\"><div class=\"sk-item\"><div class=\"sk-label-container\"><div class=\"sk-label sk-toggleable\"><input class=\"sk-toggleable__control sk-hidden--visually\" id=\"sk-estimator-id-32\" type=\"checkbox\" ><label for=\"sk-estimator-id-32\" class=\"sk-toggleable__label sk-toggleable__label-arrow\">cat</label><div class=\"sk-toggleable__content\"><pre>&lt;sklearn.compose._column_transformer.make_column_selector object at 0x7fa2918bf340&gt;</pre></div></div></div><div class=\"sk-serial\"><div class=\"sk-item\"><div class=\"sk-serial\"><div class=\"sk-item\"><div class=\"sk-estimator sk-toggleable\"><input class=\"sk-toggleable__control sk-hidden--visually\" id=\"sk-estimator-id-33\" type=\"checkbox\" ><label for=\"sk-estimator-id-33\" class=\"sk-toggleable__label sk-toggleable__label-arrow\">SimpleImputer</label><div class=\"sk-toggleable__content\"><pre>SimpleImputer(strategy=&#x27;most_frequent&#x27;)</pre></div></div></div><div class=\"sk-item\"><div class=\"sk-estimator sk-toggleable\"><input class=\"sk-toggleable__control sk-hidden--visually\" id=\"sk-estimator-id-34\" type=\"checkbox\" ><label for=\"sk-estimator-id-34\" class=\"sk-toggleable__label sk-toggleable__label-arrow\">OneHotEncoder</label><div class=\"sk-toggleable__content\"><pre>OneHotEncoder(handle_unknown=&#x27;ignore&#x27;, sparse=False)</pre></div></div></div></div></div></div></div></div></div></div><div class=\"sk-item\"><div class=\"sk-estimator sk-toggleable\"><input class=\"sk-toggleable__control sk-hidden--visually\" id=\"sk-estimator-id-35\" type=\"checkbox\" ><label for=\"sk-estimator-id-35\" class=\"sk-toggleable__label sk-toggleable__label-arrow\">PCA</label><div class=\"sk-toggleable__content\"><pre>PCA()</pre></div></div></div><div class=\"sk-item\"><div class=\"sk-estimator sk-toggleable\"><input class=\"sk-toggleable__control sk-hidden--visually\" id=\"sk-estimator-id-36\" type=\"checkbox\" ><label for=\"sk-estimator-id-36\" class=\"sk-toggleable__label sk-toggleable__label-arrow\">RandomForestClassifier</label><div class=\"sk-toggleable__content\"><pre>RandomForestClassifier()</pre></div></div></div></div></div></div></div></div></div></div></div></div>"
            ]
          },
          "metadata": {},
          "execution_count": 89
        }
      ],
      "source": [
        "# Create param grid to hyper parameter tune the model\n",
        "param_grid = {\n",
        "    \"preprocessor__num__imputer__strategy\": [\"mean\", \"median\", \"most_frequent\"], # adjust the strategy for imputation\n",
        "    \"classifier__n_estimators\": range(170,260, 10), # Adjust regularization strength\n",
        "    \"classifier__max_depth\": range(5, 10, 1),\n",
        "    \"pca__n_components\": [11, 12, 13, 14, 15]\n",
        "}\n",
        "\n",
        "grid = GridSearchCV(clf, # Model\n",
        "                    param_grid=param_grid, # Parameters to tune\n",
        "                    cv=5, # Cross Validation\n",
        "                    verbose=1, # Shows output while training \n",
        "                    n_jobs=-1, # How many core to use on your computer (-1 means use all cores)\n",
        "                    scoring=\"accuracy\"\n",
        "                   )\n",
        "\n",
        "grid.fit(X_train,y_train)"
      ]
    },
    {
      "cell_type": "markdown",
      "metadata": {
        "id": "O6FWv0ss2EIb"
      },
      "source": [
        "### Best Version"
      ]
    },
    {
      "cell_type": "code",
      "execution_count": 90,
      "metadata": {
        "id": "PQdTHb0kN5Ps",
        "colab": {
          "base_uri": "https://localhost:8080/"
        },
        "outputId": "4f6dd48f-6b52-4048-cf5b-465abe6dd2c8"
      },
      "outputs": [
        {
          "output_type": "execute_result",
          "data": {
            "text/plain": [
              "{'classifier__max_depth': 9,\n",
              " 'classifier__n_estimators': 200,\n",
              " 'pca__n_components': 14,\n",
              " 'preprocessor__num__imputer__strategy': 'median'}"
            ]
          },
          "metadata": {},
          "execution_count": 90
        }
      ],
      "source": [
        "grid.best_params_"
      ]
    },
    {
      "cell_type": "code",
      "execution_count": 91,
      "metadata": {
        "id": "1VuT4TccNrq8",
        "colab": {
          "base_uri": "https://localhost:8080/"
        },
        "outputId": "ea53cc09-b5f0-4c5c-a2d9-4b4fd3d43425"
      },
      "outputs": [
        {
          "output_type": "execute_result",
          "data": {
            "text/plain": [
              "array(['No MetSyn', 'No MetSyn', 'No MetSyn', 'No MetSyn', 'No MetSyn',\n",
              "       'No MetSyn', 'MetSyn', 'No MetSyn', 'MetSyn', 'No MetSyn',\n",
              "       'No MetSyn', 'MetSyn', 'No MetSyn', 'No MetSyn', 'MetSyn',\n",
              "       'No MetSyn', 'MetSyn', 'MetSyn', 'No MetSyn', 'MetSyn',\n",
              "       'No MetSyn', 'No MetSyn', 'No MetSyn', 'No MetSyn', 'MetSyn',\n",
              "       'No MetSyn', 'No MetSyn', 'No MetSyn', 'No MetSyn', 'No MetSyn',\n",
              "       'MetSyn', 'MetSyn', 'No MetSyn', 'No MetSyn', 'No MetSyn',\n",
              "       'No MetSyn', 'No MetSyn', 'MetSyn', 'No MetSyn', 'No MetSyn',\n",
              "       'MetSyn', 'No MetSyn', 'No MetSyn', 'MetSyn', 'No MetSyn',\n",
              "       'No MetSyn', 'No MetSyn', 'No MetSyn', 'MetSyn', 'No MetSyn',\n",
              "       'MetSyn', 'MetSyn', 'No MetSyn', 'No MetSyn', 'MetSyn',\n",
              "       'No MetSyn', 'MetSyn', 'MetSyn', 'No MetSyn', 'MetSyn',\n",
              "       'No MetSyn', 'No MetSyn', 'No MetSyn', 'No MetSyn', 'No MetSyn',\n",
              "       'MetSyn', 'No MetSyn', 'MetSyn', 'MetSyn', 'No MetSyn',\n",
              "       'No MetSyn', 'No MetSyn', 'No MetSyn', 'No MetSyn', 'No MetSyn',\n",
              "       'No MetSyn', 'No MetSyn', 'MetSyn', 'No MetSyn', 'No MetSyn',\n",
              "       'No MetSyn', 'No MetSyn', 'MetSyn', 'No MetSyn', 'No MetSyn',\n",
              "       'No MetSyn', 'No MetSyn', 'No MetSyn', 'No MetSyn', 'MetSyn',\n",
              "       'MetSyn', 'No MetSyn', 'No MetSyn', 'MetSyn', 'No MetSyn',\n",
              "       'MetSyn', 'No MetSyn', 'MetSyn', 'No MetSyn', 'No MetSyn',\n",
              "       'MetSyn', 'MetSyn', 'No MetSyn', 'No MetSyn', 'MetSyn',\n",
              "       'No MetSyn', 'MetSyn', 'No MetSyn', 'No MetSyn', 'MetSyn',\n",
              "       'No MetSyn', 'MetSyn', 'MetSyn', 'No MetSyn', 'MetSyn',\n",
              "       'No MetSyn', 'No MetSyn', 'MetSyn', 'MetSyn', 'No MetSyn',\n",
              "       'No MetSyn', 'No MetSyn', 'No MetSyn', 'No MetSyn', 'No MetSyn',\n",
              "       'MetSyn', 'No MetSyn', 'No MetSyn', 'No MetSyn', 'No MetSyn',\n",
              "       'No MetSyn', 'No MetSyn', 'No MetSyn', 'MetSyn', 'No MetSyn',\n",
              "       'No MetSyn', 'MetSyn', 'No MetSyn', 'No MetSyn', 'No MetSyn',\n",
              "       'MetSyn', 'No MetSyn', 'No MetSyn', 'No MetSyn', 'No MetSyn',\n",
              "       'No MetSyn', 'No MetSyn', 'MetSyn', 'MetSyn', 'No MetSyn',\n",
              "       'MetSyn', 'No MetSyn', 'No MetSyn', 'No MetSyn', 'MetSyn',\n",
              "       'No MetSyn', 'MetSyn', 'MetSyn', 'No MetSyn', 'No MetSyn',\n",
              "       'No MetSyn', 'MetSyn', 'No MetSyn', 'No MetSyn', 'MetSyn',\n",
              "       'No MetSyn', 'No MetSyn', 'No MetSyn', 'No MetSyn', 'No MetSyn',\n",
              "       'MetSyn', 'No MetSyn', 'No MetSyn', 'No MetSyn', 'MetSyn',\n",
              "       'No MetSyn', 'No MetSyn', 'No MetSyn', 'No MetSyn', 'MetSyn',\n",
              "       'No MetSyn', 'No MetSyn', 'No MetSyn', 'MetSyn', 'No MetSyn',\n",
              "       'No MetSyn', 'No MetSyn', 'MetSyn', 'No MetSyn', 'No MetSyn',\n",
              "       'No MetSyn', 'No MetSyn', 'No MetSyn', 'MetSyn', 'No MetSyn',\n",
              "       'No MetSyn', 'MetSyn', 'No MetSyn', 'MetSyn', 'No MetSyn',\n",
              "       'MetSyn', 'No MetSyn', 'MetSyn', 'No MetSyn', 'No MetSyn',\n",
              "       'No MetSyn', 'No MetSyn', 'No MetSyn', 'MetSyn', 'MetSyn',\n",
              "       'MetSyn', 'MetSyn', 'No MetSyn', 'No MetSyn', 'No MetSyn',\n",
              "       'No MetSyn', 'No MetSyn', 'No MetSyn', 'No MetSyn', 'MetSyn',\n",
              "       'No MetSyn', 'No MetSyn', 'No MetSyn', 'No MetSyn', 'No MetSyn',\n",
              "       'No MetSyn', 'No MetSyn', 'MetSyn', 'MetSyn', 'MetSyn',\n",
              "       'No MetSyn', 'No MetSyn', 'No MetSyn', 'No MetSyn', 'MetSyn',\n",
              "       'No MetSyn', 'MetSyn', 'No MetSyn', 'MetSyn', 'MetSyn',\n",
              "       'No MetSyn', 'MetSyn', 'MetSyn', 'No MetSyn', 'MetSyn', 'MetSyn',\n",
              "       'No MetSyn', 'No MetSyn', 'No MetSyn', 'No MetSyn', 'MetSyn',\n",
              "       'No MetSyn', 'MetSyn', 'No MetSyn', 'No MetSyn', 'MetSyn',\n",
              "       'No MetSyn', 'No MetSyn', 'MetSyn', 'No MetSyn', 'No MetSyn',\n",
              "       'No MetSyn', 'MetSyn', 'MetSyn', 'MetSyn', 'MetSyn', 'MetSyn',\n",
              "       'No MetSyn', 'No MetSyn', 'No MetSyn', 'No MetSyn', 'No MetSyn',\n",
              "       'MetSyn', 'No MetSyn', 'MetSyn', 'No MetSyn', 'MetSyn', 'MetSyn',\n",
              "       'MetSyn', 'MetSyn', 'MetSyn', 'No MetSyn', 'No MetSyn',\n",
              "       'No MetSyn', 'No MetSyn', 'MetSyn', 'No MetSyn', 'No MetSyn',\n",
              "       'MetSyn', 'MetSyn', 'MetSyn', 'No MetSyn', 'MetSyn', 'No MetSyn',\n",
              "       'MetSyn', 'No MetSyn', 'MetSyn', 'MetSyn', 'No MetSyn',\n",
              "       'No MetSyn', 'MetSyn', 'No MetSyn', 'MetSyn', 'No MetSyn',\n",
              "       'No MetSyn', 'MetSyn', 'MetSyn', 'No MetSyn', 'No MetSyn',\n",
              "       'No MetSyn', 'No MetSyn', 'No MetSyn', 'MetSyn', 'MetSyn',\n",
              "       'MetSyn', 'No MetSyn', 'MetSyn', 'No MetSyn', 'No MetSyn',\n",
              "       'No MetSyn', 'No MetSyn', 'No MetSyn', 'No MetSyn', 'MetSyn',\n",
              "       'No MetSyn', 'MetSyn', 'MetSyn', 'No MetSyn', 'MetSyn',\n",
              "       'No MetSyn', 'MetSyn', 'No MetSyn', 'MetSyn', 'MetSyn',\n",
              "       'No MetSyn', 'MetSyn', 'MetSyn', 'No MetSyn', 'No MetSyn',\n",
              "       'No MetSyn', 'MetSyn', 'MetSyn', 'MetSyn', 'No MetSyn',\n",
              "       'No MetSyn', 'No MetSyn', 'No MetSyn', 'MetSyn', 'No MetSyn',\n",
              "       'No MetSyn', 'MetSyn', 'No MetSyn', 'MetSyn', 'No MetSyn',\n",
              "       'No MetSyn', 'No MetSyn', 'No MetSyn', 'No MetSyn', 'No MetSyn',\n",
              "       'No MetSyn', 'MetSyn', 'MetSyn', 'No MetSyn', 'MetSyn', 'MetSyn',\n",
              "       'MetSyn', 'No MetSyn', 'MetSyn', 'No MetSyn', 'No MetSyn',\n",
              "       'No MetSyn', 'No MetSyn', 'No MetSyn', 'No MetSyn', 'MetSyn',\n",
              "       'MetSyn', 'MetSyn', 'MetSyn', 'No MetSyn', 'No MetSyn', 'MetSyn',\n",
              "       'No MetSyn', 'No MetSyn', 'MetSyn', 'No MetSyn', 'No MetSyn',\n",
              "       'No MetSyn', 'No MetSyn', 'No MetSyn', 'No MetSyn', 'No MetSyn',\n",
              "       'No MetSyn', 'MetSyn', 'No MetSyn', 'MetSyn', 'No MetSyn',\n",
              "       'No MetSyn', 'No MetSyn', 'No MetSyn', 'No MetSyn', 'No MetSyn',\n",
              "       'No MetSyn', 'No MetSyn', 'No MetSyn', 'No MetSyn', 'MetSyn',\n",
              "       'MetSyn', 'No MetSyn', 'No MetSyn', 'MetSyn', 'MetSyn',\n",
              "       'No MetSyn', 'No MetSyn', 'No MetSyn', 'MetSyn', 'MetSyn',\n",
              "       'No MetSyn', 'No MetSyn', 'No MetSyn', 'No MetSyn', 'MetSyn',\n",
              "       'No MetSyn', 'MetSyn', 'No MetSyn', 'MetSyn', 'No MetSyn',\n",
              "       'MetSyn', 'MetSyn', 'No MetSyn', 'No MetSyn', 'MetSyn', 'MetSyn',\n",
              "       'No MetSyn', 'No MetSyn', 'MetSyn', 'MetSyn', 'MetSyn',\n",
              "       'No MetSyn', 'MetSyn', 'No MetSyn', 'No MetSyn', 'No MetSyn',\n",
              "       'No MetSyn', 'No MetSyn', 'No MetSyn', 'MetSyn', 'No MetSyn',\n",
              "       'No MetSyn', 'No MetSyn', 'MetSyn', 'No MetSyn', 'MetSyn',\n",
              "       'No MetSyn', 'MetSyn', 'MetSyn', 'No MetSyn', 'MetSyn', 'MetSyn',\n",
              "       'No MetSyn', 'No MetSyn', 'No MetSyn', 'No MetSyn', 'MetSyn',\n",
              "       'No MetSyn', 'MetSyn', 'No MetSyn', 'MetSyn', 'MetSyn',\n",
              "       'No MetSyn', 'MetSyn', 'MetSyn', 'No MetSyn', 'No MetSyn',\n",
              "       'No MetSyn', 'MetSyn', 'No MetSyn', 'No MetSyn', 'MetSyn',\n",
              "       'MetSyn', 'MetSyn', 'No MetSyn', 'No MetSyn', 'No MetSyn',\n",
              "       'No MetSyn', 'No MetSyn', 'MetSyn', 'MetSyn', 'No MetSyn',\n",
              "       'MetSyn', 'No MetSyn', 'MetSyn', 'MetSyn', 'No MetSyn',\n",
              "       'No MetSyn', 'No MetSyn', 'MetSyn', 'No MetSyn', 'No MetSyn',\n",
              "       'No MetSyn', 'MetSyn', 'No MetSyn', 'No MetSyn', 'No MetSyn',\n",
              "       'No MetSyn', 'MetSyn', 'No MetSyn', 'MetSyn', 'No MetSyn',\n",
              "       'MetSyn', 'No MetSyn', 'No MetSyn', 'No MetSyn', 'No MetSyn',\n",
              "       'No MetSyn', 'No MetSyn', 'No MetSyn', 'MetSyn', 'MetSyn',\n",
              "       'No MetSyn', 'No MetSyn', 'MetSyn', 'No MetSyn', 'MetSyn',\n",
              "       'No MetSyn', 'No MetSyn', 'No MetSyn', 'MetSyn', 'No MetSyn',\n",
              "       'No MetSyn', 'No MetSyn', 'MetSyn', 'MetSyn', 'No MetSyn',\n",
              "       'No MetSyn', 'MetSyn', 'No MetSyn', 'No MetSyn', 'No MetSyn',\n",
              "       'No MetSyn', 'MetSyn', 'No MetSyn', 'MetSyn', 'No MetSyn',\n",
              "       'No MetSyn', 'No MetSyn', 'No MetSyn', 'No MetSyn', 'MetSyn',\n",
              "       'MetSyn', 'No MetSyn', 'MetSyn', 'No MetSyn', 'No MetSyn',\n",
              "       'No MetSyn', 'MetSyn', 'No MetSyn', 'No MetSyn', 'MetSyn',\n",
              "       'MetSyn', 'No MetSyn', 'No MetSyn', 'No MetSyn', 'MetSyn',\n",
              "       'No MetSyn', 'No MetSyn', 'MetSyn', 'No MetSyn', 'No MetSyn',\n",
              "       'No MetSyn', 'No MetSyn', 'MetSyn', 'MetSyn', 'No MetSyn',\n",
              "       'No MetSyn', 'MetSyn', 'No MetSyn', 'MetSyn', 'MetSyn',\n",
              "       'No MetSyn', 'No MetSyn', 'No MetSyn', 'MetSyn', 'MetSyn',\n",
              "       'No MetSyn', 'MetSyn', 'No MetSyn', 'No MetSyn', 'No MetSyn',\n",
              "       'No MetSyn', 'No MetSyn', 'No MetSyn', 'MetSyn', 'No MetSyn',\n",
              "       'MetSyn', 'MetSyn', 'No MetSyn', 'No MetSyn', 'No MetSyn',\n",
              "       'No MetSyn', 'MetSyn', 'MetSyn'], dtype=object)"
            ]
          },
          "metadata": {},
          "execution_count": 91
        }
      ],
      "source": [
        "grid.best_estimator_.predict(X_test)"
      ]
    },
    {
      "cell_type": "code",
      "execution_count": 92,
      "metadata": {
        "id": "A_9-HL9WNooX",
        "colab": {
          "base_uri": "https://localhost:8080/",
          "height": 517
        },
        "outputId": "9dad7c45-b13c-4a38-d096-d622c1157509"
      },
      "outputs": [
        {
          "output_type": "stream",
          "name": "stdout",
          "text": [
            "              precision    recall  f1-score   support\n",
            "\n",
            "      MetSyn       0.71      0.74      0.73       206\n",
            "   No MetSyn       0.86      0.85      0.85       395\n",
            "\n",
            "    accuracy                           0.81       601\n",
            "   macro avg       0.79      0.79      0.79       601\n",
            "weighted avg       0.81      0.81      0.81       601\n",
            "\n"
          ]
        },
        {
          "output_type": "display_data",
          "data": {
            "text/plain": [
              "<Figure size 576x396 with 2 Axes>"
            ],
            "image/png": "[encoded data removed]"
          },
          "metadata": {}
        }
      ],
      "source": [
        "preds = grid.best_estimator_.predict(X_test)\n",
        "ConfusionMatrixDisplay.from_predictions(y_test,preds);\n",
        "print(classification_report(y_test,preds))"
      ]
    },
    {
      "cell_type": "markdown",
      "metadata": {
        "id": "9VVvyof92Ogw"
      },
      "source": [
        "## Recommended Model: Logistic Regression Model\n",
        "- It has the highest accuracy score and f1-score. It is important to minimize the number of false positives and false negatives when dianosing a disease so both type 1 and type 2 errors need to be examined.\n",
        "\n",
        "**Tuned Random Forest Model Test Scores**\n",
        "\n",
        "- accuracy:\n",
        "  - 0.82\n",
        "\n",
        "- f1-score:\n",
        "  - MetSyn     0.74\n",
        "  - No MetSyn  0.87\n",
        "  \n",
        "- precision:\n",
        "  - MetSyn     0.76\n",
        "  - No MetSyn  0.86\n",
        "\n",
        "- recall:\n",
        "  - MetSyn     0.72\n",
        "  - No MetSyn  0.88"
      ]
    }
  ],
  "metadata": {
    "colab": {
      "toc_visible": true,
      "provenance": [],
      "include_colab_link": true
    },
    "kernelspec": {
      "display_name": "Python 3",
      "name": "python3"
    },
    "language_info": {
      "name": "python"
    }
  },
  "nbformat": 4,
  "nbformat_minor": 0
}